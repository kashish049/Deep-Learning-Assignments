{
  "nbformat": 4,
  "nbformat_minor": 0,
  "metadata": {
    "colab": {
      "provenance": [],
      "gpuType": "T4",
      "include_colab_link": true
    },
    "kernelspec": {
      "name": "python3",
      "display_name": "Python 3"
    },
    "language_info": {
      "name": "python"
    },
    "accelerator": "GPU"
  },
  "cells": [
    {
      "cell_type": "markdown",
      "metadata": {
        "id": "view-in-github",
        "colab_type": "text"
      },
      "source": [
        "<a href=\"https://colab.research.google.com/github/kashish049/Deep-Learning-Assignments/blob/main/Assignment1(21dcs024).ipynb\" target=\"_parent\"><img src=\"https://colab.research.google.com/assets/colab-badge.svg\" alt=\"Open In Colab\"/></a>"
      ]
    },
    {
      "cell_type": "markdown",
      "source": [
        "# **1.Designing Single Level Perceptron and checking its output**"
      ],
      "metadata": {
        "id": "G_NN1DF3m6ZZ"
      }
    },
    {
      "cell_type": "code",
      "execution_count": null,
      "metadata": {
        "colab": {
          "base_uri": "https://localhost:8080/"
        },
        "id": "2vraIVbUlKeA",
        "outputId": "f6e20a90-27a9-4285-8b4e-aa00dae287f3"
      },
      "outputs": [
        {
          "output_type": "stream",
          "name": "stdout",
          "text": [
            "OR Gate:\n",
            "\n",
            "Testing the perceptron:\n",
            "Input: [0 0], Predicted Output: 0, Actual Output: 0\n",
            "Input: [0 1], Predicted Output: 1, Actual Output: 1\n",
            "Input: [1 0], Predicted Output: 1, Actual Output: 1\n",
            "Input: [1 1], Predicted Output: 1, Actual Output: 1\n",
            "\n",
            "AND Gate:\n",
            "\n",
            "Testing the perceptron:\n",
            "Input: [0 0], Predicted Output: 0, Actual Output: 0\n",
            "Input: [0 1], Predicted Output: 0, Actual Output: 0\n",
            "Input: [1 0], Predicted Output: 0, Actual Output: 0\n",
            "Input: [1 1], Predicted Output: 1, Actual Output: 1\n",
            "\n",
            "XOR Gate:\n",
            "\n",
            "Testing the perceptron:\n",
            "Input: [0 0], Predicted Output: 1, Actual Output: 0\n",
            "Input: [0 1], Predicted Output: 1, Actual Output: 1\n",
            "Input: [1 0], Predicted Output: 0, Actual Output: 1\n",
            "Input: [1 1], Predicted Output: 1, Actual Output: 0\n",
            "\n",
            "XOR gate cannot be solved by a single-layer perceptron as it is not linearly separable.\n"
          ]
        }
      ],
      "source": [
        "import numpy as np\n",
        "\n",
        "# binary input data\n",
        "X = np.array([[0, 0], [0, 1], [1, 0], [1, 1]])\n",
        "\n",
        "def train_perceptron(X, y, epochs=10, learning_rate=0.1):\n",
        "    weights = np.random.rand(2)\n",
        "    bias = np.random.rand()\n",
        "\n",
        "    # activation function (step function)\n",
        "    def step_function(net_input):\n",
        "        return 1 if net_input > 0 else 0\n",
        "\n",
        "    # Training\n",
        "    for epoch in range(epochs):\n",
        "        for i in range(len(X)):\n",
        "            net_input = np.dot(X[i], weights) + bias\n",
        "            y_pred = step_function(net_input)\n",
        "            # Update weights and bias\n",
        "            error = y[i] - y_pred\n",
        "            weights += learning_rate * error * X[i]\n",
        "            bias += learning_rate * error\n",
        "\n",
        "    print(\"\\nTesting the perceptron:\")\n",
        "    for i in range(len(X)):\n",
        "        net_input = np.dot(X[i], weights) + bias\n",
        "        y_pred = step_function(net_input)\n",
        "        print(f\"Input: {X[i]}, Predicted Output: {y_pred}, Actual Output: {y[i]}\")\n",
        "\n",
        "    return weights, bias\n",
        "\n",
        "# OR gate classification\n",
        "print(\"OR Gate:\")\n",
        "y_or = np.array([0, 1, 1, 1])\n",
        "train_perceptron(X, y_or)\n",
        "\n",
        "# AND gate classification\n",
        "print(\"\\nAND Gate:\")\n",
        "y_and = np.array([0, 0, 0, 1])\n",
        "train_perceptron(X, y_and)\n",
        "\n",
        "# XOR gate classification\n",
        "print(\"\\nXOR Gate:\")\n",
        "y_xor = np.array([0, 1, 1, 0])\n",
        "train_perceptron(X, y_xor)\n",
        "\n",
        "print(\"\\nXOR gate cannot be solved by a single-layer perceptron as it is not linearly separable.\")\n"
      ]
    },
    {
      "cell_type": "markdown",
      "source": [
        "# **2.Taking Perceptron from Sklearn and checking its output**"
      ],
      "metadata": {
        "id": "rmxpl_2FnFXO"
      }
    },
    {
      "cell_type": "code",
      "source": [
        "import numpy as np\n",
        "from sklearn.linear_model import Perceptron\n",
        "from sklearn.metrics import accuracy_score\n",
        "\n",
        "def classify_gate(X, y, gate_name):\n",
        "    # Initialize and train\n",
        "    perceptron = Perceptron(max_iter=1000, tol=1e-3)\n",
        "    perceptron.fit(X, y)\n",
        "\n",
        "    # Testing\n",
        "    y_pred = perceptron.predict(X)\n",
        "\n",
        "    print(f\"\\nResults for {gate_name} gate:\")\n",
        "    print(f\"Predictions: {y_pred}\")\n",
        "    print(f\"Actual:      {y}\")\n",
        "    print(f\"Accuracy:    {accuracy_score(y, y_pred)}\")\n",
        "    if gate_name == \"XOR\":\n",
        "        print(\"Problem: A single-layer perceptron cannot solve XOR as it is not linearly separable.\")\n",
        "\n",
        "# Define the dataset\n",
        "X = np.array([[0, 0], [0, 1], [1, 0], [1, 1]])\n",
        "\n",
        "# OR gate\n",
        "y_or = np.array([0, 1, 1, 1])\n",
        "classify_gate(X, y_or, \"OR\")\n",
        "\n",
        "# AND gate\n",
        "y_and = np.array([0, 0, 0, 1])\n",
        "classify_gate(X, y_and, \"AND\")\n",
        "\n",
        "# XOR gate\n",
        "y_xor = np.array([0, 1, 1, 0])\n",
        "classify_gate(X, y_xor, \"XOR\")\n"
      ],
      "metadata": {
        "colab": {
          "base_uri": "https://localhost:8080/"
        },
        "id": "Rx-wrT2rnLTu",
        "outputId": "52f32f12-f0e2-4aea-feca-17d56d9c4a1e"
      },
      "execution_count": null,
      "outputs": [
        {
          "output_type": "stream",
          "name": "stdout",
          "text": [
            "\n",
            "Results for OR gate:\n",
            "Predictions: [0 1 1 1]\n",
            "Actual:      [0 1 1 1]\n",
            "Accuracy:    1.0\n",
            "\n",
            "Results for AND gate:\n",
            "Predictions: [0 0 0 1]\n",
            "Actual:      [0 0 0 1]\n",
            "Accuracy:    1.0\n",
            "\n",
            "Results for XOR gate:\n",
            "Predictions: [0 0 0 0]\n",
            "Actual:      [0 1 1 0]\n",
            "Accuracy:    0.5\n",
            "Problem: A single-layer perceptron cannot solve XOR as it is not linearly separable.\n"
          ]
        }
      ]
    },
    {
      "cell_type": "markdown",
      "source": [
        "# **3.Taking Perceptron from training on MNIST Dataset**"
      ],
      "metadata": {
        "id": "FAyyIpeeuOLt"
      }
    },
    {
      "cell_type": "code",
      "source": [
        "from tensorflow.keras.datasets import mnist\n",
        "from sklearn.linear_model import Perceptron\n",
        "from sklearn.metrics import accuracy_score\n",
        "from sklearn.preprocessing import StandardScaler\n",
        "from sklearn.model_selection import train_test_split\n",
        "\n",
        "# MNIST dataset\n",
        "(X_train, y_train), (X_test, y_test) = mnist.load_data()\n",
        "\n",
        "# normalize the data\n",
        "X_train = X_train.reshape(-1, 28 * 28).astype('float32') / 255.0\n",
        "X_test = X_test.reshape(-1, 28 * 28).astype('float32') / 255.0\n",
        "\n",
        "X_train, _, y_train, _ = train_test_split(X_train, y_train, test_size=0.8, random_state=42)\n",
        "\n",
        "# Perceptron\n",
        "perceptron = Perceptron(max_iter=100, eta0=0.1, random_state=42)\n",
        "perceptron.fit(X_train, y_train)\n",
        "\n",
        "y_pred = perceptron.predict(X_test)\n",
        "\n",
        "# accuracy\n",
        "accuracy = accuracy_score(y_test, y_pred)\n",
        "print(f\"Accuracy on MNIST test set: {accuracy}\")\n"
      ],
      "metadata": {
        "colab": {
          "base_uri": "https://localhost:8080/"
        },
        "id": "bG8wHpQuqy-Q",
        "outputId": "3d8d8bb1-35d3-44f8-eb72-48869c429a80"
      },
      "execution_count": null,
      "outputs": [
        {
          "output_type": "stream",
          "name": "stdout",
          "text": [
            "Accuracy on MNIST test set: 0.8604\n"
          ]
        }
      ]
    }
  ]
}