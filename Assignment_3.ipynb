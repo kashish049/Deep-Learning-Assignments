{
  "cells": [
    {
      "cell_type": "markdown",
      "metadata": {
        "id": "view-in-github",
        "colab_type": "text"
      },
      "source": [
        "<a href=\"https://colab.research.google.com/github/kashish049/Deep-Learning-Assignments/blob/main/Assignment_3.ipynb\" target=\"_parent\"><img src=\"https://colab.research.google.com/assets/colab-badge.svg\" alt=\"Open In Colab\"/></a>"
      ]
    },
    {
      "cell_type": "markdown",
      "source": [
        "# **1.Implement and use gradient descent (and its variants) with backpropagation for a classification task**"
      ],
      "metadata": {
        "id": "65kzghKsHQKH"
      }
    },
    {
      "cell_type": "markdown",
      "source": [
        "Dataset i am using is Fashion-MNIST dataset"
      ],
      "metadata": {
        "id": "0lZ5ZAdRHZLP"
      }
    },
    {
      "cell_type": "code",
      "execution_count": null,
      "metadata": {
        "colab": {
          "base_uri": "https://localhost:8080/",
          "height": 538
        },
        "id": "04vOoOwAfAfX",
        "outputId": "2adceb22-f37e-45dd-908f-429cd71cb02e"
      },
      "outputs": [
        {
          "output_type": "stream",
          "name": "stderr",
          "text": [
            "\u001b[34m\u001b[1mwandb\u001b[0m: Using wandb-core as the SDK backend.  Please refer to https://wandb.me/wandb-core for more information.\n",
            "\u001b[34m\u001b[1mwandb\u001b[0m: Currently logged in as: \u001b[33m21dcs024\u001b[0m (\u001b[33m21dcs024-national-institute-of-technology-hamirpur\u001b[0m). Use \u001b[1m`wandb login --relogin`\u001b[0m to force relogin\n",
            "\u001b[34m\u001b[1mwandb\u001b[0m: \u001b[33mWARNING\u001b[0m If you're specifying your api key in code, ensure this code is not shared publicly.\n",
            "\u001b[34m\u001b[1mwandb\u001b[0m: \u001b[33mWARNING\u001b[0m Consider setting the WANDB_API_KEY environment variable, or running `wandb login` from the command line.\n",
            "\u001b[34m\u001b[1mwandb\u001b[0m: Appending key for api.wandb.ai to your netrc file: /root/.netrc\n"
          ]
        },
        {
          "output_type": "display_data",
          "data": {
            "text/plain": [
              "<IPython.core.display.HTML object>"
            ],
            "text/html": [
              "Tracking run with wandb version 0.19.1"
            ]
          },
          "metadata": {}
        },
        {
          "output_type": "display_data",
          "data": {
            "text/plain": [
              "<IPython.core.display.HTML object>"
            ],
            "text/html": [
              "Run data is saved locally in <code>/content/wandb/run-20250217_160045-s2avp9b9</code>"
            ]
          },
          "metadata": {}
        },
        {
          "output_type": "display_data",
          "data": {
            "text/plain": [
              "<IPython.core.display.HTML object>"
            ],
            "text/html": [
              "Syncing run <strong><a href='https://wandb.ai/21dcs024-national-institute-of-technology-hamirpur/assignment_3/runs/s2avp9b9' target=\"_blank\">youthful-field-1</a></strong> to <a href='https://wandb.ai/21dcs024-national-institute-of-technology-hamirpur/assignment_3' target=\"_blank\">Weights & Biases</a> (<a href='https://wandb.me/developer-guide' target=\"_blank\">docs</a>)<br>"
            ]
          },
          "metadata": {}
        },
        {
          "output_type": "display_data",
          "data": {
            "text/plain": [
              "<IPython.core.display.HTML object>"
            ],
            "text/html": [
              " View project at <a href='https://wandb.ai/21dcs024-national-institute-of-technology-hamirpur/assignment_3' target=\"_blank\">https://wandb.ai/21dcs024-national-institute-of-technology-hamirpur/assignment_3</a>"
            ]
          },
          "metadata": {}
        },
        {
          "output_type": "display_data",
          "data": {
            "text/plain": [
              "<IPython.core.display.HTML object>"
            ],
            "text/html": [
              " View run at <a href='https://wandb.ai/21dcs024-national-institute-of-technology-hamirpur/assignment_3/runs/s2avp9b9' target=\"_blank\">https://wandb.ai/21dcs024-national-institute-of-technology-hamirpur/assignment_3/runs/s2avp9b9</a>"
            ]
          },
          "metadata": {}
        },
        {
          "output_type": "stream",
          "name": "stdout",
          "text": [
            "Downloading http://fashion-mnist.s3-website.eu-central-1.amazonaws.com/train-images-idx3-ubyte.gz\n",
            "Downloading http://fashion-mnist.s3-website.eu-central-1.amazonaws.com/train-images-idx3-ubyte.gz to ./data/FashionMNIST/raw/train-images-idx3-ubyte.gz\n"
          ]
        },
        {
          "output_type": "stream",
          "name": "stderr",
          "text": [
            "100%|██████████| 26.4M/26.4M [00:02<00:00, 12.4MB/s]\n"
          ]
        },
        {
          "output_type": "stream",
          "name": "stdout",
          "text": [
            "Extracting ./data/FashionMNIST/raw/train-images-idx3-ubyte.gz to ./data/FashionMNIST/raw\n",
            "\n",
            "Downloading http://fashion-mnist.s3-website.eu-central-1.amazonaws.com/train-labels-idx1-ubyte.gz\n",
            "Downloading http://fashion-mnist.s3-website.eu-central-1.amazonaws.com/train-labels-idx1-ubyte.gz to ./data/FashionMNIST/raw/train-labels-idx1-ubyte.gz\n"
          ]
        },
        {
          "output_type": "stream",
          "name": "stderr",
          "text": [
            "100%|██████████| 29.5k/29.5k [00:00<00:00, 202kB/s]\n"
          ]
        },
        {
          "output_type": "stream",
          "name": "stdout",
          "text": [
            "Extracting ./data/FashionMNIST/raw/train-labels-idx1-ubyte.gz to ./data/FashionMNIST/raw\n",
            "\n",
            "Downloading http://fashion-mnist.s3-website.eu-central-1.amazonaws.com/t10k-images-idx3-ubyte.gz\n",
            "Downloading http://fashion-mnist.s3-website.eu-central-1.amazonaws.com/t10k-images-idx3-ubyte.gz to ./data/FashionMNIST/raw/t10k-images-idx3-ubyte.gz\n"
          ]
        },
        {
          "output_type": "stream",
          "name": "stderr",
          "text": [
            "100%|██████████| 4.42M/4.42M [00:01<00:00, 3.79MB/s]\n"
          ]
        },
        {
          "output_type": "stream",
          "name": "stdout",
          "text": [
            "Extracting ./data/FashionMNIST/raw/t10k-images-idx3-ubyte.gz to ./data/FashionMNIST/raw\n",
            "\n",
            "Downloading http://fashion-mnist.s3-website.eu-central-1.amazonaws.com/t10k-labels-idx1-ubyte.gz\n",
            "Downloading http://fashion-mnist.s3-website.eu-central-1.amazonaws.com/t10k-labels-idx1-ubyte.gz to ./data/FashionMNIST/raw/t10k-labels-idx1-ubyte.gz\n"
          ]
        },
        {
          "output_type": "stream",
          "name": "stderr",
          "text": [
            "100%|██████████| 5.15k/5.15k [00:00<00:00, 5.86MB/s]"
          ]
        },
        {
          "output_type": "stream",
          "name": "stdout",
          "text": [
            "Extracting ./data/FashionMNIST/raw/t10k-labels-idx1-ubyte.gz to ./data/FashionMNIST/raw\n",
            "\n"
          ]
        },
        {
          "output_type": "stream",
          "name": "stderr",
          "text": [
            "\n"
          ]
        }
      ],
      "source": [
        "import wandb\n",
        "import torch\n",
        "import torch.nn as nn\n",
        "import torch.optim as optim\n",
        "import torchvision\n",
        "import torchvision.transforms as transforms\n",
        "from torch.utils.data import DataLoader\n",
        "\n",
        "# Initialize Weights & Biases\n",
        "wandb.login(key=\"81acef3a46f4efeed0f3c689d3bce0f0fd9bce24\")\n",
        "run = wandb.init(\n",
        "    project='assignment_3',\n",
        "    job_type=\"training\"\n",
        ")\n",
        "\n",
        "# Load Fashion MNIST dataset\n",
        "transform = transforms.Compose([transforms.ToTensor()])\n",
        "train_dataset = torchvision.datasets.FashionMNIST(root=\"./data\", train=True, transform=transform, download=True)\n",
        "test_dataset = torchvision.datasets.FashionMNIST(root=\"./data\", train=False, transform=transform, download=True)\n",
        "train_loader = DataLoader(train_dataset, batch_size=64, shuffle=True)\n",
        "test_loader = DataLoader(test_dataset, batch_size=64, shuffle=False)\n",
        "\n"
      ]
    },
    {
      "cell_type": "code",
      "execution_count": null,
      "metadata": {
        "id": "sgYnvmoRfkp5"
      },
      "outputs": [],
      "source": [
        "# Initialize model parameters\n",
        "input_size = 28 * 28\n",
        "hidden_size = 128\n",
        "output_size = 10\n",
        "\n",
        "# Define model layers\n",
        "fc1 = nn.Linear(input_size, hidden_size)\n",
        "fc2 = nn.Linear(hidden_size, output_size)\n",
        "\n",
        "# Define loss function and optimizer\n",
        "criterion = nn.CrossEntropyLoss()\n",
        "optimizer = optim.SGD(list(fc1.parameters()) + list(fc2.parameters()), lr=0.01)"
      ]
    },
    {
      "cell_type": "markdown",
      "source": [
        "**Training for 5 epochs.**"
      ],
      "metadata": {
        "id": "fbYsRUKZHgZO"
      }
    },
    {
      "cell_type": "code",
      "source": [
        "# Training\n",
        "epochs = 5\n",
        "for epoch in range(epochs):\n",
        "    total_loss = 0\n",
        "    correct = 0\n",
        "    total = 0\n",
        "    for images, labels in train_loader:\n",
        "        images = images.view(-1, input_size)  # Flatten input\n",
        "\n",
        "        # Forward pass\n",
        "        hidden = torch.relu(fc1(images))\n",
        "        outputs = fc2(hidden)\n",
        "\n",
        "        loss = criterion(outputs, labels)\n",
        "\n",
        "        # Backward pass\n",
        "        optimizer.zero_grad()\n",
        "        loss.backward()\n",
        "        optimizer.step()\n",
        "        total_loss += loss.item()\n",
        "\n",
        "        # Calculate accuracy\n",
        "        _, predicted = torch.max(outputs, 1)\n",
        "        total += labels.size(0)\n",
        "        correct += (predicted == labels).sum().item()\n",
        "\n",
        "    avg_loss = total_loss / len(train_loader)\n",
        "    accuracy = 100 * correct / total\n",
        "    wandb.log({\"loss\": avg_loss, \"accuracy\": accuracy, \"epoch\": epoch + 1})\n",
        "    print(f\"Epoch {epoch+1}: Loss = {avg_loss:.4f}, Accuracy = {accuracy:.2f}%\")\n",
        "\n",
        "# Evaluate the model\n",
        "correct = 0\n",
        "total = 0\n",
        "with torch.no_grad():\n",
        "    for images, labels in test_loader:\n",
        "        images = images.view(-1, input_size)  # Flatten input\n",
        "        hidden = torch.relu(fc1(images))\n",
        "        outputs = fc2(hidden)\n",
        "        _, predicted = torch.max(outputs, 1)\n",
        "        total += labels.size(0)\n",
        "        correct += (predicted == labels).sum().item()\n",
        "\n",
        "accuracy = 100 * correct / total\n",
        "wandb.log({\"test_accuracy\": accuracy})\n",
        "print(f\"Test Accuracy: {accuracy:.2f}%\")\n",
        "\n",
        "wandb.finish()"
      ],
      "metadata": {
        "colab": {
          "base_uri": "https://localhost:8080/",
          "height": 547
        },
        "id": "z7S21B_gGWOh",
        "outputId": "2ac3652c-ce05-4bec-d6df-fec71b424519"
      },
      "execution_count": null,
      "outputs": [
        {
          "output_type": "stream",
          "name": "stdout",
          "text": [
            "Epoch 1: Loss = 1.1424, Accuracy = 65.85%\n",
            "Epoch 2: Loss = 0.6688, Accuracy = 77.45%\n",
            "Epoch 3: Loss = 0.5743, Accuracy = 80.73%\n",
            "Epoch 4: Loss = 0.5280, Accuracy = 82.14%\n",
            "Epoch 5: Loss = 0.4997, Accuracy = 82.94%\n",
            "Test Accuracy: 81.17%\n"
          ]
        },
        {
          "output_type": "display_data",
          "data": {
            "text/plain": [
              "<IPython.core.display.HTML object>"
            ],
            "text/html": []
          },
          "metadata": {}
        },
        {
          "output_type": "display_data",
          "data": {
            "text/plain": [
              "<IPython.core.display.HTML object>"
            ],
            "text/html": [
              "<br>    <style><br>        .wandb-row {<br>            display: flex;<br>            flex-direction: row;<br>            flex-wrap: wrap;<br>            justify-content: flex-start;<br>            width: 100%;<br>        }<br>        .wandb-col {<br>            display: flex;<br>            flex-direction: column;<br>            flex-basis: 100%;<br>            flex: 1;<br>            padding: 10px;<br>        }<br>    </style><br><div class=\"wandb-row\"><div class=\"wandb-col\"><h3>Run history:</h3><br/><table class=\"wandb\"><tr><td>accuracy</td><td>▁▆▇██</td></tr><tr><td>epoch</td><td>▁▃▅▆█</td></tr><tr><td>loss</td><td>█▃▂▁▁</td></tr><tr><td>test_accuracy</td><td>▁</td></tr></table><br/></div><div class=\"wandb-col\"><h3>Run summary:</h3><br/><table class=\"wandb\"><tr><td>accuracy</td><td>82.93833</td></tr><tr><td>epoch</td><td>5</td></tr><tr><td>loss</td><td>0.49974</td></tr><tr><td>test_accuracy</td><td>81.17</td></tr></table><br/></div></div>"
            ]
          },
          "metadata": {}
        },
        {
          "output_type": "display_data",
          "data": {
            "text/plain": [
              "<IPython.core.display.HTML object>"
            ],
            "text/html": [
              " View run <strong style=\"color:#cdcd00\">youthful-field-1</strong> at: <a href='https://wandb.ai/21dcs024-national-institute-of-technology-hamirpur/assignment_3/runs/s2avp9b9' target=\"_blank\">https://wandb.ai/21dcs024-national-institute-of-technology-hamirpur/assignment_3/runs/s2avp9b9</a><br> View project at: <a href='https://wandb.ai/21dcs024-national-institute-of-technology-hamirpur/assignment_3' target=\"_blank\">https://wandb.ai/21dcs024-national-institute-of-technology-hamirpur/assignment_3</a><br>Synced 5 W&B file(s), 0 media file(s), 0 artifact file(s) and 0 other file(s)"
            ]
          },
          "metadata": {}
        },
        {
          "output_type": "display_data",
          "data": {
            "text/plain": [
              "<IPython.core.display.HTML object>"
            ],
            "text/html": [
              "Find logs at: <code>./wandb/run-20250217_160045-s2avp9b9/logs</code>"
            ]
          },
          "metadata": {}
        }
      ]
    },
    {
      "cell_type": "markdown",
      "source": [
        "**Training for another 10 epochs.**"
      ],
      "metadata": {
        "id": "tLHonyCgHkr6"
      }
    },
    {
      "cell_type": "code",
      "source": [
        "# Training\n",
        "epochs = 10\n",
        "# Reinitialize wandb for the second training loop\n",
        "run = wandb.init(\n",
        "    project='fashion-mnist-experiment_assignment_3',\n",
        "    job_type=\"training\"\n",
        ")\n",
        "for epoch in range(epochs):\n",
        "    total_loss = 0\n",
        "    correct = 0\n",
        "    total = 0\n",
        "    for images, labels in train_loader:\n",
        "        images = images.view(-1, input_size)  # Flatten input\n",
        "\n",
        "        # Forward pass\n",
        "        hidden = torch.relu(fc1(images))\n",
        "        outputs = fc2(hidden)\n",
        "\n",
        "        loss = criterion(outputs, labels)\n",
        "\n",
        "        # Backward pass\n",
        "        optimizer.zero_grad()\n",
        "        loss.backward()\n",
        "        optimizer.step()\n",
        "        total_loss += loss.item()\n",
        "\n",
        "        # Calculate accuracy\n",
        "        _, predicted = torch.max(outputs, 1)\n",
        "        total += labels.size(0)\n",
        "        correct += (predicted == labels).sum().item()\n",
        "\n",
        "    avg_loss = total_loss / len(train_loader)\n",
        "    accuracy = 100 * correct / total\n",
        "    wandb.log({\"loss\": avg_loss, \"accuracy\": accuracy, \"epoch\": epoch + 1})\n",
        "    print(f\"Epoch {epoch+1}: Loss = {avg_loss:.4f}, Accuracy = {accuracy:.2f}%\")\n",
        "\n",
        "# Evaluate the model\n",
        "correct = 0\n",
        "total = 0\n",
        "with torch.no_grad():\n",
        "    for images, labels in test_loader:\n",
        "        images = images.view(-1, input_size)  # Flatten input\n",
        "        hidden = torch.relu(fc1(images))\n",
        "        outputs = fc2(hidden)\n",
        "        _, predicted = torch.max(outputs, 1)\n",
        "        total += labels.size(0)\n",
        "        correct += (predicted == labels).sum().item()\n",
        "\n",
        "accuracy = 100 * correct / total\n",
        "wandb.log({\"test_accuracy\": accuracy})\n",
        "print(f\"Test Accuracy: {accuracy:.2f}%\")\n",
        "\n",
        "wandb.finish()"
      ],
      "metadata": {
        "colab": {
          "base_uri": "https://localhost:8080/",
          "height": 720
        },
        "id": "UJyBky_UG9dh",
        "outputId": "8594088c-9803-44d3-f200-4a2562807e51"
      },
      "execution_count": null,
      "outputs": [
        {
          "output_type": "display_data",
          "data": {
            "text/plain": [
              "<IPython.core.display.HTML object>"
            ],
            "text/html": [
              "Tracking run with wandb version 0.19.1"
            ]
          },
          "metadata": {}
        },
        {
          "output_type": "display_data",
          "data": {
            "text/plain": [
              "<IPython.core.display.HTML object>"
            ],
            "text/html": [
              "Run data is saved locally in <code>/content/wandb/run-20250217_160344-rt6ayz4t</code>"
            ]
          },
          "metadata": {}
        },
        {
          "output_type": "display_data",
          "data": {
            "text/plain": [
              "<IPython.core.display.HTML object>"
            ],
            "text/html": [
              "Syncing run <strong><a href='https://wandb.ai/21dcs024-national-institute-of-technology-hamirpur/fashion-mnist-experiment_assignment_3/runs/rt6ayz4t' target=\"_blank\">golden-sky-1</a></strong> to <a href='https://wandb.ai/21dcs024-national-institute-of-technology-hamirpur/fashion-mnist-experiment_assignment_3' target=\"_blank\">Weights & Biases</a> (<a href='https://wandb.me/developer-guide' target=\"_blank\">docs</a>)<br>"
            ]
          },
          "metadata": {}
        },
        {
          "output_type": "display_data",
          "data": {
            "text/plain": [
              "<IPython.core.display.HTML object>"
            ],
            "text/html": [
              " View project at <a href='https://wandb.ai/21dcs024-national-institute-of-technology-hamirpur/fashion-mnist-experiment_assignment_3' target=\"_blank\">https://wandb.ai/21dcs024-national-institute-of-technology-hamirpur/fashion-mnist-experiment_assignment_3</a>"
            ]
          },
          "metadata": {}
        },
        {
          "output_type": "display_data",
          "data": {
            "text/plain": [
              "<IPython.core.display.HTML object>"
            ],
            "text/html": [
              " View run at <a href='https://wandb.ai/21dcs024-national-institute-of-technology-hamirpur/fashion-mnist-experiment_assignment_3/runs/rt6ayz4t' target=\"_blank\">https://wandb.ai/21dcs024-national-institute-of-technology-hamirpur/fashion-mnist-experiment_assignment_3/runs/rt6ayz4t</a>"
            ]
          },
          "metadata": {}
        },
        {
          "output_type": "stream",
          "name": "stdout",
          "text": [
            "Epoch 1: Loss = 0.4659, Accuracy = 83.91%\n",
            "Epoch 2: Loss = 0.4547, Accuracy = 84.25%\n",
            "Epoch 3: Loss = 0.4457, Accuracy = 84.60%\n",
            "Epoch 4: Loss = 0.4373, Accuracy = 84.81%\n",
            "Epoch 5: Loss = 0.4307, Accuracy = 85.15%\n",
            "Epoch 6: Loss = 0.4237, Accuracy = 85.25%\n",
            "Epoch 7: Loss = 0.4182, Accuracy = 85.61%\n",
            "Epoch 8: Loss = 0.4126, Accuracy = 85.70%\n",
            "Epoch 9: Loss = 0.4070, Accuracy = 85.87%\n",
            "Epoch 10: Loss = 0.4021, Accuracy = 86.04%\n",
            "Test Accuracy: 84.54%\n"
          ]
        },
        {
          "output_type": "display_data",
          "data": {
            "text/plain": [
              "<IPython.core.display.HTML object>"
            ],
            "text/html": []
          },
          "metadata": {}
        },
        {
          "output_type": "display_data",
          "data": {
            "text/plain": [
              "<IPython.core.display.HTML object>"
            ],
            "text/html": [
              "<br>    <style><br>        .wandb-row {<br>            display: flex;<br>            flex-direction: row;<br>            flex-wrap: wrap;<br>            justify-content: flex-start;<br>            width: 100%;<br>        }<br>        .wandb-col {<br>            display: flex;<br>            flex-direction: column;<br>            flex-basis: 100%;<br>            flex: 1;<br>            padding: 10px;<br>        }<br>    </style><br><div class=\"wandb-row\"><div class=\"wandb-col\"><h3>Run history:</h3><br/><table class=\"wandb\"><tr><td>accuracy</td><td>▁▂▃▄▅▅▇▇▇█</td></tr><tr><td>epoch</td><td>▁▂▃▃▄▅▆▆▇█</td></tr><tr><td>loss</td><td>█▇▆▅▄▃▃▂▂▁</td></tr><tr><td>test_accuracy</td><td>▁</td></tr></table><br/></div><div class=\"wandb-col\"><h3>Run summary:</h3><br/><table class=\"wandb\"><tr><td>accuracy</td><td>86.04333</td></tr><tr><td>epoch</td><td>10</td></tr><tr><td>loss</td><td>0.40214</td></tr><tr><td>test_accuracy</td><td>84.54</td></tr></table><br/></div></div>"
            ]
          },
          "metadata": {}
        },
        {
          "output_type": "display_data",
          "data": {
            "text/plain": [
              "<IPython.core.display.HTML object>"
            ],
            "text/html": [
              " View run <strong style=\"color:#cdcd00\">golden-sky-1</strong> at: <a href='https://wandb.ai/21dcs024-national-institute-of-technology-hamirpur/fashion-mnist-experiment_assignment_3/runs/rt6ayz4t' target=\"_blank\">https://wandb.ai/21dcs024-national-institute-of-technology-hamirpur/fashion-mnist-experiment_assignment_3/runs/rt6ayz4t</a><br> View project at: <a href='https://wandb.ai/21dcs024-national-institute-of-technology-hamirpur/fashion-mnist-experiment_assignment_3' target=\"_blank\">https://wandb.ai/21dcs024-national-institute-of-technology-hamirpur/fashion-mnist-experiment_assignment_3</a><br>Synced 5 W&B file(s), 0 media file(s), 0 artifact file(s) and 0 other file(s)"
            ]
          },
          "metadata": {}
        },
        {
          "output_type": "display_data",
          "data": {
            "text/plain": [
              "<IPython.core.display.HTML object>"
            ],
            "text/html": [
              "Find logs at: <code>./wandb/run-20250217_160344-rt6ayz4t/logs</code>"
            ]
          },
          "metadata": {}
        }
      ]
    },
    {
      "cell_type": "markdown",
      "metadata": {
        "id": "WyDQpe-ZdH5G"
      },
      "source": [
        "# **Implement the backpropagation algorithm with support for the following**\n",
        "\n",
        "\n",
        "\n",
        "*   optimization functions\n",
        "*   sgd\n",
        "*   momentum based gradient descent\n",
        "*   nesterov accelerated gradient descent\n",
        "*   rmsprop\n",
        "*   adam\n",
        "*   adamw (Weight decay)\n",
        "*   nadam\n",
        "*   gradient descent,\n",
        "*   Adadelta\n",
        "*   SWA StochastiAdaTune\n",
        "*   autotune - Automated Hyperparameter Tuning Framework\n",
        "\n",
        "\n",
        "\n",
        "**Dataset i am using is Fashion-MNIST dataset**"
      ]
    },
    {
      "cell_type": "code",
      "execution_count": null,
      "metadata": {
        "id": "xqdflG8YcKsv"
      },
      "outputs": [],
      "source": [
        "import torch\n",
        "import torch.nn as nn\n",
        "import torch.optim as optim\n",
        "from torchvision import datasets, transforms\n",
        "from torch.utils.data import DataLoader\n"
      ]
    },
    {
      "cell_type": "code",
      "execution_count": null,
      "metadata": {
        "id": "47MBNML4cTY-"
      },
      "outputs": [],
      "source": [
        "#Fashion-MNIST dataset\n",
        "transform = transforms.Compose([transforms.ToTensor(), transforms.Normalize((0.5,), (0.5,))])\n",
        "train_dataset = datasets.FashionMNIST(root=\"./data\", train=True, transform=transform, download=True)\n",
        "train_loader = DataLoader(train_dataset, batch_size=64, shuffle=True)"
      ]
    },
    {
      "cell_type": "code",
      "execution_count": null,
      "metadata": {
        "id": "qaN2yql8cffL"
      },
      "outputs": [],
      "source": [
        "# Define a simple neural network\n",
        "def create_model():\n",
        "    return nn.Sequential(\n",
        "        nn.Flatten(),\n",
        "        nn.Linear(28 * 28, 128), nn.ReLU(),\n",
        "        nn.Linear(128, 64), nn.ReLU(),\n",
        "        nn.Linear(64, 10)  # 10 classes for Fashion-MNIST\n",
        "    )"
      ]
    },
    {
      "cell_type": "code",
      "execution_count": null,
      "metadata": {
        "id": "ybwZ7xUKciqC"
      },
      "outputs": [],
      "source": [
        "# Choose optimizer\n",
        "def get_optimizer(name, model, lr=0.001):\n",
        "    if name == \"sgd\":\n",
        "        return optim.SGD(model.parameters(), lr=lr)\n",
        "    if name == \"momentum\":\n",
        "        return optim.SGD(model.parameters(), lr=lr, momentum=0.9)\n",
        "    if name == \"nesterov\":\n",
        "        return optim.SGD(model.parameters(), lr=lr, momentum=0.9, nesterov=True)\n",
        "    if name == \"rmsprop\":\n",
        "        return optim.RMSprop(model.parameters(), lr=lr)\n",
        "    if name == \"adam\":\n",
        "        return optim.Adam(model.parameters(), lr=lr)\n",
        "    if name == \"adamw\":\n",
        "        return optim.AdamW(model.parameters(), lr=lr, weight_decay=0.0001)\n",
        "    if name == \"nadam\":\n",
        "        return optim.NAdam(model.parameters(), lr=lr)\n",
        "    if name == \"adadelta\":\n",
        "        return optim.Adadelta(model.parameters(), lr=lr)\n",
        "    return None"
      ]
    },
    {
      "cell_type": "code",
      "execution_count": null,
      "metadata": {
        "id": "XM1B0C66cl-0"
      },
      "outputs": [],
      "source": [
        "# Training function\n",
        "def train_model(model, optimizer_name, train_loader, num_epochs=5, device=\"cuda\"):\n",
        "    model.to(device)\n",
        "    optimizer = get_optimizer(optimizer_name, model)\n",
        "    criterion = nn.CrossEntropyLoss()\n",
        "\n",
        "    for epoch in range(num_epochs):\n",
        "        total_loss = 0\n",
        "        for images, labels in train_loader:\n",
        "            images, labels = images.to(device), labels.to(device)\n",
        "\n",
        "            optimizer.zero_grad()\n",
        "            outputs = model(images)\n",
        "            loss = criterion(outputs, labels)\n",
        "            loss.backward()\n",
        "            optimizer.step()\n",
        "\n",
        "            total_loss += loss.item()\n",
        "\n",
        "        print(f\"Epoch {epoch+1}/{num_epochs}, Loss: {total_loss/len(train_loader):.4f}\")"
      ]
    },
    {
      "cell_type": "code",
      "execution_count": null,
      "metadata": {
        "colab": {
          "base_uri": "https://localhost:8080/"
        },
        "id": "zkVhi6zBcHXO",
        "outputId": "6a29cda5-8a40-4b57-ce08-491a0fb9575d"
      },
      "outputs": [
        {
          "output_type": "stream",
          "name": "stdout",
          "text": [
            "\n",
            "Training with sgd optimizer:\n",
            "Epoch 1/5, Loss: 2.1368\n",
            "Epoch 2/5, Loss: 1.6702\n",
            "Epoch 3/5, Loss: 1.2324\n",
            "Epoch 4/5, Loss: 0.9683\n",
            "Epoch 5/5, Loss: 0.8279\n",
            "\n",
            "Training with momentum optimizer:\n",
            "Epoch 1/5, Loss: 1.0138\n",
            "Epoch 2/5, Loss: 0.5566\n",
            "Epoch 3/5, Loss: 0.4882\n",
            "Epoch 4/5, Loss: 0.4533\n",
            "Epoch 5/5, Loss: 0.4312\n",
            "\n",
            "Training with nesterov optimizer:\n",
            "Epoch 1/5, Loss: 1.1092\n",
            "Epoch 2/5, Loss: 0.5743\n",
            "Epoch 3/5, Loss: 0.4966\n",
            "Epoch 4/5, Loss: 0.4589\n",
            "Epoch 5/5, Loss: 0.4352\n",
            "\n",
            "Training with rmsprop optimizer:\n",
            "Epoch 1/5, Loss: 0.5059\n",
            "Epoch 2/5, Loss: 0.3792\n",
            "Epoch 3/5, Loss: 0.3409\n",
            "Epoch 4/5, Loss: 0.3154\n",
            "Epoch 5/5, Loss: 0.2967\n",
            "\n",
            "Training with adam optimizer:\n",
            "Epoch 1/5, Loss: 0.5124\n",
            "Epoch 2/5, Loss: 0.3807\n",
            "Epoch 3/5, Loss: 0.3415\n",
            "Epoch 4/5, Loss: 0.3171\n",
            "Epoch 5/5, Loss: 0.2981\n",
            "\n",
            "Training with adamw optimizer:\n",
            "Epoch 1/5, Loss: 0.5200\n",
            "Epoch 2/5, Loss: 0.3790\n",
            "Epoch 3/5, Loss: 0.3424\n",
            "Epoch 4/5, Loss: 0.3180\n",
            "Epoch 5/5, Loss: 0.2987\n",
            "\n",
            "Training with nadam optimizer:\n",
            "Epoch 1/5, Loss: 0.5079\n",
            "Epoch 2/5, Loss: 0.3706\n",
            "Epoch 3/5, Loss: 0.3318\n",
            "Epoch 4/5, Loss: 0.3061\n",
            "Epoch 5/5, Loss: 0.2860\n",
            "\n",
            "Training with adadelta optimizer:\n",
            "Epoch 1/5, Loss: 2.2031\n",
            "Epoch 2/5, Loss: 1.9851\n",
            "Epoch 3/5, Loss: 1.7457\n",
            "Epoch 4/5, Loss: 1.5164\n",
            "Epoch 5/5, Loss: 1.3240\n"
          ]
        }
      ],
      "source": [
        "# Run training with different optimizers\n",
        "for opt in [\"sgd\", \"momentum\", \"nesterov\", \"rmsprop\", \"adam\", \"adamw\", \"nadam\", \"adadelta\"]:\n",
        "    print(f\"\\nTraining with {opt} optimizer:\")\n",
        "    model = create_model()\n",
        "    train_model(model, opt, train_loader)\n"
      ]
    },
    {
      "cell_type": "markdown",
      "metadata": {
        "id": "_U3B4hxRkheQ"
      },
      "source": [
        "# **Use the sweep functionality provided by wandb to find the best values for the hyperparameters listed below.**\n",
        "Use the standard train/test split.  Keep 10% of the training data aside as validation data for this hyperparameter search. Check out the options provided by wandb.sweep   for searching different values for hyperparameters and write down what strategy you chose and why.\n",
        "* number of epochs: 5, 10, 20\n",
        "* number of hidden layers: 3, 4, 5\n",
        "* size of every hidden layer: 32, 64, 128\n",
        "* weight decay (L2 regularisation): 0, 0.0005, 0.5\n",
        "* learning rate: 1e-3, 1 e-4\n",
        "* optimizer: sgd, momentum, nesterov, rmsprop, adam, nadam, Adadelta, adamw, adatune, swa\n",
        "* batch size: 16, 32, 64\n",
        "* weight initialisation: random, Xavier\n",
        "* activation functions: sigmoid, tanh, ReLU"
      ]
    },
    {
      "cell_type": "code",
      "execution_count": null,
      "metadata": {
        "id": "kHvHZX2DkhPp"
      },
      "outputs": [],
      "source": [
        "import wandb\n",
        "import torch\n",
        "import torch.nn as nn\n",
        "import torch.optim as optim\n",
        "import torchvision\n",
        "import torchvision.transforms as transforms\n",
        "from torch.utils.data import DataLoader\n",
        "from torchvision import datasets, transforms\n",
        "\n",
        "\n",
        "\n"
      ]
    },
    {
      "cell_type": "code",
      "source": [
        "\n",
        "wandb.login()\n"
      ],
      "metadata": {
        "colab": {
          "base_uri": "https://localhost:8080/"
        },
        "id": "fcmDNpdPIxVq",
        "outputId": "a93d770c-9294-47ad-9271-901c562887bd"
      },
      "execution_count": null,
      "outputs": [
        {
          "output_type": "execute_result",
          "data": {
            "text/plain": [
              "True"
            ]
          },
          "metadata": {},
          "execution_count": 13
        }
      ]
    },
    {
      "cell_type": "code",
      "source": [
        "sweep_config = {\n",
        "    \"method\": \"random\",  # We are using random search\n",
        "    \"metric\": {\"name\": \"val_accuracy\", \"goal\": \"maximize\"},\n",
        "    \"parameters\": {\n",
        "        \"epochs\": {\"values\": [5, 10, 20]},\n",
        "        \"num_hidden_layers\": {\"values\": [3, 4, 5]},\n",
        "        \"hidden_size\": {\"values\": [32, 64, 128]},\n",
        "        \"weight_decay\": {\"values\": [0, 0.0005, 0.5]},\n",
        "        \"learning_rate\": {\"values\": [1e-3, 1e-4]},\n",
        "        \"optimizer\": {\"values\": [\"sgd\", \"momentum\", \"nesterov\", \"rmsprop\", \"adam\", \"nadam\", \"adadelta\", \"adamw\"]},\n",
        "        \"batch_size\": {\"values\": [16, 32, 64]},\n",
        "        \"weight_init\": {\"values\": [\"random\", \"xavier\"]},\n",
        "        \"activation\": {\"values\": [\"sigmoid\", \"tanh\", \"relu\"]}\n",
        "    }\n",
        "}\n"
      ],
      "metadata": {
        "id": "WyFQw_73I4Jb"
      },
      "execution_count": null,
      "outputs": []
    },
    {
      "cell_type": "code",
      "source": [
        "import torch.nn.functional as F\n",
        "\n",
        "def create_model(num_hidden_layers, hidden_size, activation, weight_init):\n",
        "    layers = [nn.Flatten()]\n",
        "\n",
        "    input_size = 28 * 28  # Fashion-MNIST images are 28x28\n",
        "    for _ in range(num_hidden_layers):\n",
        "        layer = nn.Linear(input_size, hidden_size)\n",
        "        if weight_init == \"xavier\":\n",
        "            nn.init.xavier_uniform_(layer.weight)\n",
        "        layers.append(layer)\n",
        "\n",
        "        if activation == \"relu\":\n",
        "            layers.append(nn.ReLU())\n",
        "        elif activation == \"sigmoid\":\n",
        "            layers.append(nn.Sigmoid())\n",
        "        elif activation == \"tanh\":\n",
        "            layers.append(nn.Tanh())\n",
        "\n",
        "        input_size = hidden_size\n",
        "\n",
        "    layers.append(nn.Linear(input_size, 10))  # Output layer (10 classes)\n",
        "    return nn.Sequential(*layers)\n"
      ],
      "metadata": {
        "id": "KqkIaGriI6cv"
      },
      "execution_count": null,
      "outputs": []
    },
    {
      "cell_type": "code",
      "source": [
        "import torch.optim as optim\n",
        "\n",
        "def get_optimizer(name, model, lr=0.001, weight_decay=0):\n",
        "    if name == \"sgd\":\n",
        "        return optim.SGD(model.parameters(), lr=lr, weight_decay=weight_decay)\n",
        "    if name == \"momentum\":\n",
        "        return optim.SGD(model.parameters(), lr=lr, momentum=0.9, weight_decay=weight_decay)\n",
        "    if name == \"nesterov\":\n",
        "        return optim.SGD(model.parameters(), lr=lr, momentum=0.9, nesterov=True, weight_decay=weight_decay)\n",
        "    if name == \"rmsprop\":\n",
        "        return optim.RMSprop(model.parameters(), lr=lr, weight_decay=weight_decay)\n",
        "    if name == \"adam\":\n",
        "        return optim.Adam(model.parameters(), lr=lr, weight_decay=weight_decay)\n",
        "    if name == \"adamw\":\n",
        "        return optim.AdamW(model.parameters(), lr=lr, weight_decay=weight_decay)\n",
        "    if name == \"nadam\":\n",
        "        return optim.NAdam(model.parameters(), lr=lr, weight_decay=weight_decay)\n",
        "    if name == \"adadelta\":\n",
        "        return optim.Adadelta(model.parameters(), lr=lr, weight_decay=weight_decay)\n",
        "    return None\n"
      ],
      "metadata": {
        "id": "o1OU4x3SJZyF"
      },
      "execution_count": null,
      "outputs": []
    },
    {
      "cell_type": "code",
      "source": [
        "def train(config=None):\n",
        "    with wandb.init(config=config):\n",
        "        config = wandb.config\n",
        "\n",
        "        # Define dataset & dataloaders\n",
        "        transform = transforms.Compose([transforms.ToTensor(), transforms.Normalize((0.5,), (0.5,))])\n",
        "        dataset = datasets.FashionMNIST(root=\"./data\", train=True, transform=transform, download=True)\n",
        "\n",
        "        # Split into training and validation sets\n",
        "        train_size = int(0.9 * len(dataset))\n",
        "        val_size = len(dataset) - train_size\n",
        "        train_dataset, val_dataset = torch.utils.data.random_split(dataset, [train_size, val_size])\n",
        "\n",
        "        train_loader = DataLoader(train_dataset, batch_size=config.batch_size, shuffle=True)\n",
        "        val_loader = DataLoader(val_dataset, batch_size=config.batch_size, shuffle=False)\n",
        "\n",
        "        # Create the model\n",
        "        model = create_model(config.num_hidden_layers, config.hidden_size, config.activation, config.weight_init).to(\"cuda\")\n",
        "\n",
        "        # Define optimizer\n",
        "        optimizer = get_optimizer(config.optimizer, model, config.learning_rate, config.weight_decay)\n",
        "        criterion = nn.CrossEntropyLoss()\n",
        "\n",
        "        # Training loop\n",
        "        for epoch in range(config.epochs):\n",
        "            model.train()\n",
        "            total_loss, correct = 0, 0\n",
        "\n",
        "            for images, labels in train_loader:\n",
        "                images, labels = images.to(\"cuda\"), labels.to(\"cuda\")\n",
        "\n",
        "                optimizer.zero_grad()\n",
        "                outputs = model(images)\n",
        "                loss = criterion(outputs, labels)\n",
        "                loss.backward()\n",
        "                optimizer.step()\n",
        "\n",
        "                total_loss += loss.item()\n",
        "                correct += (outputs.argmax(1) == labels).sum().item()\n",
        "\n",
        "            train_acc = correct / len(train_loader.dataset)\n",
        "            avg_train_loss = total_loss / len(train_loader)\n",
        "\n",
        "            # Validation loop\n",
        "            model.eval()\n",
        "            val_loss, val_correct = 0, 0\n",
        "            with torch.no_grad():\n",
        "                for images, labels in val_loader:\n",
        "                    images, labels = images.to(\"cuda\"), labels.to(\"cuda\")\n",
        "                    outputs = model(images)\n",
        "                    loss = criterion(outputs, labels)\n",
        "                    val_loss += loss.item()\n",
        "                    val_correct += (outputs.argmax(1) == labels).sum().item()\n",
        "\n",
        "            val_acc = val_correct / len(val_loader.dataset)\n",
        "            avg_val_loss = val_loss / len(val_loader)\n",
        "\n",
        "            # Log metrics\n",
        "            wandb.log({\n",
        "                \"epoch\": epoch + 1,\n",
        "                \"train_loss\": avg_train_loss,\n",
        "                \"train_accuracy\": train_acc,\n",
        "                \"val_loss\": avg_val_loss,\n",
        "                \"val_accuracy\": val_acc\n",
        "            })\n",
        "\n",
        "        print(f\"Final Validation Accuracy: {val_acc:.4f}\")\n"
      ],
      "metadata": {
        "id": "vNFK3uNqI88X"
      },
      "execution_count": null,
      "outputs": []
    },
    {
      "cell_type": "code",
      "source": [
        "sweep_id = wandb.sweep(sweep_config, project=\"fashion-mnist-sweep\")\n",
        "wandb.agent(sweep_id, train, count=15)  # Run 15 different hyperparameter configurations\n"
      ],
      "metadata": {
        "colab": {
          "base_uri": "https://localhost:8080/",
          "height": 1000
        },
        "id": "2qVzJsVUJDoP",
        "outputId": "f9019c11-90f1-4463-d26d-2d30ce84f7f4"
      },
      "execution_count": null,
      "outputs": [
        {
          "metadata": {
            "tags": null
          },
          "name": "stdout",
          "output_type": "stream",
          "text": [
            "Create sweep with ID: vkq5nnrs\n",
            "Sweep URL: https://wandb.ai/21dcs024-national-institute-of-technology-hamirpur/fashion-mnist-sweep/sweeps/vkq5nnrs\n"
          ]
        },
        {
          "metadata": {
            "tags": null
          },
          "name": "stderr",
          "output_type": "stream",
          "text": [
            "\u001b[34m\u001b[1mwandb\u001b[0m: Agent Starting Run: o1kin6a7 with config:\n",
            "\u001b[34m\u001b[1mwandb\u001b[0m: \tactivation: tanh\n",
            "\u001b[34m\u001b[1mwandb\u001b[0m: \tbatch_size: 32\n",
            "\u001b[34m\u001b[1mwandb\u001b[0m: \tepochs: 5\n",
            "\u001b[34m\u001b[1mwandb\u001b[0m: \thidden_size: 32\n",
            "\u001b[34m\u001b[1mwandb\u001b[0m: \tlearning_rate: 0.0001\n",
            "\u001b[34m\u001b[1mwandb\u001b[0m: \tnum_hidden_layers: 4\n",
            "\u001b[34m\u001b[1mwandb\u001b[0m: \toptimizer: adamw\n",
            "\u001b[34m\u001b[1mwandb\u001b[0m: \tweight_decay: 0.0005\n",
            "\u001b[34m\u001b[1mwandb\u001b[0m: \tweight_init: random\n"
          ]
        },
        {
          "data": {
            "text/html": [
              "Tracking run with wandb version 0.19.1"
            ],
            "text/plain": [
              "<IPython.core.display.HTML object>"
            ]
          },
          "metadata": {},
          "output_type": "display_data"
        },
        {
          "data": {
            "text/html": [
              "Run data is saved locally in <code>/content/wandb/run-20250217_161428-o1kin6a7</code>"
            ],
            "text/plain": [
              "<IPython.core.display.HTML object>"
            ]
          },
          "metadata": {},
          "output_type": "display_data"
        },
        {
          "data": {
            "text/html": [
              "Syncing run <strong><a href='https://wandb.ai/21dcs024-national-institute-of-technology-hamirpur/fashion-mnist-sweep/runs/o1kin6a7' target=\"_blank\">young-sweep-1</a></strong> to <a href='https://wandb.ai/21dcs024-national-institute-of-technology-hamirpur/fashion-mnist-sweep' target=\"_blank\">Weights & Biases</a> (<a href='https://wandb.me/developer-guide' target=\"_blank\">docs</a>)<br>Sweep page: <a href='https://wandb.ai/21dcs024-national-institute-of-technology-hamirpur/fashion-mnist-sweep/sweeps/vkq5nnrs' target=\"_blank\">https://wandb.ai/21dcs024-national-institute-of-technology-hamirpur/fashion-mnist-sweep/sweeps/vkq5nnrs</a>"
            ],
            "text/plain": [
              "<IPython.core.display.HTML object>"
            ]
          },
          "metadata": {},
          "output_type": "display_data"
        },
        {
          "data": {
            "text/html": [
              " View project at <a href='https://wandb.ai/21dcs024-national-institute-of-technology-hamirpur/fashion-mnist-sweep' target=\"_blank\">https://wandb.ai/21dcs024-national-institute-of-technology-hamirpur/fashion-mnist-sweep</a>"
            ],
            "text/plain": [
              "<IPython.core.display.HTML object>"
            ]
          },
          "metadata": {},
          "output_type": "display_data"
        },
        {
          "data": {
            "text/html": [
              " View sweep at <a href='https://wandb.ai/21dcs024-national-institute-of-technology-hamirpur/fashion-mnist-sweep/sweeps/vkq5nnrs' target=\"_blank\">https://wandb.ai/21dcs024-national-institute-of-technology-hamirpur/fashion-mnist-sweep/sweeps/vkq5nnrs</a>"
            ],
            "text/plain": [
              "<IPython.core.display.HTML object>"
            ]
          },
          "metadata": {},
          "output_type": "display_data"
        },
        {
          "data": {
            "text/html": [
              " View run at <a href='https://wandb.ai/21dcs024-national-institute-of-technology-hamirpur/fashion-mnist-sweep/runs/o1kin6a7' target=\"_blank\">https://wandb.ai/21dcs024-national-institute-of-technology-hamirpur/fashion-mnist-sweep/runs/o1kin6a7</a>"
            ],
            "text/plain": [
              "<IPython.core.display.HTML object>"
            ]
          },
          "metadata": {},
          "output_type": "display_data"
        },
        {
          "metadata": {
            "tags": null
          },
          "name": "stdout",
          "output_type": "stream",
          "text": [
            "Final Validation Accuracy: 0.8510\n"
          ]
        },
        {
          "data": {
            "text/html": [],
            "text/plain": [
              "<IPython.core.display.HTML object>"
            ]
          },
          "metadata": {},
          "output_type": "display_data"
        },
        {
          "data": {
            "text/html": [
              "<br>    <style><br>        .wandb-row {<br>            display: flex;<br>            flex-direction: row;<br>            flex-wrap: wrap;<br>            justify-content: flex-start;<br>            width: 100%;<br>        }<br>        .wandb-col {<br>            display: flex;<br>            flex-direction: column;<br>            flex-basis: 100%;<br>            flex: 1;<br>            padding: 10px;<br>        }<br>    </style><br><div class=\"wandb-row\"><div class=\"wandb-col\"><h3>Run history:</h3><br/><table class=\"wandb\"><tr><td>epoch</td><td>▁▃▅▆█</td></tr><tr><td>train_accuracy</td><td>▁▆▇██</td></tr><tr><td>train_loss</td><td>█▃▂▁▁</td></tr><tr><td>val_accuracy</td><td>▁▅▇██</td></tr><tr><td>val_loss</td><td>█▄▂▁▁</td></tr></table><br/></div><div class=\"wandb-col\"><h3>Run summary:</h3><br/><table class=\"wandb\"><tr><td>epoch</td><td>5</td></tr><tr><td>train_accuracy</td><td>0.85583</td></tr><tr><td>train_loss</td><td>0.42551</td></tr><tr><td>val_accuracy</td><td>0.851</td></tr><tr><td>val_loss</td><td>0.42205</td></tr></table><br/></div></div>"
            ],
            "text/plain": [
              "<IPython.core.display.HTML object>"
            ]
          },
          "metadata": {},
          "output_type": "display_data"
        },
        {
          "data": {
            "text/html": [
              " View run <strong style=\"color:#cdcd00\">young-sweep-1</strong> at: <a href='https://wandb.ai/21dcs024-national-institute-of-technology-hamirpur/fashion-mnist-sweep/runs/o1kin6a7' target=\"_blank\">https://wandb.ai/21dcs024-national-institute-of-technology-hamirpur/fashion-mnist-sweep/runs/o1kin6a7</a><br> View project at: <a href='https://wandb.ai/21dcs024-national-institute-of-technology-hamirpur/fashion-mnist-sweep' target=\"_blank\">https://wandb.ai/21dcs024-national-institute-of-technology-hamirpur/fashion-mnist-sweep</a><br>Synced 5 W&B file(s), 0 media file(s), 0 artifact file(s) and 0 other file(s)"
            ],
            "text/plain": [
              "<IPython.core.display.HTML object>"
            ]
          },
          "metadata": {},
          "output_type": "display_data"
        },
        {
          "data": {
            "text/html": [
              "Find logs at: <code>./wandb/run-20250217_161428-o1kin6a7/logs</code>"
            ],
            "text/plain": [
              "<IPython.core.display.HTML object>"
            ]
          },
          "metadata": {},
          "output_type": "display_data"
        },
        {
          "metadata": {
            "tags": null
          },
          "name": "stderr",
          "output_type": "stream",
          "text": [
            "\u001b[34m\u001b[1mwandb\u001b[0m: Agent Starting Run: cqtxtjgv with config:\n",
            "\u001b[34m\u001b[1mwandb\u001b[0m: \tactivation: sigmoid\n",
            "\u001b[34m\u001b[1mwandb\u001b[0m: \tbatch_size: 32\n",
            "\u001b[34m\u001b[1mwandb\u001b[0m: \tepochs: 20\n",
            "\u001b[34m\u001b[1mwandb\u001b[0m: \thidden_size: 64\n",
            "\u001b[34m\u001b[1mwandb\u001b[0m: \tlearning_rate: 0.001\n",
            "\u001b[34m\u001b[1mwandb\u001b[0m: \tnum_hidden_layers: 3\n",
            "\u001b[34m\u001b[1mwandb\u001b[0m: \toptimizer: adamw\n",
            "\u001b[34m\u001b[1mwandb\u001b[0m: \tweight_decay: 0.5\n",
            "\u001b[34m\u001b[1mwandb\u001b[0m: \tweight_init: xavier\n"
          ]
        },
        {
          "data": {
            "text/html": [
              "Tracking run with wandb version 0.19.1"
            ],
            "text/plain": [
              "<IPython.core.display.HTML object>"
            ]
          },
          "metadata": {},
          "output_type": "display_data"
        },
        {
          "data": {
            "text/html": [
              "Run data is saved locally in <code>/content/wandb/run-20250217_161559-cqtxtjgv</code>"
            ],
            "text/plain": [
              "<IPython.core.display.HTML object>"
            ]
          },
          "metadata": {},
          "output_type": "display_data"
        },
        {
          "data": {
            "text/html": [
              "Syncing run <strong><a href='https://wandb.ai/21dcs024-national-institute-of-technology-hamirpur/fashion-mnist-sweep/runs/cqtxtjgv' target=\"_blank\">scarlet-sweep-2</a></strong> to <a href='https://wandb.ai/21dcs024-national-institute-of-technology-hamirpur/fashion-mnist-sweep' target=\"_blank\">Weights & Biases</a> (<a href='https://wandb.me/developer-guide' target=\"_blank\">docs</a>)<br>Sweep page: <a href='https://wandb.ai/21dcs024-national-institute-of-technology-hamirpur/fashion-mnist-sweep/sweeps/vkq5nnrs' target=\"_blank\">https://wandb.ai/21dcs024-national-institute-of-technology-hamirpur/fashion-mnist-sweep/sweeps/vkq5nnrs</a>"
            ],
            "text/plain": [
              "<IPython.core.display.HTML object>"
            ]
          },
          "metadata": {},
          "output_type": "display_data"
        },
        {
          "data": {
            "text/html": [
              " View project at <a href='https://wandb.ai/21dcs024-national-institute-of-technology-hamirpur/fashion-mnist-sweep' target=\"_blank\">https://wandb.ai/21dcs024-national-institute-of-technology-hamirpur/fashion-mnist-sweep</a>"
            ],
            "text/plain": [
              "<IPython.core.display.HTML object>"
            ]
          },
          "metadata": {},
          "output_type": "display_data"
        },
        {
          "data": {
            "text/html": [
              " View sweep at <a href='https://wandb.ai/21dcs024-national-institute-of-technology-hamirpur/fashion-mnist-sweep/sweeps/vkq5nnrs' target=\"_blank\">https://wandb.ai/21dcs024-national-institute-of-technology-hamirpur/fashion-mnist-sweep/sweeps/vkq5nnrs</a>"
            ],
            "text/plain": [
              "<IPython.core.display.HTML object>"
            ]
          },
          "metadata": {},
          "output_type": "display_data"
        },
        {
          "data": {
            "text/html": [
              " View run at <a href='https://wandb.ai/21dcs024-national-institute-of-technology-hamirpur/fashion-mnist-sweep/runs/cqtxtjgv' target=\"_blank\">https://wandb.ai/21dcs024-national-institute-of-technology-hamirpur/fashion-mnist-sweep/runs/cqtxtjgv</a>"
            ],
            "text/plain": [
              "<IPython.core.display.HTML object>"
            ]
          },
          "metadata": {},
          "output_type": "display_data"
        },
        {
          "metadata": {
            "tags": null
          },
          "name": "stdout",
          "output_type": "stream",
          "text": [
            "Final Validation Accuracy: 0.8380\n"
          ]
        },
        {
          "data": {
            "text/html": [],
            "text/plain": [
              "<IPython.core.display.HTML object>"
            ]
          },
          "metadata": {},
          "output_type": "display_data"
        },
        {
          "data": {
            "text/html": [
              "<br>    <style><br>        .wandb-row {<br>            display: flex;<br>            flex-direction: row;<br>            flex-wrap: wrap;<br>            justify-content: flex-start;<br>            width: 100%;<br>        }<br>        .wandb-col {<br>            display: flex;<br>            flex-direction: column;<br>            flex-basis: 100%;<br>            flex: 1;<br>            padding: 10px;<br>        }<br>    </style><br><div class=\"wandb-row\"><div class=\"wandb-col\"><h3>Run history:</h3><br/><table class=\"wandb\"><tr><td>epoch</td><td>▁▁▂▂▂▃▃▄▄▄▅▅▅▆▆▇▇▇██</td></tr><tr><td>train_accuracy</td><td>▁▇██████████████████</td></tr><tr><td>train_loss</td><td>█▂▂▁▁▁▁▁▁▁▁▁▁▁▁▁▁▁▁▁</td></tr><tr><td>val_accuracy</td><td>▁▄▅▄▆▅▅█▇▇▇▇▆▇▄▇▆▇█▆</td></tr><tr><td>val_loss</td><td>█▄▃▄▃▃▃▁▂▁▃▁▂▁▄▁▂▁▁▂</td></tr></table><br/></div><div class=\"wandb-col\"><h3>Run summary:</h3><br/><table class=\"wandb\"><tr><td>epoch</td><td>20</td></tr><tr><td>train_accuracy</td><td>0.84117</td></tr><tr><td>train_loss</td><td>0.4771</td></tr><tr><td>val_accuracy</td><td>0.838</td></tr><tr><td>val_loss</td><td>0.49413</td></tr></table><br/></div></div>"
            ],
            "text/plain": [
              "<IPython.core.display.HTML object>"
            ]
          },
          "metadata": {},
          "output_type": "display_data"
        },
        {
          "data": {
            "text/html": [
              " View run <strong style=\"color:#cdcd00\">scarlet-sweep-2</strong> at: <a href='https://wandb.ai/21dcs024-national-institute-of-technology-hamirpur/fashion-mnist-sweep/runs/cqtxtjgv' target=\"_blank\">https://wandb.ai/21dcs024-national-institute-of-technology-hamirpur/fashion-mnist-sweep/runs/cqtxtjgv</a><br> View project at: <a href='https://wandb.ai/21dcs024-national-institute-of-technology-hamirpur/fashion-mnist-sweep' target=\"_blank\">https://wandb.ai/21dcs024-national-institute-of-technology-hamirpur/fashion-mnist-sweep</a><br>Synced 5 W&B file(s), 0 media file(s), 0 artifact file(s) and 0 other file(s)"
            ],
            "text/plain": [
              "<IPython.core.display.HTML object>"
            ]
          },
          "metadata": {},
          "output_type": "display_data"
        },
        {
          "data": {
            "text/html": [
              "Find logs at: <code>./wandb/run-20250217_161559-cqtxtjgv/logs</code>"
            ],
            "text/plain": [
              "<IPython.core.display.HTML object>"
            ]
          },
          "metadata": {},
          "output_type": "display_data"
        },
        {
          "metadata": {
            "tags": null
          },
          "name": "stderr",
          "output_type": "stream",
          "text": [
            "\u001b[34m\u001b[1mwandb\u001b[0m: Agent Starting Run: etoqll61 with config:\n",
            "\u001b[34m\u001b[1mwandb\u001b[0m: \tactivation: relu\n",
            "\u001b[34m\u001b[1mwandb\u001b[0m: \tbatch_size: 16\n",
            "\u001b[34m\u001b[1mwandb\u001b[0m: \tepochs: 5\n",
            "\u001b[34m\u001b[1mwandb\u001b[0m: \thidden_size: 64\n",
            "\u001b[34m\u001b[1mwandb\u001b[0m: \tlearning_rate: 0.0001\n",
            "\u001b[34m\u001b[1mwandb\u001b[0m: \tnum_hidden_layers: 4\n",
            "\u001b[34m\u001b[1mwandb\u001b[0m: \toptimizer: momentum\n",
            "\u001b[34m\u001b[1mwandb\u001b[0m: \tweight_decay: 0.5\n",
            "\u001b[34m\u001b[1mwandb\u001b[0m: \tweight_init: xavier\n"
          ]
        },
        {
          "data": {
            "text/html": [
              "Tracking run with wandb version 0.19.1"
            ],
            "text/plain": [
              "<IPython.core.display.HTML object>"
            ]
          },
          "metadata": {},
          "output_type": "display_data"
        },
        {
          "data": {
            "text/html": [
              "Run data is saved locally in <code>/content/wandb/run-20250217_162119-etoqll61</code>"
            ],
            "text/plain": [
              "<IPython.core.display.HTML object>"
            ]
          },
          "metadata": {},
          "output_type": "display_data"
        },
        {
          "data": {
            "text/html": [
              "Syncing run <strong><a href='https://wandb.ai/21dcs024-national-institute-of-technology-hamirpur/fashion-mnist-sweep/runs/etoqll61' target=\"_blank\">solar-sweep-3</a></strong> to <a href='https://wandb.ai/21dcs024-national-institute-of-technology-hamirpur/fashion-mnist-sweep' target=\"_blank\">Weights & Biases</a> (<a href='https://wandb.me/developer-guide' target=\"_blank\">docs</a>)<br>Sweep page: <a href='https://wandb.ai/21dcs024-national-institute-of-technology-hamirpur/fashion-mnist-sweep/sweeps/vkq5nnrs' target=\"_blank\">https://wandb.ai/21dcs024-national-institute-of-technology-hamirpur/fashion-mnist-sweep/sweeps/vkq5nnrs</a>"
            ],
            "text/plain": [
              "<IPython.core.display.HTML object>"
            ]
          },
          "metadata": {},
          "output_type": "display_data"
        },
        {
          "data": {
            "text/html": [
              " View project at <a href='https://wandb.ai/21dcs024-national-institute-of-technology-hamirpur/fashion-mnist-sweep' target=\"_blank\">https://wandb.ai/21dcs024-national-institute-of-technology-hamirpur/fashion-mnist-sweep</a>"
            ],
            "text/plain": [
              "<IPython.core.display.HTML object>"
            ]
          },
          "metadata": {},
          "output_type": "display_data"
        },
        {
          "data": {
            "text/html": [
              " View sweep at <a href='https://wandb.ai/21dcs024-national-institute-of-technology-hamirpur/fashion-mnist-sweep/sweeps/vkq5nnrs' target=\"_blank\">https://wandb.ai/21dcs024-national-institute-of-technology-hamirpur/fashion-mnist-sweep/sweeps/vkq5nnrs</a>"
            ],
            "text/plain": [
              "<IPython.core.display.HTML object>"
            ]
          },
          "metadata": {},
          "output_type": "display_data"
        },
        {
          "data": {
            "text/html": [
              " View run at <a href='https://wandb.ai/21dcs024-national-institute-of-technology-hamirpur/fashion-mnist-sweep/runs/etoqll61' target=\"_blank\">https://wandb.ai/21dcs024-national-institute-of-technology-hamirpur/fashion-mnist-sweep/runs/etoqll61</a>"
            ],
            "text/plain": [
              "<IPython.core.display.HTML object>"
            ]
          },
          "metadata": {},
          "output_type": "display_data"
        },
        {
          "metadata": {
            "tags": null
          },
          "name": "stdout",
          "output_type": "stream",
          "text": [
            "Final Validation Accuracy: 0.0975\n"
          ]
        },
        {
          "data": {
            "text/html": [],
            "text/plain": [
              "<IPython.core.display.HTML object>"
            ]
          },
          "metadata": {},
          "output_type": "display_data"
        },
        {
          "data": {
            "text/html": [
              "<br>    <style><br>        .wandb-row {<br>            display: flex;<br>            flex-direction: row;<br>            flex-wrap: wrap;<br>            justify-content: flex-start;<br>            width: 100%;<br>        }<br>        .wandb-col {<br>            display: flex;<br>            flex-direction: column;<br>            flex-basis: 100%;<br>            flex: 1;<br>            padding: 10px;<br>        }<br>    </style><br><div class=\"wandb-row\"><div class=\"wandb-col\"><h3>Run history:</h3><br/><table class=\"wandb\"><tr><td>epoch</td><td>▁▃▅▆█</td></tr><tr><td>train_accuracy</td><td>█▁▁▁▁</td></tr><tr><td>train_loss</td><td>▁████</td></tr><tr><td>val_accuracy</td><td>▇▁▁▇█</td></tr><tr><td>val_loss</td><td>██▆▁▂</td></tr></table><br/></div><div class=\"wandb-col\"><h3>Run summary:</h3><br/><table class=\"wandb\"><tr><td>epoch</td><td>5</td></tr><tr><td>train_accuracy</td><td>0.09756</td></tr><tr><td>train_loss</td><td>2.3026</td></tr><tr><td>val_accuracy</td><td>0.0975</td></tr><tr><td>val_loss</td><td>2.30259</td></tr></table><br/></div></div>"
            ],
            "text/plain": [
              "<IPython.core.display.HTML object>"
            ]
          },
          "metadata": {},
          "output_type": "display_data"
        },
        {
          "data": {
            "text/html": [
              " View run <strong style=\"color:#cdcd00\">solar-sweep-3</strong> at: <a href='https://wandb.ai/21dcs024-national-institute-of-technology-hamirpur/fashion-mnist-sweep/runs/etoqll61' target=\"_blank\">https://wandb.ai/21dcs024-national-institute-of-technology-hamirpur/fashion-mnist-sweep/runs/etoqll61</a><br> View project at: <a href='https://wandb.ai/21dcs024-national-institute-of-technology-hamirpur/fashion-mnist-sweep' target=\"_blank\">https://wandb.ai/21dcs024-national-institute-of-technology-hamirpur/fashion-mnist-sweep</a><br>Synced 5 W&B file(s), 0 media file(s), 0 artifact file(s) and 0 other file(s)"
            ],
            "text/plain": [
              "<IPython.core.display.HTML object>"
            ]
          },
          "metadata": {},
          "output_type": "display_data"
        },
        {
          "data": {
            "text/html": [
              "Find logs at: <code>./wandb/run-20250217_162119-etoqll61/logs</code>"
            ],
            "text/plain": [
              "<IPython.core.display.HTML object>"
            ]
          },
          "metadata": {},
          "output_type": "display_data"
        },
        {
          "metadata": {
            "tags": null
          },
          "name": "stderr",
          "output_type": "stream",
          "text": [
            "\u001b[34m\u001b[1mwandb\u001b[0m: Agent Starting Run: vf7s7h6y with config:\n",
            "\u001b[34m\u001b[1mwandb\u001b[0m: \tactivation: sigmoid\n",
            "\u001b[34m\u001b[1mwandb\u001b[0m: \tbatch_size: 16\n",
            "\u001b[34m\u001b[1mwandb\u001b[0m: \tepochs: 10\n",
            "\u001b[34m\u001b[1mwandb\u001b[0m: \thidden_size: 128\n",
            "\u001b[34m\u001b[1mwandb\u001b[0m: \tlearning_rate: 0.001\n",
            "\u001b[34m\u001b[1mwandb\u001b[0m: \tnum_hidden_layers: 4\n",
            "\u001b[34m\u001b[1mwandb\u001b[0m: \toptimizer: sgd\n",
            "\u001b[34m\u001b[1mwandb\u001b[0m: \tweight_decay: 0.5\n",
            "\u001b[34m\u001b[1mwandb\u001b[0m: \tweight_init: xavier\n"
          ]
        },
        {
          "data": {
            "text/html": [
              "Tracking run with wandb version 0.19.1"
            ],
            "text/plain": [
              "<IPython.core.display.HTML object>"
            ]
          },
          "metadata": {},
          "output_type": "display_data"
        },
        {
          "data": {
            "text/html": [
              "Run data is saved locally in <code>/content/wandb/run-20250217_162309-vf7s7h6y</code>"
            ],
            "text/plain": [
              "<IPython.core.display.HTML object>"
            ]
          },
          "metadata": {},
          "output_type": "display_data"
        },
        {
          "data": {
            "text/html": [
              "Syncing run <strong><a href='https://wandb.ai/21dcs024-national-institute-of-technology-hamirpur/fashion-mnist-sweep/runs/vf7s7h6y' target=\"_blank\">comic-sweep-4</a></strong> to <a href='https://wandb.ai/21dcs024-national-institute-of-technology-hamirpur/fashion-mnist-sweep' target=\"_blank\">Weights & Biases</a> (<a href='https://wandb.me/developer-guide' target=\"_blank\">docs</a>)<br>Sweep page: <a href='https://wandb.ai/21dcs024-national-institute-of-technology-hamirpur/fashion-mnist-sweep/sweeps/vkq5nnrs' target=\"_blank\">https://wandb.ai/21dcs024-national-institute-of-technology-hamirpur/fashion-mnist-sweep/sweeps/vkq5nnrs</a>"
            ],
            "text/plain": [
              "<IPython.core.display.HTML object>"
            ]
          },
          "metadata": {},
          "output_type": "display_data"
        },
        {
          "data": {
            "text/html": [
              " View project at <a href='https://wandb.ai/21dcs024-national-institute-of-technology-hamirpur/fashion-mnist-sweep' target=\"_blank\">https://wandb.ai/21dcs024-national-institute-of-technology-hamirpur/fashion-mnist-sweep</a>"
            ],
            "text/plain": [
              "<IPython.core.display.HTML object>"
            ]
          },
          "metadata": {},
          "output_type": "display_data"
        },
        {
          "data": {
            "text/html": [
              " View sweep at <a href='https://wandb.ai/21dcs024-national-institute-of-technology-hamirpur/fashion-mnist-sweep/sweeps/vkq5nnrs' target=\"_blank\">https://wandb.ai/21dcs024-national-institute-of-technology-hamirpur/fashion-mnist-sweep/sweeps/vkq5nnrs</a>"
            ],
            "text/plain": [
              "<IPython.core.display.HTML object>"
            ]
          },
          "metadata": {},
          "output_type": "display_data"
        },
        {
          "data": {
            "text/html": [
              " View run at <a href='https://wandb.ai/21dcs024-national-institute-of-technology-hamirpur/fashion-mnist-sweep/runs/vf7s7h6y' target=\"_blank\">https://wandb.ai/21dcs024-national-institute-of-technology-hamirpur/fashion-mnist-sweep/runs/vf7s7h6y</a>"
            ],
            "text/plain": [
              "<IPython.core.display.HTML object>"
            ]
          },
          "metadata": {},
          "output_type": "display_data"
        },
        {
          "output_type": "stream",
          "name": "stdout",
          "text": [
            "Final Validation Accuracy: 0.0965\n"
          ]
        },
        {
          "output_type": "display_data",
          "data": {
            "text/plain": [
              "<IPython.core.display.HTML object>"
            ],
            "text/html": []
          },
          "metadata": {}
        },
        {
          "output_type": "display_data",
          "data": {
            "text/plain": [
              "<IPython.core.display.HTML object>"
            ],
            "text/html": [
              "<br>    <style><br>        .wandb-row {<br>            display: flex;<br>            flex-direction: row;<br>            flex-wrap: wrap;<br>            justify-content: flex-start;<br>            width: 100%;<br>        }<br>        .wandb-col {<br>            display: flex;<br>            flex-direction: column;<br>            flex-basis: 100%;<br>            flex: 1;<br>            padding: 10px;<br>        }<br>    </style><br><div class=\"wandb-row\"><div class=\"wandb-col\"><h3>Run history:</h3><br/><table class=\"wandb\"><tr><td>epoch</td><td>▁▂▃▃▄▅▆▆▇█</td></tr><tr><td>train_accuracy</td><td>▄▆▄█▅▁▃▁▅▆</td></tr><tr><td>train_loss</td><td>█▁▁▁▁▂▁▁▁▁</td></tr><tr><td>val_accuracy</td><td>▅▄▂▁▅▁█▃▂▁</td></tr><tr><td>val_loss</td><td>█▄▃▂▁▄▁▂▂▅</td></tr></table><br/></div><div class=\"wandb-col\"><h3>Run summary:</h3><br/><table class=\"wandb\"><tr><td>epoch</td><td>10</td></tr><tr><td>train_accuracy</td><td>0.10057</td></tr><tr><td>train_loss</td><td>2.30304</td></tr><tr><td>val_accuracy</td><td>0.0965</td></tr><tr><td>val_loss</td><td>2.30334</td></tr></table><br/></div></div>"
            ]
          },
          "metadata": {}
        },
        {
          "output_type": "display_data",
          "data": {
            "text/plain": [
              "<IPython.core.display.HTML object>"
            ],
            "text/html": [
              " View run <strong style=\"color:#cdcd00\">comic-sweep-4</strong> at: <a href='https://wandb.ai/21dcs024-national-institute-of-technology-hamirpur/fashion-mnist-sweep/runs/vf7s7h6y' target=\"_blank\">https://wandb.ai/21dcs024-national-institute-of-technology-hamirpur/fashion-mnist-sweep/runs/vf7s7h6y</a><br> View project at: <a href='https://wandb.ai/21dcs024-national-institute-of-technology-hamirpur/fashion-mnist-sweep' target=\"_blank\">https://wandb.ai/21dcs024-national-institute-of-technology-hamirpur/fashion-mnist-sweep</a><br>Synced 5 W&B file(s), 0 media file(s), 0 artifact file(s) and 0 other file(s)"
            ]
          },
          "metadata": {}
        },
        {
          "output_type": "display_data",
          "data": {
            "text/plain": [
              "<IPython.core.display.HTML object>"
            ],
            "text/html": [
              "Find logs at: <code>./wandb/run-20250217_162309-vf7s7h6y/logs</code>"
            ]
          },
          "metadata": {}
        },
        {
          "output_type": "stream",
          "name": "stderr",
          "text": [
            "\u001b[34m\u001b[1mwandb\u001b[0m: Agent Starting Run: 5d30d1vt with config:\n",
            "\u001b[34m\u001b[1mwandb\u001b[0m: \tactivation: sigmoid\n",
            "\u001b[34m\u001b[1mwandb\u001b[0m: \tbatch_size: 64\n",
            "\u001b[34m\u001b[1mwandb\u001b[0m: \tepochs: 10\n",
            "\u001b[34m\u001b[1mwandb\u001b[0m: \thidden_size: 64\n",
            "\u001b[34m\u001b[1mwandb\u001b[0m: \tlearning_rate: 0.001\n",
            "\u001b[34m\u001b[1mwandb\u001b[0m: \tnum_hidden_layers: 5\n",
            "\u001b[34m\u001b[1mwandb\u001b[0m: \toptimizer: momentum\n",
            "\u001b[34m\u001b[1mwandb\u001b[0m: \tweight_decay: 0\n",
            "\u001b[34m\u001b[1mwandb\u001b[0m: \tweight_init: random\n"
          ]
        },
        {
          "output_type": "display_data",
          "data": {
            "text/plain": [
              "<IPython.core.display.HTML object>"
            ],
            "text/html": [
              "Tracking run with wandb version 0.19.1"
            ]
          },
          "metadata": {}
        },
        {
          "output_type": "display_data",
          "data": {
            "text/plain": [
              "<IPython.core.display.HTML object>"
            ],
            "text/html": [
              "Run data is saved locally in <code>/content/wandb/run-20250217_162632-5d30d1vt</code>"
            ]
          },
          "metadata": {}
        },
        {
          "output_type": "display_data",
          "data": {
            "text/plain": [
              "<IPython.core.display.HTML object>"
            ],
            "text/html": [
              "Syncing run <strong><a href='https://wandb.ai/21dcs024-national-institute-of-technology-hamirpur/fashion-mnist-sweep/runs/5d30d1vt' target=\"_blank\">amber-sweep-5</a></strong> to <a href='https://wandb.ai/21dcs024-national-institute-of-technology-hamirpur/fashion-mnist-sweep' target=\"_blank\">Weights & Biases</a> (<a href='https://wandb.me/developer-guide' target=\"_blank\">docs</a>)<br>Sweep page: <a href='https://wandb.ai/21dcs024-national-institute-of-technology-hamirpur/fashion-mnist-sweep/sweeps/vkq5nnrs' target=\"_blank\">https://wandb.ai/21dcs024-national-institute-of-technology-hamirpur/fashion-mnist-sweep/sweeps/vkq5nnrs</a>"
            ]
          },
          "metadata": {}
        },
        {
          "output_type": "display_data",
          "data": {
            "text/plain": [
              "<IPython.core.display.HTML object>"
            ],
            "text/html": [
              " View project at <a href='https://wandb.ai/21dcs024-national-institute-of-technology-hamirpur/fashion-mnist-sweep' target=\"_blank\">https://wandb.ai/21dcs024-national-institute-of-technology-hamirpur/fashion-mnist-sweep</a>"
            ]
          },
          "metadata": {}
        },
        {
          "output_type": "display_data",
          "data": {
            "text/plain": [
              "<IPython.core.display.HTML object>"
            ],
            "text/html": [
              " View sweep at <a href='https://wandb.ai/21dcs024-national-institute-of-technology-hamirpur/fashion-mnist-sweep/sweeps/vkq5nnrs' target=\"_blank\">https://wandb.ai/21dcs024-national-institute-of-technology-hamirpur/fashion-mnist-sweep/sweeps/vkq5nnrs</a>"
            ]
          },
          "metadata": {}
        },
        {
          "output_type": "display_data",
          "data": {
            "text/plain": [
              "<IPython.core.display.HTML object>"
            ],
            "text/html": [
              " View run at <a href='https://wandb.ai/21dcs024-national-institute-of-technology-hamirpur/fashion-mnist-sweep/runs/5d30d1vt' target=\"_blank\">https://wandb.ai/21dcs024-national-institute-of-technology-hamirpur/fashion-mnist-sweep/runs/5d30d1vt</a>"
            ]
          },
          "metadata": {}
        },
        {
          "output_type": "stream",
          "name": "stdout",
          "text": [
            "Final Validation Accuracy: 0.0988\n"
          ]
        },
        {
          "output_type": "display_data",
          "data": {
            "text/plain": [
              "<IPython.core.display.HTML object>"
            ],
            "text/html": []
          },
          "metadata": {}
        },
        {
          "output_type": "display_data",
          "data": {
            "text/plain": [
              "<IPython.core.display.HTML object>"
            ],
            "text/html": [
              "<br>    <style><br>        .wandb-row {<br>            display: flex;<br>            flex-direction: row;<br>            flex-wrap: wrap;<br>            justify-content: flex-start;<br>            width: 100%;<br>        }<br>        .wandb-col {<br>            display: flex;<br>            flex-direction: column;<br>            flex-basis: 100%;<br>            flex: 1;<br>            padding: 10px;<br>        }<br>    </style><br><div class=\"wandb-row\"><div class=\"wandb-col\"><h3>Run history:</h3><br/><table class=\"wandb\"><tr><td>epoch</td><td>▁▂▃▃▄▅▆▆▇█</td></tr><tr><td>train_accuracy</td><td>▂▅▄▁▂▇▄█▆▅</td></tr><tr><td>train_loss</td><td>█▁▁▁▂▁▁▁▁▁</td></tr><tr><td>val_accuracy</td><td>▂▄██▇▁▁▇▁▅</td></tr><tr><td>val_loss</td><td>▅▃▂▄▁█▃▃▃▄</td></tr></table><br/></div><div class=\"wandb-col\"><h3>Run summary:</h3><br/><table class=\"wandb\"><tr><td>epoch</td><td>10</td></tr><tr><td>train_accuracy</td><td>0.09952</td></tr><tr><td>train_loss</td><td>2.30321</td></tr><tr><td>val_accuracy</td><td>0.09883</td></tr><tr><td>val_loss</td><td>2.30363</td></tr></table><br/></div></div>"
            ]
          },
          "metadata": {}
        },
        {
          "output_type": "display_data",
          "data": {
            "text/plain": [
              "<IPython.core.display.HTML object>"
            ],
            "text/html": [
              " View run <strong style=\"color:#cdcd00\">amber-sweep-5</strong> at: <a href='https://wandb.ai/21dcs024-national-institute-of-technology-hamirpur/fashion-mnist-sweep/runs/5d30d1vt' target=\"_blank\">https://wandb.ai/21dcs024-national-institute-of-technology-hamirpur/fashion-mnist-sweep/runs/5d30d1vt</a><br> View project at: <a href='https://wandb.ai/21dcs024-national-institute-of-technology-hamirpur/fashion-mnist-sweep' target=\"_blank\">https://wandb.ai/21dcs024-national-institute-of-technology-hamirpur/fashion-mnist-sweep</a><br>Synced 5 W&B file(s), 0 media file(s), 0 artifact file(s) and 0 other file(s)"
            ]
          },
          "metadata": {}
        },
        {
          "output_type": "display_data",
          "data": {
            "text/plain": [
              "<IPython.core.display.HTML object>"
            ],
            "text/html": [
              "Find logs at: <code>./wandb/run-20250217_162632-5d30d1vt/logs</code>"
            ]
          },
          "metadata": {}
        },
        {
          "output_type": "stream",
          "name": "stderr",
          "text": [
            "\u001b[34m\u001b[1mwandb\u001b[0m: Agent Starting Run: amzneuo3 with config:\n",
            "\u001b[34m\u001b[1mwandb\u001b[0m: \tactivation: sigmoid\n",
            "\u001b[34m\u001b[1mwandb\u001b[0m: \tbatch_size: 64\n",
            "\u001b[34m\u001b[1mwandb\u001b[0m: \tepochs: 20\n",
            "\u001b[34m\u001b[1mwandb\u001b[0m: \thidden_size: 128\n",
            "\u001b[34m\u001b[1mwandb\u001b[0m: \tlearning_rate: 0.0001\n",
            "\u001b[34m\u001b[1mwandb\u001b[0m: \tnum_hidden_layers: 4\n",
            "\u001b[34m\u001b[1mwandb\u001b[0m: \toptimizer: adam\n",
            "\u001b[34m\u001b[1mwandb\u001b[0m: \tweight_decay: 0\n",
            "\u001b[34m\u001b[1mwandb\u001b[0m: \tweight_init: random\n"
          ]
        },
        {
          "output_type": "display_data",
          "data": {
            "text/plain": [
              "<IPython.core.display.HTML object>"
            ],
            "text/html": [
              "Tracking run with wandb version 0.19.1"
            ]
          },
          "metadata": {}
        },
        {
          "output_type": "display_data",
          "data": {
            "text/plain": [
              "<IPython.core.display.HTML object>"
            ],
            "text/html": [
              "Run data is saved locally in <code>/content/wandb/run-20250217_162904-amzneuo3</code>"
            ]
          },
          "metadata": {}
        },
        {
          "output_type": "display_data",
          "data": {
            "text/plain": [
              "<IPython.core.display.HTML object>"
            ],
            "text/html": [
              "Syncing run <strong><a href='https://wandb.ai/21dcs024-national-institute-of-technology-hamirpur/fashion-mnist-sweep/runs/amzneuo3' target=\"_blank\">legendary-sweep-6</a></strong> to <a href='https://wandb.ai/21dcs024-national-institute-of-technology-hamirpur/fashion-mnist-sweep' target=\"_blank\">Weights & Biases</a> (<a href='https://wandb.me/developer-guide' target=\"_blank\">docs</a>)<br>Sweep page: <a href='https://wandb.ai/21dcs024-national-institute-of-technology-hamirpur/fashion-mnist-sweep/sweeps/vkq5nnrs' target=\"_blank\">https://wandb.ai/21dcs024-national-institute-of-technology-hamirpur/fashion-mnist-sweep/sweeps/vkq5nnrs</a>"
            ]
          },
          "metadata": {}
        },
        {
          "output_type": "display_data",
          "data": {
            "text/plain": [
              "<IPython.core.display.HTML object>"
            ],
            "text/html": [
              " View project at <a href='https://wandb.ai/21dcs024-national-institute-of-technology-hamirpur/fashion-mnist-sweep' target=\"_blank\">https://wandb.ai/21dcs024-national-institute-of-technology-hamirpur/fashion-mnist-sweep</a>"
            ]
          },
          "metadata": {}
        },
        {
          "output_type": "display_data",
          "data": {
            "text/plain": [
              "<IPython.core.display.HTML object>"
            ],
            "text/html": [
              " View sweep at <a href='https://wandb.ai/21dcs024-national-institute-of-technology-hamirpur/fashion-mnist-sweep/sweeps/vkq5nnrs' target=\"_blank\">https://wandb.ai/21dcs024-national-institute-of-technology-hamirpur/fashion-mnist-sweep/sweeps/vkq5nnrs</a>"
            ]
          },
          "metadata": {}
        },
        {
          "output_type": "display_data",
          "data": {
            "text/plain": [
              "<IPython.core.display.HTML object>"
            ],
            "text/html": [
              " View run at <a href='https://wandb.ai/21dcs024-national-institute-of-technology-hamirpur/fashion-mnist-sweep/runs/amzneuo3' target=\"_blank\">https://wandb.ai/21dcs024-national-institute-of-technology-hamirpur/fashion-mnist-sweep/runs/amzneuo3</a>"
            ]
          },
          "metadata": {}
        },
        {
          "output_type": "stream",
          "name": "stdout",
          "text": [
            "Final Validation Accuracy: 0.8270\n"
          ]
        },
        {
          "output_type": "display_data",
          "data": {
            "text/plain": [
              "<IPython.core.display.HTML object>"
            ],
            "text/html": []
          },
          "metadata": {}
        },
        {
          "output_type": "display_data",
          "data": {
            "text/plain": [
              "<IPython.core.display.HTML object>"
            ],
            "text/html": [
              "<br>    <style><br>        .wandb-row {<br>            display: flex;<br>            flex-direction: row;<br>            flex-wrap: wrap;<br>            justify-content: flex-start;<br>            width: 100%;<br>        }<br>        .wandb-col {<br>            display: flex;<br>            flex-direction: column;<br>            flex-basis: 100%;<br>            flex: 1;<br>            padding: 10px;<br>        }<br>    </style><br><div class=\"wandb-row\"><div class=\"wandb-col\"><h3>Run history:</h3><br/><table class=\"wandb\"><tr><td>epoch</td><td>▁▁▂▂▂▃▃▄▄▄▅▅▅▆▆▇▇▇██</td></tr><tr><td>train_accuracy</td><td>▁▃▃▄▅▆▆▇▇▇▇▇████████</td></tr><tr><td>train_loss</td><td>█▆▅▄▄▃▃▂▂▂▂▂▂▁▁▁▁▁▁▁</td></tr><tr><td>val_accuracy</td><td>▁▃▃▄▅▆▇▇▇▇▇█████████</td></tr><tr><td>val_loss</td><td>█▆▅▅▄▃▃▃▂▂▂▂▂▁▁▁▁▁▁▁</td></tr></table><br/></div><div class=\"wandb-col\"><h3>Run summary:</h3><br/><table class=\"wandb\"><tr><td>epoch</td><td>20</td></tr><tr><td>train_accuracy</td><td>0.83326</td></tr><tr><td>train_loss</td><td>0.47491</td></tr><tr><td>val_accuracy</td><td>0.827</td></tr><tr><td>val_loss</td><td>0.4803</td></tr></table><br/></div></div>"
            ]
          },
          "metadata": {}
        },
        {
          "output_type": "display_data",
          "data": {
            "text/plain": [
              "<IPython.core.display.HTML object>"
            ],
            "text/html": [
              " View run <strong style=\"color:#cdcd00\">legendary-sweep-6</strong> at: <a href='https://wandb.ai/21dcs024-national-institute-of-technology-hamirpur/fashion-mnist-sweep/runs/amzneuo3' target=\"_blank\">https://wandb.ai/21dcs024-national-institute-of-technology-hamirpur/fashion-mnist-sweep/runs/amzneuo3</a><br> View project at: <a href='https://wandb.ai/21dcs024-national-institute-of-technology-hamirpur/fashion-mnist-sweep' target=\"_blank\">https://wandb.ai/21dcs024-national-institute-of-technology-hamirpur/fashion-mnist-sweep</a><br>Synced 5 W&B file(s), 0 media file(s), 0 artifact file(s) and 0 other file(s)"
            ]
          },
          "metadata": {}
        },
        {
          "output_type": "display_data",
          "data": {
            "text/plain": [
              "<IPython.core.display.HTML object>"
            ],
            "text/html": [
              "Find logs at: <code>./wandb/run-20250217_162904-amzneuo3/logs</code>"
            ]
          },
          "metadata": {}
        },
        {
          "output_type": "stream",
          "name": "stderr",
          "text": [
            "\u001b[34m\u001b[1mwandb\u001b[0m: Agent Starting Run: mj2fpak5 with config:\n",
            "\u001b[34m\u001b[1mwandb\u001b[0m: \tactivation: tanh\n",
            "\u001b[34m\u001b[1mwandb\u001b[0m: \tbatch_size: 64\n",
            "\u001b[34m\u001b[1mwandb\u001b[0m: \tepochs: 20\n",
            "\u001b[34m\u001b[1mwandb\u001b[0m: \thidden_size: 32\n",
            "\u001b[34m\u001b[1mwandb\u001b[0m: \tlearning_rate: 0.0001\n",
            "\u001b[34m\u001b[1mwandb\u001b[0m: \tnum_hidden_layers: 5\n",
            "\u001b[34m\u001b[1mwandb\u001b[0m: \toptimizer: rmsprop\n",
            "\u001b[34m\u001b[1mwandb\u001b[0m: \tweight_decay: 0.0005\n",
            "\u001b[34m\u001b[1mwandb\u001b[0m: \tweight_init: xavier\n"
          ]
        },
        {
          "output_type": "display_data",
          "data": {
            "text/plain": [
              "<IPython.core.display.HTML object>"
            ],
            "text/html": [
              "Tracking run with wandb version 0.19.1"
            ]
          },
          "metadata": {}
        },
        {
          "output_type": "display_data",
          "data": {
            "text/plain": [
              "<IPython.core.display.HTML object>"
            ],
            "text/html": [
              "Run data is saved locally in <code>/content/wandb/run-20250217_163353-mj2fpak5</code>"
            ]
          },
          "metadata": {}
        },
        {
          "output_type": "display_data",
          "data": {
            "text/plain": [
              "<IPython.core.display.HTML object>"
            ],
            "text/html": [
              "Syncing run <strong><a href='https://wandb.ai/21dcs024-national-institute-of-technology-hamirpur/fashion-mnist-sweep/runs/mj2fpak5' target=\"_blank\">iconic-sweep-7</a></strong> to <a href='https://wandb.ai/21dcs024-national-institute-of-technology-hamirpur/fashion-mnist-sweep' target=\"_blank\">Weights & Biases</a> (<a href='https://wandb.me/developer-guide' target=\"_blank\">docs</a>)<br>Sweep page: <a href='https://wandb.ai/21dcs024-national-institute-of-technology-hamirpur/fashion-mnist-sweep/sweeps/vkq5nnrs' target=\"_blank\">https://wandb.ai/21dcs024-national-institute-of-technology-hamirpur/fashion-mnist-sweep/sweeps/vkq5nnrs</a>"
            ]
          },
          "metadata": {}
        },
        {
          "output_type": "display_data",
          "data": {
            "text/plain": [
              "<IPython.core.display.HTML object>"
            ],
            "text/html": [
              " View project at <a href='https://wandb.ai/21dcs024-national-institute-of-technology-hamirpur/fashion-mnist-sweep' target=\"_blank\">https://wandb.ai/21dcs024-national-institute-of-technology-hamirpur/fashion-mnist-sweep</a>"
            ]
          },
          "metadata": {}
        },
        {
          "output_type": "display_data",
          "data": {
            "text/plain": [
              "<IPython.core.display.HTML object>"
            ],
            "text/html": [
              " View sweep at <a href='https://wandb.ai/21dcs024-national-institute-of-technology-hamirpur/fashion-mnist-sweep/sweeps/vkq5nnrs' target=\"_blank\">https://wandb.ai/21dcs024-national-institute-of-technology-hamirpur/fashion-mnist-sweep/sweeps/vkq5nnrs</a>"
            ]
          },
          "metadata": {}
        },
        {
          "output_type": "display_data",
          "data": {
            "text/plain": [
              "<IPython.core.display.HTML object>"
            ],
            "text/html": [
              " View run at <a href='https://wandb.ai/21dcs024-national-institute-of-technology-hamirpur/fashion-mnist-sweep/runs/mj2fpak5' target=\"_blank\">https://wandb.ai/21dcs024-national-institute-of-technology-hamirpur/fashion-mnist-sweep/runs/mj2fpak5</a>"
            ]
          },
          "metadata": {}
        },
        {
          "output_type": "stream",
          "name": "stdout",
          "text": [
            "Final Validation Accuracy: 0.8737\n"
          ]
        },
        {
          "output_type": "display_data",
          "data": {
            "text/plain": [
              "<IPython.core.display.HTML object>"
            ],
            "text/html": []
          },
          "metadata": {}
        },
        {
          "output_type": "display_data",
          "data": {
            "text/plain": [
              "<IPython.core.display.HTML object>"
            ],
            "text/html": [
              "<br>    <style><br>        .wandb-row {<br>            display: flex;<br>            flex-direction: row;<br>            flex-wrap: wrap;<br>            justify-content: flex-start;<br>            width: 100%;<br>        }<br>        .wandb-col {<br>            display: flex;<br>            flex-direction: column;<br>            flex-basis: 100%;<br>            flex: 1;<br>            padding: 10px;<br>        }<br>    </style><br><div class=\"wandb-row\"><div class=\"wandb-col\"><h3>Run history:</h3><br/><table class=\"wandb\"><tr><td>epoch</td><td>▁▁▂▂▂▃▃▄▄▄▅▅▅▆▆▇▇▇██</td></tr><tr><td>train_accuracy</td><td>▁▄▅▆▇▇▇▇▇▇▇█████████</td></tr><tr><td>train_loss</td><td>█▄▃▂▂▂▂▂▂▁▁▁▁▁▁▁▁▁▁▁</td></tr><tr><td>val_accuracy</td><td>▁▃▅▅▆▆▇▇▇▇▇█████████</td></tr><tr><td>val_loss</td><td>█▄▃▃▂▂▂▂▂▁▂▁▁▁▁▁▁▁▁▁</td></tr></table><br/></div><div class=\"wandb-col\"><h3>Run summary:</h3><br/><table class=\"wandb\"><tr><td>epoch</td><td>20</td></tr><tr><td>train_accuracy</td><td>0.89161</td></tr><tr><td>train_loss</td><td>0.30817</td></tr><tr><td>val_accuracy</td><td>0.87367</td></tr><tr><td>val_loss</td><td>0.35172</td></tr></table><br/></div></div>"
            ]
          },
          "metadata": {}
        },
        {
          "output_type": "display_data",
          "data": {
            "text/plain": [
              "<IPython.core.display.HTML object>"
            ],
            "text/html": [
              " View run <strong style=\"color:#cdcd00\">iconic-sweep-7</strong> at: <a href='https://wandb.ai/21dcs024-national-institute-of-technology-hamirpur/fashion-mnist-sweep/runs/mj2fpak5' target=\"_blank\">https://wandb.ai/21dcs024-national-institute-of-technology-hamirpur/fashion-mnist-sweep/runs/mj2fpak5</a><br> View project at: <a href='https://wandb.ai/21dcs024-national-institute-of-technology-hamirpur/fashion-mnist-sweep' target=\"_blank\">https://wandb.ai/21dcs024-national-institute-of-technology-hamirpur/fashion-mnist-sweep</a><br>Synced 5 W&B file(s), 0 media file(s), 0 artifact file(s) and 0 other file(s)"
            ]
          },
          "metadata": {}
        },
        {
          "output_type": "display_data",
          "data": {
            "text/plain": [
              "<IPython.core.display.HTML object>"
            ],
            "text/html": [
              "Find logs at: <code>./wandb/run-20250217_163353-mj2fpak5/logs</code>"
            ]
          },
          "metadata": {}
        },
        {
          "output_type": "stream",
          "name": "stderr",
          "text": [
            "\u001b[34m\u001b[1mwandb\u001b[0m: Agent Starting Run: yc8s2ezi with config:\n",
            "\u001b[34m\u001b[1mwandb\u001b[0m: \tactivation: tanh\n",
            "\u001b[34m\u001b[1mwandb\u001b[0m: \tbatch_size: 16\n",
            "\u001b[34m\u001b[1mwandb\u001b[0m: \tepochs: 20\n",
            "\u001b[34m\u001b[1mwandb\u001b[0m: \thidden_size: 64\n",
            "\u001b[34m\u001b[1mwandb\u001b[0m: \tlearning_rate: 0.001\n",
            "\u001b[34m\u001b[1mwandb\u001b[0m: \tnum_hidden_layers: 5\n",
            "\u001b[34m\u001b[1mwandb\u001b[0m: \toptimizer: momentum\n",
            "\u001b[34m\u001b[1mwandb\u001b[0m: \tweight_decay: 0.5\n",
            "\u001b[34m\u001b[1mwandb\u001b[0m: \tweight_init: xavier\n"
          ]
        },
        {
          "output_type": "display_data",
          "data": {
            "text/plain": [
              "<IPython.core.display.HTML object>"
            ],
            "text/html": [
              "Tracking run with wandb version 0.19.1"
            ]
          },
          "metadata": {}
        },
        {
          "output_type": "display_data",
          "data": {
            "text/plain": [
              "<IPython.core.display.HTML object>"
            ],
            "text/html": [
              "Run data is saved locally in <code>/content/wandb/run-20250217_163842-yc8s2ezi</code>"
            ]
          },
          "metadata": {}
        },
        {
          "output_type": "display_data",
          "data": {
            "text/plain": [
              "<IPython.core.display.HTML object>"
            ],
            "text/html": [
              "Syncing run <strong><a href='https://wandb.ai/21dcs024-national-institute-of-technology-hamirpur/fashion-mnist-sweep/runs/yc8s2ezi' target=\"_blank\">balmy-sweep-8</a></strong> to <a href='https://wandb.ai/21dcs024-national-institute-of-technology-hamirpur/fashion-mnist-sweep' target=\"_blank\">Weights & Biases</a> (<a href='https://wandb.me/developer-guide' target=\"_blank\">docs</a>)<br>Sweep page: <a href='https://wandb.ai/21dcs024-national-institute-of-technology-hamirpur/fashion-mnist-sweep/sweeps/vkq5nnrs' target=\"_blank\">https://wandb.ai/21dcs024-national-institute-of-technology-hamirpur/fashion-mnist-sweep/sweeps/vkq5nnrs</a>"
            ]
          },
          "metadata": {}
        },
        {
          "output_type": "display_data",
          "data": {
            "text/plain": [
              "<IPython.core.display.HTML object>"
            ],
            "text/html": [
              " View project at <a href='https://wandb.ai/21dcs024-national-institute-of-technology-hamirpur/fashion-mnist-sweep' target=\"_blank\">https://wandb.ai/21dcs024-national-institute-of-technology-hamirpur/fashion-mnist-sweep</a>"
            ]
          },
          "metadata": {}
        },
        {
          "output_type": "display_data",
          "data": {
            "text/plain": [
              "<IPython.core.display.HTML object>"
            ],
            "text/html": [
              " View sweep at <a href='https://wandb.ai/21dcs024-national-institute-of-technology-hamirpur/fashion-mnist-sweep/sweeps/vkq5nnrs' target=\"_blank\">https://wandb.ai/21dcs024-national-institute-of-technology-hamirpur/fashion-mnist-sweep/sweeps/vkq5nnrs</a>"
            ]
          },
          "metadata": {}
        },
        {
          "output_type": "display_data",
          "data": {
            "text/plain": [
              "<IPython.core.display.HTML object>"
            ],
            "text/html": [
              " View run at <a href='https://wandb.ai/21dcs024-national-institute-of-technology-hamirpur/fashion-mnist-sweep/runs/yc8s2ezi' target=\"_blank\">https://wandb.ai/21dcs024-national-institute-of-technology-hamirpur/fashion-mnist-sweep/runs/yc8s2ezi</a>"
            ]
          },
          "metadata": {}
        },
        {
          "output_type": "stream",
          "name": "stdout",
          "text": [
            "Final Validation Accuracy: 0.0950\n"
          ]
        },
        {
          "output_type": "display_data",
          "data": {
            "text/plain": [
              "<IPython.core.display.HTML object>"
            ],
            "text/html": []
          },
          "metadata": {}
        },
        {
          "output_type": "display_data",
          "data": {
            "text/plain": [
              "<IPython.core.display.HTML object>"
            ],
            "text/html": [
              "<br>    <style><br>        .wandb-row {<br>            display: flex;<br>            flex-direction: row;<br>            flex-wrap: wrap;<br>            justify-content: flex-start;<br>            width: 100%;<br>        }<br>        .wandb-col {<br>            display: flex;<br>            flex-direction: column;<br>            flex-basis: 100%;<br>            flex: 1;<br>            padding: 10px;<br>        }<br>    </style><br><div class=\"wandb-row\"><div class=\"wandb-col\"><h3>Run history:</h3><br/><table class=\"wandb\"><tr><td>epoch</td><td>▁▁▂▂▂▃▃▄▄▄▅▅▅▆▆▇▇▇██</td></tr><tr><td>train_accuracy</td><td>█▂▂▁▂▂▁▂▂▁▂▁▂▂▂▁▂▁▂▂</td></tr><tr><td>train_loss</td><td>▁███████████████████</td></tr><tr><td>val_accuracy</td><td>▁▅▄▁▁▄▂█▃▅▄▁▃█▅▃▅▂▂▁</td></tr><tr><td>val_loss</td><td>▅▂▇▆▄▆▇▁▇▃▅▇▃▂▃▄▆█▅▆</td></tr></table><br/></div><div class=\"wandb-col\"><h3>Run summary:</h3><br/><table class=\"wandb\"><tr><td>epoch</td><td>20</td></tr><tr><td>train_accuracy</td><td>0.09976</td></tr><tr><td>train_loss</td><td>2.30262</td></tr><tr><td>val_accuracy</td><td>0.095</td></tr><tr><td>val_loss</td><td>2.30267</td></tr></table><br/></div></div>"
            ]
          },
          "metadata": {}
        },
        {
          "output_type": "display_data",
          "data": {
            "text/plain": [
              "<IPython.core.display.HTML object>"
            ],
            "text/html": [
              " View run <strong style=\"color:#cdcd00\">balmy-sweep-8</strong> at: <a href='https://wandb.ai/21dcs024-national-institute-of-technology-hamirpur/fashion-mnist-sweep/runs/yc8s2ezi' target=\"_blank\">https://wandb.ai/21dcs024-national-institute-of-technology-hamirpur/fashion-mnist-sweep/runs/yc8s2ezi</a><br> View project at: <a href='https://wandb.ai/21dcs024-national-institute-of-technology-hamirpur/fashion-mnist-sweep' target=\"_blank\">https://wandb.ai/21dcs024-national-institute-of-technology-hamirpur/fashion-mnist-sweep</a><br>Synced 5 W&B file(s), 0 media file(s), 0 artifact file(s) and 0 other file(s)"
            ]
          },
          "metadata": {}
        },
        {
          "output_type": "display_data",
          "data": {
            "text/plain": [
              "<IPython.core.display.HTML object>"
            ],
            "text/html": [
              "Find logs at: <code>./wandb/run-20250217_163842-yc8s2ezi/logs</code>"
            ]
          },
          "metadata": {}
        },
        {
          "output_type": "stream",
          "name": "stderr",
          "text": [
            "\u001b[34m\u001b[1mwandb\u001b[0m: Agent Starting Run: vgt3uhmp with config:\n",
            "\u001b[34m\u001b[1mwandb\u001b[0m: \tactivation: relu\n",
            "\u001b[34m\u001b[1mwandb\u001b[0m: \tbatch_size: 64\n",
            "\u001b[34m\u001b[1mwandb\u001b[0m: \tepochs: 10\n",
            "\u001b[34m\u001b[1mwandb\u001b[0m: \thidden_size: 32\n",
            "\u001b[34m\u001b[1mwandb\u001b[0m: \tlearning_rate: 0.001\n",
            "\u001b[34m\u001b[1mwandb\u001b[0m: \tnum_hidden_layers: 3\n",
            "\u001b[34m\u001b[1mwandb\u001b[0m: \toptimizer: adam\n",
            "\u001b[34m\u001b[1mwandb\u001b[0m: \tweight_decay: 0.5\n",
            "\u001b[34m\u001b[1mwandb\u001b[0m: \tweight_init: xavier\n"
          ]
        },
        {
          "output_type": "display_data",
          "data": {
            "text/plain": [
              "<IPython.core.display.HTML object>"
            ],
            "text/html": [
              "Tracking run with wandb version 0.19.1"
            ]
          },
          "metadata": {}
        },
        {
          "output_type": "display_data",
          "data": {
            "text/plain": [
              "<IPython.core.display.HTML object>"
            ],
            "text/html": [
              "Run data is saved locally in <code>/content/wandb/run-20250217_164528-vgt3uhmp</code>"
            ]
          },
          "metadata": {}
        },
        {
          "output_type": "display_data",
          "data": {
            "text/plain": [
              "<IPython.core.display.HTML object>"
            ],
            "text/html": [
              "Syncing run <strong><a href='https://wandb.ai/21dcs024-national-institute-of-technology-hamirpur/fashion-mnist-sweep/runs/vgt3uhmp' target=\"_blank\">faithful-sweep-9</a></strong> to <a href='https://wandb.ai/21dcs024-national-institute-of-technology-hamirpur/fashion-mnist-sweep' target=\"_blank\">Weights & Biases</a> (<a href='https://wandb.me/developer-guide' target=\"_blank\">docs</a>)<br>Sweep page: <a href='https://wandb.ai/21dcs024-national-institute-of-technology-hamirpur/fashion-mnist-sweep/sweeps/vkq5nnrs' target=\"_blank\">https://wandb.ai/21dcs024-national-institute-of-technology-hamirpur/fashion-mnist-sweep/sweeps/vkq5nnrs</a>"
            ]
          },
          "metadata": {}
        },
        {
          "output_type": "display_data",
          "data": {
            "text/plain": [
              "<IPython.core.display.HTML object>"
            ],
            "text/html": [
              " View project at <a href='https://wandb.ai/21dcs024-national-institute-of-technology-hamirpur/fashion-mnist-sweep' target=\"_blank\">https://wandb.ai/21dcs024-national-institute-of-technology-hamirpur/fashion-mnist-sweep</a>"
            ]
          },
          "metadata": {}
        },
        {
          "output_type": "display_data",
          "data": {
            "text/plain": [
              "<IPython.core.display.HTML object>"
            ],
            "text/html": [
              " View sweep at <a href='https://wandb.ai/21dcs024-national-institute-of-technology-hamirpur/fashion-mnist-sweep/sweeps/vkq5nnrs' target=\"_blank\">https://wandb.ai/21dcs024-national-institute-of-technology-hamirpur/fashion-mnist-sweep/sweeps/vkq5nnrs</a>"
            ]
          },
          "metadata": {}
        },
        {
          "output_type": "display_data",
          "data": {
            "text/plain": [
              "<IPython.core.display.HTML object>"
            ],
            "text/html": [
              " View run at <a href='https://wandb.ai/21dcs024-national-institute-of-technology-hamirpur/fashion-mnist-sweep/runs/vgt3uhmp' target=\"_blank\">https://wandb.ai/21dcs024-national-institute-of-technology-hamirpur/fashion-mnist-sweep/runs/vgt3uhmp</a>"
            ]
          },
          "metadata": {}
        },
        {
          "output_type": "stream",
          "name": "stdout",
          "text": [
            "Final Validation Accuracy: 0.0970\n"
          ]
        },
        {
          "output_type": "display_data",
          "data": {
            "text/plain": [
              "<IPython.core.display.HTML object>"
            ],
            "text/html": []
          },
          "metadata": {}
        },
        {
          "output_type": "display_data",
          "data": {
            "text/plain": [
              "<IPython.core.display.HTML object>"
            ],
            "text/html": [
              "<br>    <style><br>        .wandb-row {<br>            display: flex;<br>            flex-direction: row;<br>            flex-wrap: wrap;<br>            justify-content: flex-start;<br>            width: 100%;<br>        }<br>        .wandb-col {<br>            display: flex;<br>            flex-direction: column;<br>            flex-basis: 100%;<br>            flex: 1;<br>            padding: 10px;<br>        }<br>    </style><br><div class=\"wandb-row\"><div class=\"wandb-col\"><h3>Run history:</h3><br/><table class=\"wandb\"><tr><td>epoch</td><td>▁▂▃▃▄▅▆▆▇█</td></tr><tr><td>train_accuracy</td><td>█▁▁▁▁▁▁▁▁▁</td></tr><tr><td>train_loss</td><td>▁█████████</td></tr><tr><td>val_accuracy</td><td>█▁█▃▃▃▂▃▁▁</td></tr><tr><td>val_loss</td><td>▆▅▁█▄▃█▅▆▇</td></tr></table><br/></div><div class=\"wandb-col\"><h3>Run summary:</h3><br/><table class=\"wandb\"><tr><td>epoch</td><td>10</td></tr><tr><td>train_accuracy</td><td>0.09887</td></tr><tr><td>train_loss</td><td>2.30266</td></tr><tr><td>val_accuracy</td><td>0.097</td></tr><tr><td>val_loss</td><td>2.30265</td></tr></table><br/></div></div>"
            ]
          },
          "metadata": {}
        },
        {
          "output_type": "display_data",
          "data": {
            "text/plain": [
              "<IPython.core.display.HTML object>"
            ],
            "text/html": [
              " View run <strong style=\"color:#cdcd00\">faithful-sweep-9</strong> at: <a href='https://wandb.ai/21dcs024-national-institute-of-technology-hamirpur/fashion-mnist-sweep/runs/vgt3uhmp' target=\"_blank\">https://wandb.ai/21dcs024-national-institute-of-technology-hamirpur/fashion-mnist-sweep/runs/vgt3uhmp</a><br> View project at: <a href='https://wandb.ai/21dcs024-national-institute-of-technology-hamirpur/fashion-mnist-sweep' target=\"_blank\">https://wandb.ai/21dcs024-national-institute-of-technology-hamirpur/fashion-mnist-sweep</a><br>Synced 5 W&B file(s), 0 media file(s), 0 artifact file(s) and 0 other file(s)"
            ]
          },
          "metadata": {}
        },
        {
          "output_type": "display_data",
          "data": {
            "text/plain": [
              "<IPython.core.display.HTML object>"
            ],
            "text/html": [
              "Find logs at: <code>./wandb/run-20250217_164528-vgt3uhmp/logs</code>"
            ]
          },
          "metadata": {}
        },
        {
          "output_type": "stream",
          "name": "stderr",
          "text": [
            "\u001b[34m\u001b[1mwandb\u001b[0m: Agent Starting Run: qsbpgbij with config:\n",
            "\u001b[34m\u001b[1mwandb\u001b[0m: \tactivation: tanh\n",
            "\u001b[34m\u001b[1mwandb\u001b[0m: \tbatch_size: 64\n",
            "\u001b[34m\u001b[1mwandb\u001b[0m: \tepochs: 20\n",
            "\u001b[34m\u001b[1mwandb\u001b[0m: \thidden_size: 128\n",
            "\u001b[34m\u001b[1mwandb\u001b[0m: \tlearning_rate: 0.001\n",
            "\u001b[34m\u001b[1mwandb\u001b[0m: \tnum_hidden_layers: 4\n",
            "\u001b[34m\u001b[1mwandb\u001b[0m: \toptimizer: adamw\n",
            "\u001b[34m\u001b[1mwandb\u001b[0m: \tweight_decay: 0.0005\n",
            "\u001b[34m\u001b[1mwandb\u001b[0m: \tweight_init: xavier\n"
          ]
        },
        {
          "output_type": "display_data",
          "data": {
            "text/plain": [
              "<IPython.core.display.HTML object>"
            ],
            "text/html": [
              "Tracking run with wandb version 0.19.1"
            ]
          },
          "metadata": {}
        },
        {
          "output_type": "display_data",
          "data": {
            "text/plain": [
              "<IPython.core.display.HTML object>"
            ],
            "text/html": [
              "Run data is saved locally in <code>/content/wandb/run-20250217_164800-qsbpgbij</code>"
            ]
          },
          "metadata": {}
        },
        {
          "output_type": "display_data",
          "data": {
            "text/plain": [
              "<IPython.core.display.HTML object>"
            ],
            "text/html": [
              "Syncing run <strong><a href='https://wandb.ai/21dcs024-national-institute-of-technology-hamirpur/fashion-mnist-sweep/runs/qsbpgbij' target=\"_blank\">serene-sweep-10</a></strong> to <a href='https://wandb.ai/21dcs024-national-institute-of-technology-hamirpur/fashion-mnist-sweep' target=\"_blank\">Weights & Biases</a> (<a href='https://wandb.me/developer-guide' target=\"_blank\">docs</a>)<br>Sweep page: <a href='https://wandb.ai/21dcs024-national-institute-of-technology-hamirpur/fashion-mnist-sweep/sweeps/vkq5nnrs' target=\"_blank\">https://wandb.ai/21dcs024-national-institute-of-technology-hamirpur/fashion-mnist-sweep/sweeps/vkq5nnrs</a>"
            ]
          },
          "metadata": {}
        },
        {
          "output_type": "display_data",
          "data": {
            "text/plain": [
              "<IPython.core.display.HTML object>"
            ],
            "text/html": [
              " View project at <a href='https://wandb.ai/21dcs024-national-institute-of-technology-hamirpur/fashion-mnist-sweep' target=\"_blank\">https://wandb.ai/21dcs024-national-institute-of-technology-hamirpur/fashion-mnist-sweep</a>"
            ]
          },
          "metadata": {}
        },
        {
          "output_type": "display_data",
          "data": {
            "text/plain": [
              "<IPython.core.display.HTML object>"
            ],
            "text/html": [
              " View sweep at <a href='https://wandb.ai/21dcs024-national-institute-of-technology-hamirpur/fashion-mnist-sweep/sweeps/vkq5nnrs' target=\"_blank\">https://wandb.ai/21dcs024-national-institute-of-technology-hamirpur/fashion-mnist-sweep/sweeps/vkq5nnrs</a>"
            ]
          },
          "metadata": {}
        },
        {
          "output_type": "display_data",
          "data": {
            "text/plain": [
              "<IPython.core.display.HTML object>"
            ],
            "text/html": [
              " View run at <a href='https://wandb.ai/21dcs024-national-institute-of-technology-hamirpur/fashion-mnist-sweep/runs/qsbpgbij' target=\"_blank\">https://wandb.ai/21dcs024-national-institute-of-technology-hamirpur/fashion-mnist-sweep/runs/qsbpgbij</a>"
            ]
          },
          "metadata": {}
        },
        {
          "output_type": "stream",
          "name": "stdout",
          "text": [
            "Final Validation Accuracy: 0.8888\n"
          ]
        },
        {
          "output_type": "display_data",
          "data": {
            "text/plain": [
              "<IPython.core.display.HTML object>"
            ],
            "text/html": []
          },
          "metadata": {}
        },
        {
          "output_type": "display_data",
          "data": {
            "text/plain": [
              "<IPython.core.display.HTML object>"
            ],
            "text/html": [
              "<br>    <style><br>        .wandb-row {<br>            display: flex;<br>            flex-direction: row;<br>            flex-wrap: wrap;<br>            justify-content: flex-start;<br>            width: 100%;<br>        }<br>        .wandb-col {<br>            display: flex;<br>            flex-direction: column;<br>            flex-basis: 100%;<br>            flex: 1;<br>            padding: 10px;<br>        }<br>    </style><br><div class=\"wandb-row\"><div class=\"wandb-col\"><h3>Run history:</h3><br/><table class=\"wandb\"><tr><td>epoch</td><td>▁▁▂▂▂▃▃▄▄▄▅▅▅▆▆▇▇▇██</td></tr><tr><td>train_accuracy</td><td>▁▄▄▅▅▆▆▆▆▇▇▇▇▇██████</td></tr><tr><td>train_loss</td><td>█▅▄▄▄▃▃▃▂▂▂▂▂▂▁▁▁▁▁▁</td></tr><tr><td>val_accuracy</td><td>▁▃▅▅▅▇▇▇▇▇▇▇▆▆▆▇█▇▇█</td></tr><tr><td>val_loss</td><td>█▄▄▃▃▁▂▁▂▁▁▂▃▂▃▂▁▂▄▁</td></tr></table><br/></div><div class=\"wandb-col\"><h3>Run summary:</h3><br/><table class=\"wandb\"><tr><td>epoch</td><td>20</td></tr><tr><td>train_accuracy</td><td>0.92115</td></tr><tr><td>train_loss</td><td>0.21218</td></tr><tr><td>val_accuracy</td><td>0.88883</td></tr><tr><td>val_loss</td><td>0.33256</td></tr></table><br/></div></div>"
            ]
          },
          "metadata": {}
        },
        {
          "output_type": "display_data",
          "data": {
            "text/plain": [
              "<IPython.core.display.HTML object>"
            ],
            "text/html": [
              " View run <strong style=\"color:#cdcd00\">serene-sweep-10</strong> at: <a href='https://wandb.ai/21dcs024-national-institute-of-technology-hamirpur/fashion-mnist-sweep/runs/qsbpgbij' target=\"_blank\">https://wandb.ai/21dcs024-national-institute-of-technology-hamirpur/fashion-mnist-sweep/runs/qsbpgbij</a><br> View project at: <a href='https://wandb.ai/21dcs024-national-institute-of-technology-hamirpur/fashion-mnist-sweep' target=\"_blank\">https://wandb.ai/21dcs024-national-institute-of-technology-hamirpur/fashion-mnist-sweep</a><br>Synced 5 W&B file(s), 0 media file(s), 0 artifact file(s) and 0 other file(s)"
            ]
          },
          "metadata": {}
        },
        {
          "output_type": "display_data",
          "data": {
            "text/plain": [
              "<IPython.core.display.HTML object>"
            ],
            "text/html": [
              "Find logs at: <code>./wandb/run-20250217_164800-qsbpgbij/logs</code>"
            ]
          },
          "metadata": {}
        },
        {
          "output_type": "stream",
          "name": "stderr",
          "text": [
            "\u001b[34m\u001b[1mwandb\u001b[0m: Agent Starting Run: 6lbi95dz with config:\n",
            "\u001b[34m\u001b[1mwandb\u001b[0m: \tactivation: sigmoid\n",
            "\u001b[34m\u001b[1mwandb\u001b[0m: \tbatch_size: 64\n",
            "\u001b[34m\u001b[1mwandb\u001b[0m: \tepochs: 10\n",
            "\u001b[34m\u001b[1mwandb\u001b[0m: \thidden_size: 64\n",
            "\u001b[34m\u001b[1mwandb\u001b[0m: \tlearning_rate: 0.0001\n",
            "\u001b[34m\u001b[1mwandb\u001b[0m: \tnum_hidden_layers: 3\n",
            "\u001b[34m\u001b[1mwandb\u001b[0m: \toptimizer: adamw\n",
            "\u001b[34m\u001b[1mwandb\u001b[0m: \tweight_decay: 0.5\n",
            "\u001b[34m\u001b[1mwandb\u001b[0m: \tweight_init: random\n"
          ]
        },
        {
          "output_type": "display_data",
          "data": {
            "text/plain": [
              "<IPython.core.display.HTML object>"
            ],
            "text/html": [
              "Tracking run with wandb version 0.19.1"
            ]
          },
          "metadata": {}
        },
        {
          "output_type": "display_data",
          "data": {
            "text/plain": [
              "<IPython.core.display.HTML object>"
            ],
            "text/html": [
              "Run data is saved locally in <code>/content/wandb/run-20250217_165249-6lbi95dz</code>"
            ]
          },
          "metadata": {}
        },
        {
          "output_type": "display_data",
          "data": {
            "text/plain": [
              "<IPython.core.display.HTML object>"
            ],
            "text/html": [
              "Syncing run <strong><a href='https://wandb.ai/21dcs024-national-institute-of-technology-hamirpur/fashion-mnist-sweep/runs/6lbi95dz' target=\"_blank\">mild-sweep-11</a></strong> to <a href='https://wandb.ai/21dcs024-national-institute-of-technology-hamirpur/fashion-mnist-sweep' target=\"_blank\">Weights & Biases</a> (<a href='https://wandb.me/developer-guide' target=\"_blank\">docs</a>)<br>Sweep page: <a href='https://wandb.ai/21dcs024-national-institute-of-technology-hamirpur/fashion-mnist-sweep/sweeps/vkq5nnrs' target=\"_blank\">https://wandb.ai/21dcs024-national-institute-of-technology-hamirpur/fashion-mnist-sweep/sweeps/vkq5nnrs</a>"
            ]
          },
          "metadata": {}
        },
        {
          "output_type": "display_data",
          "data": {
            "text/plain": [
              "<IPython.core.display.HTML object>"
            ],
            "text/html": [
              " View project at <a href='https://wandb.ai/21dcs024-national-institute-of-technology-hamirpur/fashion-mnist-sweep' target=\"_blank\">https://wandb.ai/21dcs024-national-institute-of-technology-hamirpur/fashion-mnist-sweep</a>"
            ]
          },
          "metadata": {}
        },
        {
          "output_type": "display_data",
          "data": {
            "text/plain": [
              "<IPython.core.display.HTML object>"
            ],
            "text/html": [
              " View sweep at <a href='https://wandb.ai/21dcs024-national-institute-of-technology-hamirpur/fashion-mnist-sweep/sweeps/vkq5nnrs' target=\"_blank\">https://wandb.ai/21dcs024-national-institute-of-technology-hamirpur/fashion-mnist-sweep/sweeps/vkq5nnrs</a>"
            ]
          },
          "metadata": {}
        },
        {
          "output_type": "display_data",
          "data": {
            "text/plain": [
              "<IPython.core.display.HTML object>"
            ],
            "text/html": [
              " View run at <a href='https://wandb.ai/21dcs024-national-institute-of-technology-hamirpur/fashion-mnist-sweep/runs/6lbi95dz' target=\"_blank\">https://wandb.ai/21dcs024-national-institute-of-technology-hamirpur/fashion-mnist-sweep/runs/6lbi95dz</a>"
            ]
          },
          "metadata": {}
        },
        {
          "output_type": "stream",
          "name": "stdout",
          "text": [
            "Final Validation Accuracy: 0.7392\n"
          ]
        },
        {
          "output_type": "display_data",
          "data": {
            "text/plain": [
              "<IPython.core.display.HTML object>"
            ],
            "text/html": []
          },
          "metadata": {}
        },
        {
          "output_type": "display_data",
          "data": {
            "text/plain": [
              "<IPython.core.display.HTML object>"
            ],
            "text/html": [
              "<br>    <style><br>        .wandb-row {<br>            display: flex;<br>            flex-direction: row;<br>            flex-wrap: wrap;<br>            justify-content: flex-start;<br>            width: 100%;<br>        }<br>        .wandb-col {<br>            display: flex;<br>            flex-direction: column;<br>            flex-basis: 100%;<br>            flex: 1;<br>            padding: 10px;<br>        }<br>    </style><br><div class=\"wandb-row\"><div class=\"wandb-col\"><h3>Run history:</h3><br/><table class=\"wandb\"><tr><td>epoch</td><td>▁▂▃▃▄▅▆▆▇█</td></tr><tr><td>train_accuracy</td><td>▁▄▅▆▆▇▇███</td></tr><tr><td>train_loss</td><td>█▅▄▃▃▂▂▁▁▁</td></tr><tr><td>val_accuracy</td><td>▁▄▅▆▇▇▇███</td></tr><tr><td>val_loss</td><td>█▅▄▃▃▂▂▁▁▁</td></tr></table><br/></div><div class=\"wandb-col\"><h3>Run summary:</h3><br/><table class=\"wandb\"><tr><td>epoch</td><td>10</td></tr><tr><td>train_accuracy</td><td>0.73767</td></tr><tr><td>train_loss</td><td>0.72929</td></tr><tr><td>val_accuracy</td><td>0.73917</td></tr><tr><td>val_loss</td><td>0.71306</td></tr></table><br/></div></div>"
            ]
          },
          "metadata": {}
        },
        {
          "output_type": "display_data",
          "data": {
            "text/plain": [
              "<IPython.core.display.HTML object>"
            ],
            "text/html": [
              " View run <strong style=\"color:#cdcd00\">mild-sweep-11</strong> at: <a href='https://wandb.ai/21dcs024-national-institute-of-technology-hamirpur/fashion-mnist-sweep/runs/6lbi95dz' target=\"_blank\">https://wandb.ai/21dcs024-national-institute-of-technology-hamirpur/fashion-mnist-sweep/runs/6lbi95dz</a><br> View project at: <a href='https://wandb.ai/21dcs024-national-institute-of-technology-hamirpur/fashion-mnist-sweep' target=\"_blank\">https://wandb.ai/21dcs024-national-institute-of-technology-hamirpur/fashion-mnist-sweep</a><br>Synced 5 W&B file(s), 0 media file(s), 0 artifact file(s) and 0 other file(s)"
            ]
          },
          "metadata": {}
        },
        {
          "output_type": "display_data",
          "data": {
            "text/plain": [
              "<IPython.core.display.HTML object>"
            ],
            "text/html": [
              "Find logs at: <code>./wandb/run-20250217_165249-6lbi95dz/logs</code>"
            ]
          },
          "metadata": {}
        },
        {
          "output_type": "stream",
          "name": "stderr",
          "text": [
            "\u001b[34m\u001b[1mwandb\u001b[0m: Agent Starting Run: wm9nviuw with config:\n",
            "\u001b[34m\u001b[1mwandb\u001b[0m: \tactivation: sigmoid\n",
            "\u001b[34m\u001b[1mwandb\u001b[0m: \tbatch_size: 64\n",
            "\u001b[34m\u001b[1mwandb\u001b[0m: \tepochs: 20\n",
            "\u001b[34m\u001b[1mwandb\u001b[0m: \thidden_size: 128\n",
            "\u001b[34m\u001b[1mwandb\u001b[0m: \tlearning_rate: 0.0001\n",
            "\u001b[34m\u001b[1mwandb\u001b[0m: \tnum_hidden_layers: 5\n",
            "\u001b[34m\u001b[1mwandb\u001b[0m: \toptimizer: rmsprop\n",
            "\u001b[34m\u001b[1mwandb\u001b[0m: \tweight_decay: 0.0005\n",
            "\u001b[34m\u001b[1mwandb\u001b[0m: \tweight_init: random\n"
          ]
        },
        {
          "output_type": "display_data",
          "data": {
            "text/plain": [
              "<IPython.core.display.HTML object>"
            ],
            "text/html": [
              "Tracking run with wandb version 0.19.1"
            ]
          },
          "metadata": {}
        },
        {
          "output_type": "display_data",
          "data": {
            "text/plain": [
              "<IPython.core.display.HTML object>"
            ],
            "text/html": [
              "Run data is saved locally in <code>/content/wandb/run-20250217_165521-wm9nviuw</code>"
            ]
          },
          "metadata": {}
        },
        {
          "output_type": "display_data",
          "data": {
            "text/plain": [
              "<IPython.core.display.HTML object>"
            ],
            "text/html": [
              "Syncing run <strong><a href='https://wandb.ai/21dcs024-national-institute-of-technology-hamirpur/fashion-mnist-sweep/runs/wm9nviuw' target=\"_blank\">dry-sweep-12</a></strong> to <a href='https://wandb.ai/21dcs024-national-institute-of-technology-hamirpur/fashion-mnist-sweep' target=\"_blank\">Weights & Biases</a> (<a href='https://wandb.me/developer-guide' target=\"_blank\">docs</a>)<br>Sweep page: <a href='https://wandb.ai/21dcs024-national-institute-of-technology-hamirpur/fashion-mnist-sweep/sweeps/vkq5nnrs' target=\"_blank\">https://wandb.ai/21dcs024-national-institute-of-technology-hamirpur/fashion-mnist-sweep/sweeps/vkq5nnrs</a>"
            ]
          },
          "metadata": {}
        },
        {
          "output_type": "display_data",
          "data": {
            "text/plain": [
              "<IPython.core.display.HTML object>"
            ],
            "text/html": [
              " View project at <a href='https://wandb.ai/21dcs024-national-institute-of-technology-hamirpur/fashion-mnist-sweep' target=\"_blank\">https://wandb.ai/21dcs024-national-institute-of-technology-hamirpur/fashion-mnist-sweep</a>"
            ]
          },
          "metadata": {}
        },
        {
          "output_type": "display_data",
          "data": {
            "text/plain": [
              "<IPython.core.display.HTML object>"
            ],
            "text/html": [
              " View sweep at <a href='https://wandb.ai/21dcs024-national-institute-of-technology-hamirpur/fashion-mnist-sweep/sweeps/vkq5nnrs' target=\"_blank\">https://wandb.ai/21dcs024-national-institute-of-technology-hamirpur/fashion-mnist-sweep/sweeps/vkq5nnrs</a>"
            ]
          },
          "metadata": {}
        },
        {
          "output_type": "display_data",
          "data": {
            "text/plain": [
              "<IPython.core.display.HTML object>"
            ],
            "text/html": [
              " View run at <a href='https://wandb.ai/21dcs024-national-institute-of-technology-hamirpur/fashion-mnist-sweep/runs/wm9nviuw' target=\"_blank\">https://wandb.ai/21dcs024-national-institute-of-technology-hamirpur/fashion-mnist-sweep/runs/wm9nviuw</a>"
            ]
          },
          "metadata": {}
        },
        {
          "output_type": "stream",
          "name": "stdout",
          "text": [
            "Final Validation Accuracy: 0.0940\n"
          ]
        },
        {
          "output_type": "display_data",
          "data": {
            "text/plain": [
              "<IPython.core.display.HTML object>"
            ],
            "text/html": []
          },
          "metadata": {}
        },
        {
          "output_type": "display_data",
          "data": {
            "text/plain": [
              "<IPython.core.display.HTML object>"
            ],
            "text/html": [
              "<br>    <style><br>        .wandb-row {<br>            display: flex;<br>            flex-direction: row;<br>            flex-wrap: wrap;<br>            justify-content: flex-start;<br>            width: 100%;<br>        }<br>        .wandb-col {<br>            display: flex;<br>            flex-direction: column;<br>            flex-basis: 100%;<br>            flex: 1;<br>            padding: 10px;<br>        }<br>    </style><br><div class=\"wandb-row\"><div class=\"wandb-col\"><h3>Run history:</h3><br/><table class=\"wandb\"><tr><td>epoch</td><td>▁▁▂▂▂▃▃▄▄▄▅▅▅▆▆▇▇▇██</td></tr><tr><td>train_accuracy</td><td>█▂▄▅▃▄▅▆▃▁▃▂▄▅▆▆▅▆▄▆</td></tr><tr><td>train_loss</td><td>█▄▄▂▃▃▃▁▃▄▂▂▂▃▁▂▂▂▁▂</td></tr><tr><td>val_accuracy</td><td>▁▅▅▁▁█▁▅▄▆█▁▄▆▆▆▄█▁▁</td></tr><tr><td>val_loss</td><td>▂▄▅▄▆▁▃▃▄▂▂▃▃▂▃▁▁▁█▃</td></tr></table><br/></div><div class=\"wandb-col\"><h3>Run summary:</h3><br/><table class=\"wandb\"><tr><td>epoch</td><td>20</td></tr><tr><td>train_accuracy</td><td>0.10054</td></tr><tr><td>train_loss</td><td>2.30353</td></tr><tr><td>val_accuracy</td><td>0.094</td></tr><tr><td>val_loss</td><td>2.30379</td></tr></table><br/></div></div>"
            ]
          },
          "metadata": {}
        },
        {
          "output_type": "display_data",
          "data": {
            "text/plain": [
              "<IPython.core.display.HTML object>"
            ],
            "text/html": [
              " View run <strong style=\"color:#cdcd00\">dry-sweep-12</strong> at: <a href='https://wandb.ai/21dcs024-national-institute-of-technology-hamirpur/fashion-mnist-sweep/runs/wm9nviuw' target=\"_blank\">https://wandb.ai/21dcs024-national-institute-of-technology-hamirpur/fashion-mnist-sweep/runs/wm9nviuw</a><br> View project at: <a href='https://wandb.ai/21dcs024-national-institute-of-technology-hamirpur/fashion-mnist-sweep' target=\"_blank\">https://wandb.ai/21dcs024-national-institute-of-technology-hamirpur/fashion-mnist-sweep</a><br>Synced 5 W&B file(s), 0 media file(s), 0 artifact file(s) and 0 other file(s)"
            ]
          },
          "metadata": {}
        },
        {
          "output_type": "display_data",
          "data": {
            "text/plain": [
              "<IPython.core.display.HTML object>"
            ],
            "text/html": [
              "Find logs at: <code>./wandb/run-20250217_165521-wm9nviuw/logs</code>"
            ]
          },
          "metadata": {}
        },
        {
          "output_type": "stream",
          "name": "stderr",
          "text": [
            "\u001b[34m\u001b[1mwandb\u001b[0m: Agent Starting Run: bvbcr69h with config:\n",
            "\u001b[34m\u001b[1mwandb\u001b[0m: \tactivation: sigmoid\n",
            "\u001b[34m\u001b[1mwandb\u001b[0m: \tbatch_size: 16\n",
            "\u001b[34m\u001b[1mwandb\u001b[0m: \tepochs: 20\n",
            "\u001b[34m\u001b[1mwandb\u001b[0m: \thidden_size: 128\n",
            "\u001b[34m\u001b[1mwandb\u001b[0m: \tlearning_rate: 0.0001\n",
            "\u001b[34m\u001b[1mwandb\u001b[0m: \tnum_hidden_layers: 5\n",
            "\u001b[34m\u001b[1mwandb\u001b[0m: \toptimizer: nadam\n",
            "\u001b[34m\u001b[1mwandb\u001b[0m: \tweight_decay: 0\n",
            "\u001b[34m\u001b[1mwandb\u001b[0m: \tweight_init: random\n"
          ]
        },
        {
          "output_type": "display_data",
          "data": {
            "text/plain": [
              "<IPython.core.display.HTML object>"
            ],
            "text/html": [
              "Tracking run with wandb version 0.19.1"
            ]
          },
          "metadata": {}
        },
        {
          "output_type": "display_data",
          "data": {
            "text/plain": [
              "<IPython.core.display.HTML object>"
            ],
            "text/html": [
              "Run data is saved locally in <code>/content/wandb/run-20250217_170015-bvbcr69h</code>"
            ]
          },
          "metadata": {}
        },
        {
          "output_type": "display_data",
          "data": {
            "text/plain": [
              "<IPython.core.display.HTML object>"
            ],
            "text/html": [
              "Syncing run <strong><a href='https://wandb.ai/21dcs024-national-institute-of-technology-hamirpur/fashion-mnist-sweep/runs/bvbcr69h' target=\"_blank\">copper-sweep-13</a></strong> to <a href='https://wandb.ai/21dcs024-national-institute-of-technology-hamirpur/fashion-mnist-sweep' target=\"_blank\">Weights & Biases</a> (<a href='https://wandb.me/developer-guide' target=\"_blank\">docs</a>)<br>Sweep page: <a href='https://wandb.ai/21dcs024-national-institute-of-technology-hamirpur/fashion-mnist-sweep/sweeps/vkq5nnrs' target=\"_blank\">https://wandb.ai/21dcs024-national-institute-of-technology-hamirpur/fashion-mnist-sweep/sweeps/vkq5nnrs</a>"
            ]
          },
          "metadata": {}
        },
        {
          "output_type": "display_data",
          "data": {
            "text/plain": [
              "<IPython.core.display.HTML object>"
            ],
            "text/html": [
              " View project at <a href='https://wandb.ai/21dcs024-national-institute-of-technology-hamirpur/fashion-mnist-sweep' target=\"_blank\">https://wandb.ai/21dcs024-national-institute-of-technology-hamirpur/fashion-mnist-sweep</a>"
            ]
          },
          "metadata": {}
        },
        {
          "output_type": "display_data",
          "data": {
            "text/plain": [
              "<IPython.core.display.HTML object>"
            ],
            "text/html": [
              " View sweep at <a href='https://wandb.ai/21dcs024-national-institute-of-technology-hamirpur/fashion-mnist-sweep/sweeps/vkq5nnrs' target=\"_blank\">https://wandb.ai/21dcs024-national-institute-of-technology-hamirpur/fashion-mnist-sweep/sweeps/vkq5nnrs</a>"
            ]
          },
          "metadata": {}
        },
        {
          "output_type": "display_data",
          "data": {
            "text/plain": [
              "<IPython.core.display.HTML object>"
            ],
            "text/html": [
              " View run at <a href='https://wandb.ai/21dcs024-national-institute-of-technology-hamirpur/fashion-mnist-sweep/runs/bvbcr69h' target=\"_blank\">https://wandb.ai/21dcs024-national-institute-of-technology-hamirpur/fashion-mnist-sweep/runs/bvbcr69h</a>"
            ]
          },
          "metadata": {}
        },
        {
          "output_type": "stream",
          "name": "stdout",
          "text": [
            "Final Validation Accuracy: 0.8400\n"
          ]
        },
        {
          "output_type": "display_data",
          "data": {
            "text/plain": [
              "<IPython.core.display.HTML object>"
            ],
            "text/html": []
          },
          "metadata": {}
        },
        {
          "output_type": "display_data",
          "data": {
            "text/plain": [
              "<IPython.core.display.HTML object>"
            ],
            "text/html": [
              "<br>    <style><br>        .wandb-row {<br>            display: flex;<br>            flex-direction: row;<br>            flex-wrap: wrap;<br>            justify-content: flex-start;<br>            width: 100%;<br>        }<br>        .wandb-col {<br>            display: flex;<br>            flex-direction: column;<br>            flex-basis: 100%;<br>            flex: 1;<br>            padding: 10px;<br>        }<br>    </style><br><div class=\"wandb-row\"><div class=\"wandb-col\"><h3>Run history:</h3><br/><table class=\"wandb\"><tr><td>epoch</td><td>▁▁▂▂▂▃▃▄▄▄▅▅▅▆▆▇▇▇██</td></tr><tr><td>train_accuracy</td><td>▁▃▅▆▆▇▇▇▇▇▇█████████</td></tr><tr><td>train_loss</td><td>█▆▄▃▃▂▂▂▂▂▂▂▁▁▁▁▁▁▁▁</td></tr><tr><td>val_accuracy</td><td>▁▄▆▇▇▇▇▇▇▇██████████</td></tr><tr><td>val_loss</td><td>█▅▃▃▂▂▂▂▂▂▁▂▁▁▁▁▁▁▁▁</td></tr></table><br/></div><div class=\"wandb-col\"><h3>Run summary:</h3><br/><table class=\"wandb\"><tr><td>epoch</td><td>20</td></tr><tr><td>train_accuracy</td><td>0.86709</td></tr><tr><td>train_loss</td><td>0.40801</td></tr><tr><td>val_accuracy</td><td>0.84</td></tr><tr><td>val_loss</td><td>0.49054</td></tr></table><br/></div></div>"
            ]
          },
          "metadata": {}
        },
        {
          "output_type": "display_data",
          "data": {
            "text/plain": [
              "<IPython.core.display.HTML object>"
            ],
            "text/html": [
              " View run <strong style=\"color:#cdcd00\">copper-sweep-13</strong> at: <a href='https://wandb.ai/21dcs024-national-institute-of-technology-hamirpur/fashion-mnist-sweep/runs/bvbcr69h' target=\"_blank\">https://wandb.ai/21dcs024-national-institute-of-technology-hamirpur/fashion-mnist-sweep/runs/bvbcr69h</a><br> View project at: <a href='https://wandb.ai/21dcs024-national-institute-of-technology-hamirpur/fashion-mnist-sweep' target=\"_blank\">https://wandb.ai/21dcs024-national-institute-of-technology-hamirpur/fashion-mnist-sweep</a><br>Synced 5 W&B file(s), 0 media file(s), 0 artifact file(s) and 0 other file(s)"
            ]
          },
          "metadata": {}
        },
        {
          "output_type": "display_data",
          "data": {
            "text/plain": [
              "<IPython.core.display.HTML object>"
            ],
            "text/html": [
              "Find logs at: <code>./wandb/run-20250217_170015-bvbcr69h/logs</code>"
            ]
          },
          "metadata": {}
        },
        {
          "output_type": "stream",
          "name": "stderr",
          "text": [
            "\u001b[34m\u001b[1mwandb\u001b[0m: Agent Starting Run: 4nxg46at with config:\n",
            "\u001b[34m\u001b[1mwandb\u001b[0m: \tactivation: tanh\n",
            "\u001b[34m\u001b[1mwandb\u001b[0m: \tbatch_size: 64\n",
            "\u001b[34m\u001b[1mwandb\u001b[0m: \tepochs: 5\n",
            "\u001b[34m\u001b[1mwandb\u001b[0m: \thidden_size: 64\n",
            "\u001b[34m\u001b[1mwandb\u001b[0m: \tlearning_rate: 0.001\n",
            "\u001b[34m\u001b[1mwandb\u001b[0m: \tnum_hidden_layers: 3\n",
            "\u001b[34m\u001b[1mwandb\u001b[0m: \toptimizer: nesterov\n",
            "\u001b[34m\u001b[1mwandb\u001b[0m: \tweight_decay: 0\n",
            "\u001b[34m\u001b[1mwandb\u001b[0m: \tweight_init: random\n"
          ]
        },
        {
          "output_type": "display_data",
          "data": {
            "text/plain": [
              "<IPython.core.display.HTML object>"
            ],
            "text/html": [
              "Tracking run with wandb version 0.19.1"
            ]
          },
          "metadata": {}
        },
        {
          "output_type": "display_data",
          "data": {
            "text/plain": [
              "<IPython.core.display.HTML object>"
            ],
            "text/html": [
              "Run data is saved locally in <code>/content/wandb/run-20250217_170726-4nxg46at</code>"
            ]
          },
          "metadata": {}
        },
        {
          "output_type": "display_data",
          "data": {
            "text/plain": [
              "<IPython.core.display.HTML object>"
            ],
            "text/html": [
              "Syncing run <strong><a href='https://wandb.ai/21dcs024-national-institute-of-technology-hamirpur/fashion-mnist-sweep/runs/4nxg46at' target=\"_blank\">worthy-sweep-14</a></strong> to <a href='https://wandb.ai/21dcs024-national-institute-of-technology-hamirpur/fashion-mnist-sweep' target=\"_blank\">Weights & Biases</a> (<a href='https://wandb.me/developer-guide' target=\"_blank\">docs</a>)<br>Sweep page: <a href='https://wandb.ai/21dcs024-national-institute-of-technology-hamirpur/fashion-mnist-sweep/sweeps/vkq5nnrs' target=\"_blank\">https://wandb.ai/21dcs024-national-institute-of-technology-hamirpur/fashion-mnist-sweep/sweeps/vkq5nnrs</a>"
            ]
          },
          "metadata": {}
        },
        {
          "output_type": "display_data",
          "data": {
            "text/plain": [
              "<IPython.core.display.HTML object>"
            ],
            "text/html": [
              " View project at <a href='https://wandb.ai/21dcs024-national-institute-of-technology-hamirpur/fashion-mnist-sweep' target=\"_blank\">https://wandb.ai/21dcs024-national-institute-of-technology-hamirpur/fashion-mnist-sweep</a>"
            ]
          },
          "metadata": {}
        },
        {
          "output_type": "display_data",
          "data": {
            "text/plain": [
              "<IPython.core.display.HTML object>"
            ],
            "text/html": [
              " View sweep at <a href='https://wandb.ai/21dcs024-national-institute-of-technology-hamirpur/fashion-mnist-sweep/sweeps/vkq5nnrs' target=\"_blank\">https://wandb.ai/21dcs024-national-institute-of-technology-hamirpur/fashion-mnist-sweep/sweeps/vkq5nnrs</a>"
            ]
          },
          "metadata": {}
        },
        {
          "output_type": "display_data",
          "data": {
            "text/plain": [
              "<IPython.core.display.HTML object>"
            ],
            "text/html": [
              " View run at <a href='https://wandb.ai/21dcs024-national-institute-of-technology-hamirpur/fashion-mnist-sweep/runs/4nxg46at' target=\"_blank\">https://wandb.ai/21dcs024-national-institute-of-technology-hamirpur/fashion-mnist-sweep/runs/4nxg46at</a>"
            ]
          },
          "metadata": {}
        },
        {
          "output_type": "stream",
          "name": "stdout",
          "text": [
            "Final Validation Accuracy: 0.8365\n"
          ]
        },
        {
          "output_type": "display_data",
          "data": {
            "text/plain": [
              "<IPython.core.display.HTML object>"
            ],
            "text/html": []
          },
          "metadata": {}
        },
        {
          "output_type": "display_data",
          "data": {
            "text/plain": [
              "<IPython.core.display.HTML object>"
            ],
            "text/html": [
              "<br>    <style><br>        .wandb-row {<br>            display: flex;<br>            flex-direction: row;<br>            flex-wrap: wrap;<br>            justify-content: flex-start;<br>            width: 100%;<br>        }<br>        .wandb-col {<br>            display: flex;<br>            flex-direction: column;<br>            flex-basis: 100%;<br>            flex: 1;<br>            padding: 10px;<br>        }<br>    </style><br><div class=\"wandb-row\"><div class=\"wandb-col\"><h3>Run history:</h3><br/><table class=\"wandb\"><tr><td>epoch</td><td>▁▃▅▆█</td></tr><tr><td>train_accuracy</td><td>▁▆▇██</td></tr><tr><td>train_loss</td><td>█▃▂▁▁</td></tr><tr><td>val_accuracy</td><td>▁▅▇██</td></tr><tr><td>val_loss</td><td>█▄▂▁▁</td></tr></table><br/></div><div class=\"wandb-col\"><h3>Run summary:</h3><br/><table class=\"wandb\"><tr><td>epoch</td><td>5</td></tr><tr><td>train_accuracy</td><td>0.83806</td></tr><tr><td>train_loss</td><td>0.45696</td></tr><tr><td>val_accuracy</td><td>0.8365</td></tr><tr><td>val_loss</td><td>0.46176</td></tr></table><br/></div></div>"
            ]
          },
          "metadata": {}
        },
        {
          "output_type": "display_data",
          "data": {
            "text/plain": [
              "<IPython.core.display.HTML object>"
            ],
            "text/html": [
              " View run <strong style=\"color:#cdcd00\">worthy-sweep-14</strong> at: <a href='https://wandb.ai/21dcs024-national-institute-of-technology-hamirpur/fashion-mnist-sweep/runs/4nxg46at' target=\"_blank\">https://wandb.ai/21dcs024-national-institute-of-technology-hamirpur/fashion-mnist-sweep/runs/4nxg46at</a><br> View project at: <a href='https://wandb.ai/21dcs024-national-institute-of-technology-hamirpur/fashion-mnist-sweep' target=\"_blank\">https://wandb.ai/21dcs024-national-institute-of-technology-hamirpur/fashion-mnist-sweep</a><br>Synced 5 W&B file(s), 0 media file(s), 0 artifact file(s) and 0 other file(s)"
            ]
          },
          "metadata": {}
        },
        {
          "output_type": "display_data",
          "data": {
            "text/plain": [
              "<IPython.core.display.HTML object>"
            ],
            "text/html": [
              "Find logs at: <code>./wandb/run-20250217_170726-4nxg46at/logs</code>"
            ]
          },
          "metadata": {}
        },
        {
          "output_type": "stream",
          "name": "stderr",
          "text": [
            "\u001b[34m\u001b[1mwandb\u001b[0m: Agent Starting Run: 9ybi2usj with config:\n",
            "\u001b[34m\u001b[1mwandb\u001b[0m: \tactivation: sigmoid\n",
            "\u001b[34m\u001b[1mwandb\u001b[0m: \tbatch_size: 16\n",
            "\u001b[34m\u001b[1mwandb\u001b[0m: \tepochs: 20\n",
            "\u001b[34m\u001b[1mwandb\u001b[0m: \thidden_size: 64\n",
            "\u001b[34m\u001b[1mwandb\u001b[0m: \tlearning_rate: 0.0001\n",
            "\u001b[34m\u001b[1mwandb\u001b[0m: \tnum_hidden_layers: 5\n",
            "\u001b[34m\u001b[1mwandb\u001b[0m: \toptimizer: nadam\n",
            "\u001b[34m\u001b[1mwandb\u001b[0m: \tweight_decay: 0.5\n",
            "\u001b[34m\u001b[1mwandb\u001b[0m: \tweight_init: random\n"
          ]
        },
        {
          "output_type": "display_data",
          "data": {
            "text/plain": [
              "<IPython.core.display.HTML object>"
            ],
            "text/html": [
              "Tracking run with wandb version 0.19.1"
            ]
          },
          "metadata": {}
        },
        {
          "output_type": "display_data",
          "data": {
            "text/plain": [
              "<IPython.core.display.HTML object>"
            ],
            "text/html": [
              "Run data is saved locally in <code>/content/wandb/run-20250217_170847-9ybi2usj</code>"
            ]
          },
          "metadata": {}
        },
        {
          "output_type": "display_data",
          "data": {
            "text/plain": [
              "<IPython.core.display.HTML object>"
            ],
            "text/html": [
              "Syncing run <strong><a href='https://wandb.ai/21dcs024-national-institute-of-technology-hamirpur/fashion-mnist-sweep/runs/9ybi2usj' target=\"_blank\">visionary-sweep-15</a></strong> to <a href='https://wandb.ai/21dcs024-national-institute-of-technology-hamirpur/fashion-mnist-sweep' target=\"_blank\">Weights & Biases</a> (<a href='https://wandb.me/developer-guide' target=\"_blank\">docs</a>)<br>Sweep page: <a href='https://wandb.ai/21dcs024-national-institute-of-technology-hamirpur/fashion-mnist-sweep/sweeps/vkq5nnrs' target=\"_blank\">https://wandb.ai/21dcs024-national-institute-of-technology-hamirpur/fashion-mnist-sweep/sweeps/vkq5nnrs</a>"
            ]
          },
          "metadata": {}
        },
        {
          "output_type": "display_data",
          "data": {
            "text/plain": [
              "<IPython.core.display.HTML object>"
            ],
            "text/html": [
              " View project at <a href='https://wandb.ai/21dcs024-national-institute-of-technology-hamirpur/fashion-mnist-sweep' target=\"_blank\">https://wandb.ai/21dcs024-national-institute-of-technology-hamirpur/fashion-mnist-sweep</a>"
            ]
          },
          "metadata": {}
        },
        {
          "output_type": "display_data",
          "data": {
            "text/plain": [
              "<IPython.core.display.HTML object>"
            ],
            "text/html": [
              " View sweep at <a href='https://wandb.ai/21dcs024-national-institute-of-technology-hamirpur/fashion-mnist-sweep/sweeps/vkq5nnrs' target=\"_blank\">https://wandb.ai/21dcs024-national-institute-of-technology-hamirpur/fashion-mnist-sweep/sweeps/vkq5nnrs</a>"
            ]
          },
          "metadata": {}
        },
        {
          "output_type": "display_data",
          "data": {
            "text/plain": [
              "<IPython.core.display.HTML object>"
            ],
            "text/html": [
              " View run at <a href='https://wandb.ai/21dcs024-national-institute-of-technology-hamirpur/fashion-mnist-sweep/runs/9ybi2usj' target=\"_blank\">https://wandb.ai/21dcs024-national-institute-of-technology-hamirpur/fashion-mnist-sweep/runs/9ybi2usj</a>"
            ]
          },
          "metadata": {}
        },
        {
          "output_type": "stream",
          "name": "stdout",
          "text": [
            "Final Validation Accuracy: 0.0948\n"
          ]
        },
        {
          "output_type": "display_data",
          "data": {
            "text/plain": [
              "<IPython.core.display.HTML object>"
            ],
            "text/html": []
          },
          "metadata": {}
        },
        {
          "output_type": "display_data",
          "data": {
            "text/plain": [
              "<IPython.core.display.HTML object>"
            ],
            "text/html": [
              "<br>    <style><br>        .wandb-row {<br>            display: flex;<br>            flex-direction: row;<br>            flex-wrap: wrap;<br>            justify-content: flex-start;<br>            width: 100%;<br>        }<br>        .wandb-col {<br>            display: flex;<br>            flex-direction: column;<br>            flex-basis: 100%;<br>            flex: 1;<br>            padding: 10px;<br>        }<br>    </style><br><div class=\"wandb-row\"><div class=\"wandb-col\"><h3>Run history:</h3><br/><table class=\"wandb\"><tr><td>epoch</td><td>▁▁▂▂▂▃▃▄▄▄▅▅▅▆▆▇▇▇██</td></tr><tr><td>train_accuracy</td><td>█▅▁▄▆▆▅▄▇▇▅▅▄▅▃▆▅▃▆▅</td></tr><tr><td>train_loss</td><td>█▁▁▁▁▁▁▁▁▁▁▁▁▁▁▁▁▁▁▁</td></tr><tr><td>val_accuracy</td><td>▆▆▅▅█▅▅▆▁▅▅▆▅▅▆▃▅▆█▁</td></tr><tr><td>val_loss</td><td>▄▄▃▂▁▄▃▂▆▅▃▄▆▂▄▆█▄▃▆</td></tr></table><br/></div><div class=\"wandb-col\"><h3>Run summary:</h3><br/><table class=\"wandb\"><tr><td>epoch</td><td>20</td></tr><tr><td>train_accuracy</td><td>0.09946</td></tr><tr><td>train_loss</td><td>2.30315</td></tr><tr><td>val_accuracy</td><td>0.09483</td></tr><tr><td>val_loss</td><td>2.30348</td></tr></table><br/></div></div>"
            ]
          },
          "metadata": {}
        },
        {
          "output_type": "display_data",
          "data": {
            "text/plain": [
              "<IPython.core.display.HTML object>"
            ],
            "text/html": [
              " View run <strong style=\"color:#cdcd00\">visionary-sweep-15</strong> at: <a href='https://wandb.ai/21dcs024-national-institute-of-technology-hamirpur/fashion-mnist-sweep/runs/9ybi2usj' target=\"_blank\">https://wandb.ai/21dcs024-national-institute-of-technology-hamirpur/fashion-mnist-sweep/runs/9ybi2usj</a><br> View project at: <a href='https://wandb.ai/21dcs024-national-institute-of-technology-hamirpur/fashion-mnist-sweep' target=\"_blank\">https://wandb.ai/21dcs024-national-institute-of-technology-hamirpur/fashion-mnist-sweep</a><br>Synced 5 W&B file(s), 0 media file(s), 0 artifact file(s) and 0 other file(s)"
            ]
          },
          "metadata": {}
        },
        {
          "output_type": "display_data",
          "data": {
            "text/plain": [
              "<IPython.core.display.HTML object>"
            ],
            "text/html": [
              "Find logs at: <code>./wandb/run-20250217_170847-9ybi2usj/logs</code>"
            ]
          },
          "metadata": {}
        }
      ]
    },
    {
      "cell_type": "markdown",
      "source": [
        "# **Analysis of Wandb Sweeps**"
      ],
      "metadata": {
        "id": "0lGoFzdLEmyD"
      }
    },
    {
      "cell_type": "markdown",
      "source": [
        "The best sweep can be determined based on the highest validation accuracy while maintaining a low validation loss.\n",
        "\n",
        "**Best Sweep:**\n",
        "* Sweep Name: splendid-sweep-11\n",
        "* Validation Accuracy: 87.75% (highest among all sweeps)\n",
        "* Validation Loss: 0.3389 (reasonably low)\n",
        "* Training Accuracy: 89.93% (close to validation accuracy, indicating minimal overfitting)\n",
        "* Training Loss: 0.2819\n",
        "* Hyperparameters:\n",
        "* Activation: Sigmoid\n",
        "* Batch Size: 16\n",
        "* Epochs: 20\n",
        "* Hidden Size: 128\n",
        "* Learning Rate: 0.0001\n",
        "* Optimizer: AdamW\n",
        "* Weight Decay: 0.0\n",
        "* Weight Initialization: Random\n",
        "* Number of Hidden Layers: 3\n",
        "\n",
        "\n",
        "It achieves the highest validation accuracy while maintaining a relatively low validation loss.\n",
        "The gap between training and validation accuracy is minimal, indicating that the model generalizes well.\n",
        "The choice of AdamW optimizer and a small learning rate (0.0001) seems to contribute to stable training."
      ],
      "metadata": {
        "id": "ZfnmS_iXGD_Y"
      }
    }
  ],
  "metadata": {
    "accelerator": "GPU",
    "colab": {
      "gpuType": "T4",
      "provenance": [],
      "include_colab_link": true
    },
    "kernelspec": {
      "display_name": "Python 3",
      "name": "python3"
    },
    "language_info": {
      "name": "python"
    }
  },
  "nbformat": 4,
  "nbformat_minor": 0
}