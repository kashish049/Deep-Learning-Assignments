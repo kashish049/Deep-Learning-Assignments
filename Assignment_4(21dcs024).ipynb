{
  "cells": [
    {
      "cell_type": "markdown",
      "metadata": {
        "id": "view-in-github",
        "colab_type": "text"
      },
      "source": [
        "<a href=\"https://colab.research.google.com/github/kashish049/Deep-Learning-Assignments/blob/main/Assignment_4(21dcs024).ipynb\" target=\"_parent\"><img src=\"https://colab.research.google.com/assets/colab-badge.svg\" alt=\"Open In Colab\"/></a>"
      ]
    },
    {
      "cell_type": "code",
      "execution_count": null,
      "id": "d1dcc687-0614-432a-9fe0-f3310b4b0fa0",
      "metadata": {
        "id": "d1dcc687-0614-432a-9fe0-f3310b4b0fa0"
      },
      "outputs": [],
      "source": [
        "import torch\n",
        "import torch.nn.functional as F\n",
        "import wandb\n",
        "from torchvision import datasets, transforms\n",
        "from torch.utils.data import DataLoader"
      ]
    },
    {
      "cell_type": "code",
      "execution_count": null,
      "id": "7cd76aa3-3775-492e-80d6-45d380e71011",
      "metadata": {
        "id": "7cd76aa3-3775-492e-80d6-45d380e71011"
      },
      "outputs": [],
      "source": [
        "def load_data(dataset):\n",
        "    transform = transforms.Compose([transforms.ToTensor(), transforms.Normalize((0.5,), (0.5,))])\n",
        "    if dataset == \"MNIST\":\n",
        "        train_dataset = datasets.MNIST(root=\"./data\", train=True, transform=transform, download=True)\n",
        "        test_dataset = datasets.MNIST(root=\"./data\", train=False, transform=transform, download=True)\n",
        "    elif dataset == \"CIFAR10\":\n",
        "        train_dataset = datasets.CIFAR10(root=\"./data\", train=True, transform=transform, download=True)\n",
        "        test_dataset = datasets.CIFAR10(root=\"./data\", train=False, transform=transform, download=True)\n",
        "    else:\n",
        "        raise ValueError(\"Dataset not supported\")\n",
        "\n",
        "    train_loader = DataLoader(train_dataset, batch_size=64, shuffle=True)\n",
        "    test_loader = DataLoader(test_dataset, batch_size=64, shuffle=False)\n",
        "    return train_loader, test_loader"
      ]
    },
    {
      "cell_type": "code",
      "execution_count": null,
      "id": "52d9c43e-0bac-4f8a-bc7c-93158053be4d",
      "metadata": {
        "id": "52d9c43e-0bac-4f8a-bc7c-93158053be4d",
        "outputId": "895df2d1-6f0f-42e1-e4b1-ae881ce5ec93",
        "colab": {
          "base_uri": "https://localhost:8080/"
        }
      },
      "outputs": [
        {
          "output_type": "stream",
          "name": "stdout",
          "text": [
            "tensor([[0.0000, 0.0000, 1.4286, 1.4286, 1.4286],\n",
            "        [1.4286, 1.4286, 0.0000, 1.4286, 0.0000],\n",
            "        [1.4286, 1.4286, 0.0000, 1.4286, 0.0000],\n",
            "        [0.0000, 1.4286, 1.4286, 1.4286, 0.0000],\n",
            "        [1.4286, 1.4286, 1.4286, 1.4286, 1.4286]])\n"
          ]
        }
      ],
      "source": [
        "def get_input_size(dataset):\n",
        "    if dataset == \"MNIST\":\n",
        "        return 28 * 28\n",
        "    elif dataset == \"CIFAR10\":\n",
        "        return 32 * 32 * 3\n",
        "    else:\n",
        "        raise ValueError(\"Dataset not supported\")\n",
        "\n",
        "def get_output_size(dataset):\n",
        "    if dataset == \"MNIST\":\n",
        "        return 10\n",
        "    elif dataset == \"CIFAR10\":\n",
        "        return 10\n",
        "    else:\n",
        "        raise ValueError(\"Dataset not supported\")\n",
        "\n",
        "# Dropout function\n",
        "def dropout_layer(X, dropout):\n",
        "    mask = (torch.rand_like(X) > dropout).float()\n",
        "    return (X * mask) / (1.0 - dropout)\n",
        "\n",
        "# Test dropout_layer with examples\n",
        "X = torch.ones((5, 5))\n",
        "print(dropout_layer(X, 0.3))"
      ]
    },
    {
      "cell_type": "code",
      "execution_count": null,
      "id": "7515d8f8-fa98-4278-8c91-4483637013ab",
      "metadata": {
        "id": "7515d8f8-fa98-4278-8c91-4483637013ab"
      },
      "outputs": [],
      "source": [
        "import torch\n",
        "import torch.nn.functional as F\n",
        "import wandb\n",
        "\n",
        "# Define a simple neural network with dropout\n",
        "def train_network(dataset, model_type, activation, hidden_units, dropout_rate, learning_rate, momentum):\n",
        "    device = torch.device(\"cuda\" if torch.cuda.is_available() else \"cpu\")\n",
        "    train_loader, test_loader = load_data(dataset)\n",
        "\n",
        "    input_size = get_input_size(dataset)\n",
        "    output_size = get_output_size(dataset)\n",
        "\n",
        "    torch.manual_seed(42)\n",
        "\n",
        "    # Initialize weights as trainable parameters and move them to the correct device\n",
        "    W1 = torch.nn.Parameter(torch.randn(input_size, hidden_units, device=device) * 0.01, requires_grad=True)\n",
        "    W2 = torch.nn.Parameter(torch.randn(hidden_units, hidden_units, device=device) * 0.01, requires_grad=True) if model_type == 'DropoutNN' else None\n",
        "    W3 = torch.nn.Parameter(torch.randn(hidden_units, output_size, device=device) * 0.01, requires_grad=True)\n",
        "\n",
        "    def forward(X):\n",
        "        X = X.to(device)  # Ensure X is on the same device\n",
        "        X = X @ W1\n",
        "        if activation == 'ReLU':\n",
        "            X = F.relu(X)\n",
        "        else:\n",
        "            X = torch.sigmoid(X)\n",
        "        if W2 is not None:\n",
        "            X = dropout_layer(X, dropout_rate)\n",
        "            X = X @ W2\n",
        "            X = F.relu(X) if activation == 'ReLU' else torch.sigmoid(X)\n",
        "        X = X @ W3\n",
        "        return F.log_softmax(X, dim=1)\n",
        "\n",
        "    optimizer = torch.optim.SGD([W1, W3] if W2 is None else [W1, W2, W3], lr=learning_rate, momentum=momentum)\n",
        "\n",
        "    wandb.init(project=\"dropout_experiments\", config={\n",
        "        \"dataset\": dataset,\n",
        "        \"model_type\": model_type,\n",
        "        \"activation\": activation,\n",
        "        \"hidden_units\": hidden_units,\n",
        "        \"dropout_rate\": dropout_rate,\n",
        "        \"learning_rate\": learning_rate,\n",
        "        \"momentum\": momentum\n",
        "    })\n",
        "\n",
        "    for epoch in range(10):\n",
        "        correct = 0\n",
        "        total = 0\n",
        "        for batch_X, batch_y in train_loader:\n",
        "            batch_X = batch_X.view(batch_X.shape[0], -1).to(device)  # Move to device\n",
        "            batch_y = batch_y.to(device)  # Move labels to device\n",
        "\n",
        "            optimizer.zero_grad()\n",
        "            output = forward(batch_X)\n",
        "            loss = F.nll_loss(output, batch_y)\n",
        "            loss.backward()\n",
        "            optimizer.step()\n",
        "\n",
        "            predicted = output.argmax(dim=1, keepdim=True)\n",
        "            correct += predicted.eq(batch_y.view_as(predicted)).sum().item()\n",
        "            total += batch_y.size(0)\n",
        "\n",
        "        accuracy = 100. * correct / total\n",
        "        wandb.log({\"loss\": loss.item(), \"accuracy\": accuracy})\n",
        "\n",
        "    wandb.finish()\n"
      ]
    },
    {
      "cell_type": "code",
      "execution_count": null,
      "id": "a8586011-cfeb-4de7-b103-535e1c9ddc5a",
      "metadata": {
        "id": "a8586011-cfeb-4de7-b103-535e1c9ddc5a",
        "outputId": "97ce22a5-0466-4e23-82e2-da6275b5301c",
        "colab": {
          "base_uri": "https://localhost:8080/",
          "height": 1000
        }
      },
      "outputs": [
        {
          "output_type": "stream",
          "name": "stdout",
          "text": [
            "Downloading http://yann.lecun.com/exdb/mnist/train-images-idx3-ubyte.gz\n",
            "Failed to download (trying next):\n",
            "HTTP Error 404: Not Found\n",
            "\n",
            "Downloading https://ossci-datasets.s3.amazonaws.com/mnist/train-images-idx3-ubyte.gz\n",
            "Downloading https://ossci-datasets.s3.amazonaws.com/mnist/train-images-idx3-ubyte.gz to ./data/MNIST/raw/train-images-idx3-ubyte.gz\n"
          ]
        },
        {
          "output_type": "stream",
          "name": "stderr",
          "text": [
            "100%|██████████| 9.91M/9.91M [00:11<00:00, 864kB/s] \n"
          ]
        },
        {
          "output_type": "stream",
          "name": "stdout",
          "text": [
            "Extracting ./data/MNIST/raw/train-images-idx3-ubyte.gz to ./data/MNIST/raw\n",
            "\n",
            "Downloading http://yann.lecun.com/exdb/mnist/train-labels-idx1-ubyte.gz\n",
            "Failed to download (trying next):\n",
            "HTTP Error 404: Not Found\n",
            "\n",
            "Downloading https://ossci-datasets.s3.amazonaws.com/mnist/train-labels-idx1-ubyte.gz\n",
            "Downloading https://ossci-datasets.s3.amazonaws.com/mnist/train-labels-idx1-ubyte.gz to ./data/MNIST/raw/train-labels-idx1-ubyte.gz\n"
          ]
        },
        {
          "output_type": "stream",
          "name": "stderr",
          "text": [
            "100%|██████████| 28.9k/28.9k [00:00<00:00, 135kB/s]\n"
          ]
        },
        {
          "output_type": "stream",
          "name": "stdout",
          "text": [
            "Extracting ./data/MNIST/raw/train-labels-idx1-ubyte.gz to ./data/MNIST/raw\n",
            "\n",
            "Downloading http://yann.lecun.com/exdb/mnist/t10k-images-idx3-ubyte.gz\n",
            "Failed to download (trying next):\n",
            "HTTP Error 404: Not Found\n",
            "\n",
            "Downloading https://ossci-datasets.s3.amazonaws.com/mnist/t10k-images-idx3-ubyte.gz\n",
            "Downloading https://ossci-datasets.s3.amazonaws.com/mnist/t10k-images-idx3-ubyte.gz to ./data/MNIST/raw/t10k-images-idx3-ubyte.gz\n"
          ]
        },
        {
          "output_type": "stream",
          "name": "stderr",
          "text": [
            "100%|██████████| 1.65M/1.65M [00:03<00:00, 543kB/s]\n"
          ]
        },
        {
          "output_type": "stream",
          "name": "stdout",
          "text": [
            "Extracting ./data/MNIST/raw/t10k-images-idx3-ubyte.gz to ./data/MNIST/raw\n",
            "\n",
            "Downloading http://yann.lecun.com/exdb/mnist/t10k-labels-idx1-ubyte.gz\n",
            "Failed to download (trying next):\n",
            "HTTP Error 404: Not Found\n",
            "\n",
            "Downloading https://ossci-datasets.s3.amazonaws.com/mnist/t10k-labels-idx1-ubyte.gz\n",
            "Downloading https://ossci-datasets.s3.amazonaws.com/mnist/t10k-labels-idx1-ubyte.gz to ./data/MNIST/raw/t10k-labels-idx1-ubyte.gz\n"
          ]
        },
        {
          "output_type": "stream",
          "name": "stderr",
          "text": [
            "100%|██████████| 4.54k/4.54k [00:00<00:00, 4.11MB/s]\n"
          ]
        },
        {
          "output_type": "stream",
          "name": "stdout",
          "text": [
            "Extracting ./data/MNIST/raw/t10k-labels-idx1-ubyte.gz to ./data/MNIST/raw\n",
            "\n"
          ]
        },
        {
          "output_type": "display_data",
          "data": {
            "text/plain": [
              "<IPython.core.display.Javascript object>"
            ],
            "application/javascript": [
              "\n",
              "        window._wandbApiKey = new Promise((resolve, reject) => {\n",
              "            function loadScript(url) {\n",
              "            return new Promise(function(resolve, reject) {\n",
              "                let newScript = document.createElement(\"script\");\n",
              "                newScript.onerror = reject;\n",
              "                newScript.onload = resolve;\n",
              "                document.body.appendChild(newScript);\n",
              "                newScript.src = url;\n",
              "            });\n",
              "            }\n",
              "            loadScript(\"https://cdn.jsdelivr.net/npm/postmate/build/postmate.min.js\").then(() => {\n",
              "            const iframe = document.createElement('iframe')\n",
              "            iframe.style.cssText = \"width:0;height:0;border:none\"\n",
              "            document.body.appendChild(iframe)\n",
              "            const handshake = new Postmate({\n",
              "                container: iframe,\n",
              "                url: 'https://wandb.ai/authorize'\n",
              "            });\n",
              "            const timeout = setTimeout(() => reject(\"Couldn't auto authenticate\"), 5000)\n",
              "            handshake.then(function(child) {\n",
              "                child.on('authorize', data => {\n",
              "                    clearTimeout(timeout)\n",
              "                    resolve(data)\n",
              "                });\n",
              "            });\n",
              "            })\n",
              "        });\n",
              "    "
            ]
          },
          "metadata": {}
        },
        {
          "output_type": "stream",
          "name": "stderr",
          "text": [
            "\u001b[34m\u001b[1mwandb\u001b[0m: Logging into wandb.ai. (Learn how to deploy a W&B server locally: https://wandb.me/wandb-server)\n",
            "\u001b[34m\u001b[1mwandb\u001b[0m: You can find your API key in your browser here: https://wandb.ai/authorize\n",
            "wandb: Paste an API key from your profile and hit enter:"
          ]
        },
        {
          "name": "stdout",
          "output_type": "stream",
          "text": [
            " ··········\n"
          ]
        },
        {
          "output_type": "stream",
          "name": "stderr",
          "text": [
            "\u001b[34m\u001b[1mwandb\u001b[0m: \u001b[33mWARNING\u001b[0m If you're specifying your api key in code, ensure this code is not shared publicly.\n",
            "\u001b[34m\u001b[1mwandb\u001b[0m: \u001b[33mWARNING\u001b[0m Consider setting the WANDB_API_KEY environment variable, or running `wandb login` from the command line.\n",
            "\u001b[34m\u001b[1mwandb\u001b[0m: Appending key for api.wandb.ai to your netrc file: /root/.netrc\n",
            "\u001b[34m\u001b[1mwandb\u001b[0m: Currently logged in as: \u001b[33m21dcs024\u001b[0m (\u001b[33m21dcs024-national-institute-of-technology-hamirpur\u001b[0m) to \u001b[32mhttps://api.wandb.ai\u001b[0m. Use \u001b[1m`wandb login --relogin`\u001b[0m to force relogin\n",
            "\u001b[34m\u001b[1mwandb\u001b[0m: Using wandb-core as the SDK backend.  Please refer to https://wandb.me/wandb-core for more information.\n"
          ]
        },
        {
          "output_type": "display_data",
          "data": {
            "text/plain": [
              "<IPython.core.display.HTML object>"
            ],
            "text/html": [
              "Tracking run with wandb version 0.19.6"
            ]
          },
          "metadata": {}
        },
        {
          "output_type": "display_data",
          "data": {
            "text/plain": [
              "<IPython.core.display.HTML object>"
            ],
            "text/html": [
              "Run data is saved locally in <code>/content/wandb/run-20250217_160420-m4099bp6</code>"
            ]
          },
          "metadata": {}
        },
        {
          "output_type": "display_data",
          "data": {
            "text/plain": [
              "<IPython.core.display.HTML object>"
            ],
            "text/html": [
              "Syncing run <strong><a href='https://wandb.ai/21dcs024-national-institute-of-technology-hamirpur/dropout_experiments/runs/m4099bp6' target=\"_blank\">vague-leaf-1</a></strong> to <a href='https://wandb.ai/21dcs024-national-institute-of-technology-hamirpur/dropout_experiments' target=\"_blank\">Weights & Biases</a> (<a href='https://wandb.me/developer-guide' target=\"_blank\">docs</a>)<br>"
            ]
          },
          "metadata": {}
        },
        {
          "output_type": "display_data",
          "data": {
            "text/plain": [
              "<IPython.core.display.HTML object>"
            ],
            "text/html": [
              " View project at <a href='https://wandb.ai/21dcs024-national-institute-of-technology-hamirpur/dropout_experiments' target=\"_blank\">https://wandb.ai/21dcs024-national-institute-of-technology-hamirpur/dropout_experiments</a>"
            ]
          },
          "metadata": {}
        },
        {
          "output_type": "display_data",
          "data": {
            "text/plain": [
              "<IPython.core.display.HTML object>"
            ],
            "text/html": [
              " View run at <a href='https://wandb.ai/21dcs024-national-institute-of-technology-hamirpur/dropout_experiments/runs/m4099bp6' target=\"_blank\">https://wandb.ai/21dcs024-national-institute-of-technology-hamirpur/dropout_experiments/runs/m4099bp6</a>"
            ]
          },
          "metadata": {}
        },
        {
          "output_type": "display_data",
          "data": {
            "text/plain": [
              "<IPython.core.display.HTML object>"
            ],
            "text/html": []
          },
          "metadata": {}
        },
        {
          "output_type": "display_data",
          "data": {
            "text/plain": [
              "<IPython.core.display.HTML object>"
            ],
            "text/html": [
              "<br>    <style><br>        .wandb-row {<br>            display: flex;<br>            flex-direction: row;<br>            flex-wrap: wrap;<br>            justify-content: flex-start;<br>            width: 100%;<br>        }<br>        .wandb-col {<br>            display: flex;<br>            flex-direction: column;<br>            flex-basis: 100%;<br>            flex: 1;<br>            padding: 10px;<br>        }<br>    </style><br><div class=\"wandb-row\"><div class=\"wandb-col\"><h3>Run history:</h3><br/><table class=\"wandb\"><tr><td>accuracy</td><td>▁▆▇▇▇█████</td></tr><tr><td>loss</td><td>█▇▃▃▂▄▂▃▁▁</td></tr></table><br/></div><div class=\"wandb-col\"><h3>Run summary:</h3><br/><table class=\"wandb\"><tr><td>accuracy</td><td>96.30333</td></tr><tr><td>loss</td><td>0.07203</td></tr></table><br/></div></div>"
            ]
          },
          "metadata": {}
        },
        {
          "output_type": "display_data",
          "data": {
            "text/plain": [
              "<IPython.core.display.HTML object>"
            ],
            "text/html": [
              " View run <strong style=\"color:#cdcd00\">vague-leaf-1</strong> at: <a href='https://wandb.ai/21dcs024-national-institute-of-technology-hamirpur/dropout_experiments/runs/m4099bp6' target=\"_blank\">https://wandb.ai/21dcs024-national-institute-of-technology-hamirpur/dropout_experiments/runs/m4099bp6</a><br> View project at: <a href='https://wandb.ai/21dcs024-national-institute-of-technology-hamirpur/dropout_experiments' target=\"_blank\">https://wandb.ai/21dcs024-national-institute-of-technology-hamirpur/dropout_experiments</a><br>Synced 5 W&B file(s), 0 media file(s), 0 artifact file(s) and 0 other file(s)"
            ]
          },
          "metadata": {}
        },
        {
          "output_type": "display_data",
          "data": {
            "text/plain": [
              "<IPython.core.display.HTML object>"
            ],
            "text/html": [
              "Find logs at: <code>./wandb/run-20250217_160420-m4099bp6/logs</code>"
            ]
          },
          "metadata": {}
        },
        {
          "output_type": "display_data",
          "data": {
            "text/plain": [
              "<IPython.core.display.HTML object>"
            ],
            "text/html": [
              "Tracking run with wandb version 0.19.6"
            ]
          },
          "metadata": {}
        },
        {
          "output_type": "display_data",
          "data": {
            "text/plain": [
              "<IPython.core.display.HTML object>"
            ],
            "text/html": [
              "Run data is saved locally in <code>/content/wandb/run-20250217_160629-n46pkces</code>"
            ]
          },
          "metadata": {}
        },
        {
          "output_type": "display_data",
          "data": {
            "text/plain": [
              "<IPython.core.display.HTML object>"
            ],
            "text/html": [
              "Syncing run <strong><a href='https://wandb.ai/21dcs024-national-institute-of-technology-hamirpur/dropout_experiments/runs/n46pkces' target=\"_blank\">charmed-wood-2</a></strong> to <a href='https://wandb.ai/21dcs024-national-institute-of-technology-hamirpur/dropout_experiments' target=\"_blank\">Weights & Biases</a> (<a href='https://wandb.me/developer-guide' target=\"_blank\">docs</a>)<br>"
            ]
          },
          "metadata": {}
        },
        {
          "output_type": "display_data",
          "data": {
            "text/plain": [
              "<IPython.core.display.HTML object>"
            ],
            "text/html": [
              " View project at <a href='https://wandb.ai/21dcs024-national-institute-of-technology-hamirpur/dropout_experiments' target=\"_blank\">https://wandb.ai/21dcs024-national-institute-of-technology-hamirpur/dropout_experiments</a>"
            ]
          },
          "metadata": {}
        },
        {
          "output_type": "display_data",
          "data": {
            "text/plain": [
              "<IPython.core.display.HTML object>"
            ],
            "text/html": [
              " View run at <a href='https://wandb.ai/21dcs024-national-institute-of-technology-hamirpur/dropout_experiments/runs/n46pkces' target=\"_blank\">https://wandb.ai/21dcs024-national-institute-of-technology-hamirpur/dropout_experiments/runs/n46pkces</a>"
            ]
          },
          "metadata": {}
        },
        {
          "output_type": "display_data",
          "data": {
            "text/plain": [
              "<IPython.core.display.HTML object>"
            ],
            "text/html": []
          },
          "metadata": {}
        },
        {
          "output_type": "display_data",
          "data": {
            "text/plain": [
              "<IPython.core.display.HTML object>"
            ],
            "text/html": [
              "<br>    <style><br>        .wandb-row {<br>            display: flex;<br>            flex-direction: row;<br>            flex-wrap: wrap;<br>            justify-content: flex-start;<br>            width: 100%;<br>        }<br>        .wandb-col {<br>            display: flex;<br>            flex-direction: column;<br>            flex-basis: 100%;<br>            flex: 1;<br>            padding: 10px;<br>        }<br>    </style><br><div class=\"wandb-row\"><div class=\"wandb-col\"><h3>Run history:</h3><br/><table class=\"wandb\"><tr><td>accuracy</td><td>▁▆▆▇▇▇▇███</td></tr><tr><td>loss</td><td>██▄▃▂▄▂▃▁▁</td></tr></table><br/></div><div class=\"wandb-col\"><h3>Run summary:</h3><br/><table class=\"wandb\"><tr><td>accuracy</td><td>95.51167</td></tr><tr><td>loss</td><td>0.09584</td></tr></table><br/></div></div>"
            ]
          },
          "metadata": {}
        },
        {
          "output_type": "display_data",
          "data": {
            "text/plain": [
              "<IPython.core.display.HTML object>"
            ],
            "text/html": [
              " View run <strong style=\"color:#cdcd00\">charmed-wood-2</strong> at: <a href='https://wandb.ai/21dcs024-national-institute-of-technology-hamirpur/dropout_experiments/runs/n46pkces' target=\"_blank\">https://wandb.ai/21dcs024-national-institute-of-technology-hamirpur/dropout_experiments/runs/n46pkces</a><br> View project at: <a href='https://wandb.ai/21dcs024-national-institute-of-technology-hamirpur/dropout_experiments' target=\"_blank\">https://wandb.ai/21dcs024-national-institute-of-technology-hamirpur/dropout_experiments</a><br>Synced 5 W&B file(s), 0 media file(s), 0 artifact file(s) and 0 other file(s)"
            ]
          },
          "metadata": {}
        },
        {
          "output_type": "display_data",
          "data": {
            "text/plain": [
              "<IPython.core.display.HTML object>"
            ],
            "text/html": [
              "Find logs at: <code>./wandb/run-20250217_160629-n46pkces/logs</code>"
            ]
          },
          "metadata": {}
        },
        {
          "output_type": "display_data",
          "data": {
            "text/plain": [
              "<IPython.core.display.HTML object>"
            ],
            "text/html": [
              "Tracking run with wandb version 0.19.6"
            ]
          },
          "metadata": {}
        },
        {
          "output_type": "display_data",
          "data": {
            "text/plain": [
              "<IPython.core.display.HTML object>"
            ],
            "text/html": [
              "Run data is saved locally in <code>/content/wandb/run-20250217_160835-msuyq8u8</code>"
            ]
          },
          "metadata": {}
        },
        {
          "output_type": "display_data",
          "data": {
            "text/plain": [
              "<IPython.core.display.HTML object>"
            ],
            "text/html": [
              "Syncing run <strong><a href='https://wandb.ai/21dcs024-national-institute-of-technology-hamirpur/dropout_experiments/runs/msuyq8u8' target=\"_blank\">earnest-armadillo-3</a></strong> to <a href='https://wandb.ai/21dcs024-national-institute-of-technology-hamirpur/dropout_experiments' target=\"_blank\">Weights & Biases</a> (<a href='https://wandb.me/developer-guide' target=\"_blank\">docs</a>)<br>"
            ]
          },
          "metadata": {}
        },
        {
          "output_type": "display_data",
          "data": {
            "text/plain": [
              "<IPython.core.display.HTML object>"
            ],
            "text/html": [
              " View project at <a href='https://wandb.ai/21dcs024-national-institute-of-technology-hamirpur/dropout_experiments' target=\"_blank\">https://wandb.ai/21dcs024-national-institute-of-technology-hamirpur/dropout_experiments</a>"
            ]
          },
          "metadata": {}
        },
        {
          "output_type": "display_data",
          "data": {
            "text/plain": [
              "<IPython.core.display.HTML object>"
            ],
            "text/html": [
              " View run at <a href='https://wandb.ai/21dcs024-national-institute-of-technology-hamirpur/dropout_experiments/runs/msuyq8u8' target=\"_blank\">https://wandb.ai/21dcs024-national-institute-of-technology-hamirpur/dropout_experiments/runs/msuyq8u8</a>"
            ]
          },
          "metadata": {}
        },
        {
          "output_type": "display_data",
          "data": {
            "text/plain": [
              "<IPython.core.display.HTML object>"
            ],
            "text/html": []
          },
          "metadata": {}
        },
        {
          "output_type": "display_data",
          "data": {
            "text/plain": [
              "<IPython.core.display.HTML object>"
            ],
            "text/html": [
              "<br>    <style><br>        .wandb-row {<br>            display: flex;<br>            flex-direction: row;<br>            flex-wrap: wrap;<br>            justify-content: flex-start;<br>            width: 100%;<br>        }<br>        .wandb-col {<br>            display: flex;<br>            flex-direction: column;<br>            flex-basis: 100%;<br>            flex: 1;<br>            padding: 10px;<br>        }<br>    </style><br><div class=\"wandb-row\"><div class=\"wandb-col\"><h3>Run history:</h3><br/><table class=\"wandb\"><tr><td>accuracy</td><td>▁▆▇▇██████</td></tr><tr><td>loss</td><td>█▅▃▂▂▅▁▃▁▁</td></tr></table><br/></div><div class=\"wandb-col\"><h3>Run summary:</h3><br/><table class=\"wandb\"><tr><td>accuracy</td><td>93.535</td></tr><tr><td>loss</td><td>0.09978</td></tr></table><br/></div></div>"
            ]
          },
          "metadata": {}
        },
        {
          "output_type": "display_data",
          "data": {
            "text/plain": [
              "<IPython.core.display.HTML object>"
            ],
            "text/html": [
              " View run <strong style=\"color:#cdcd00\">earnest-armadillo-3</strong> at: <a href='https://wandb.ai/21dcs024-national-institute-of-technology-hamirpur/dropout_experiments/runs/msuyq8u8' target=\"_blank\">https://wandb.ai/21dcs024-national-institute-of-technology-hamirpur/dropout_experiments/runs/msuyq8u8</a><br> View project at: <a href='https://wandb.ai/21dcs024-national-institute-of-technology-hamirpur/dropout_experiments' target=\"_blank\">https://wandb.ai/21dcs024-national-institute-of-technology-hamirpur/dropout_experiments</a><br>Synced 5 W&B file(s), 0 media file(s), 0 artifact file(s) and 0 other file(s)"
            ]
          },
          "metadata": {}
        },
        {
          "output_type": "display_data",
          "data": {
            "text/plain": [
              "<IPython.core.display.HTML object>"
            ],
            "text/html": [
              "Find logs at: <code>./wandb/run-20250217_160835-msuyq8u8/logs</code>"
            ]
          },
          "metadata": {}
        },
        {
          "output_type": "display_data",
          "data": {
            "text/plain": [
              "<IPython.core.display.HTML object>"
            ],
            "text/html": [
              "Tracking run with wandb version 0.19.6"
            ]
          },
          "metadata": {}
        },
        {
          "output_type": "display_data",
          "data": {
            "text/plain": [
              "<IPython.core.display.HTML object>"
            ],
            "text/html": [
              "Run data is saved locally in <code>/content/wandb/run-20250217_161043-bw37cf6p</code>"
            ]
          },
          "metadata": {}
        },
        {
          "output_type": "display_data",
          "data": {
            "text/plain": [
              "<IPython.core.display.HTML object>"
            ],
            "text/html": [
              "Syncing run <strong><a href='https://wandb.ai/21dcs024-national-institute-of-technology-hamirpur/dropout_experiments/runs/bw37cf6p' target=\"_blank\">brisk-glitter-4</a></strong> to <a href='https://wandb.ai/21dcs024-national-institute-of-technology-hamirpur/dropout_experiments' target=\"_blank\">Weights & Biases</a> (<a href='https://wandb.me/developer-guide' target=\"_blank\">docs</a>)<br>"
            ]
          },
          "metadata": {}
        },
        {
          "output_type": "display_data",
          "data": {
            "text/plain": [
              "<IPython.core.display.HTML object>"
            ],
            "text/html": [
              " View project at <a href='https://wandb.ai/21dcs024-national-institute-of-technology-hamirpur/dropout_experiments' target=\"_blank\">https://wandb.ai/21dcs024-national-institute-of-technology-hamirpur/dropout_experiments</a>"
            ]
          },
          "metadata": {}
        },
        {
          "output_type": "display_data",
          "data": {
            "text/plain": [
              "<IPython.core.display.HTML object>"
            ],
            "text/html": [
              " View run at <a href='https://wandb.ai/21dcs024-national-institute-of-technology-hamirpur/dropout_experiments/runs/bw37cf6p' target=\"_blank\">https://wandb.ai/21dcs024-national-institute-of-technology-hamirpur/dropout_experiments/runs/bw37cf6p</a>"
            ]
          },
          "metadata": {}
        },
        {
          "output_type": "display_data",
          "data": {
            "text/plain": [
              "<IPython.core.display.HTML object>"
            ],
            "text/html": []
          },
          "metadata": {}
        },
        {
          "output_type": "display_data",
          "data": {
            "text/plain": [
              "<IPython.core.display.HTML object>"
            ],
            "text/html": [
              "<br>    <style><br>        .wandb-row {<br>            display: flex;<br>            flex-direction: row;<br>            flex-wrap: wrap;<br>            justify-content: flex-start;<br>            width: 100%;<br>        }<br>        .wandb-col {<br>            display: flex;<br>            flex-direction: column;<br>            flex-basis: 100%;<br>            flex: 1;<br>            padding: 10px;<br>        }<br>    </style><br><div class=\"wandb-row\"><div class=\"wandb-col\"><h3>Run history:</h3><br/><table class=\"wandb\"><tr><td>accuracy</td><td>▁▆▇▇▇█████</td></tr><tr><td>loss</td><td>█▅▂▁▂▂▂▃▁▁</td></tr></table><br/></div><div class=\"wandb-col\"><h3>Run summary:</h3><br/><table class=\"wandb\"><tr><td>accuracy</td><td>97.29833</td></tr><tr><td>loss</td><td>0.04818</td></tr></table><br/></div></div>"
            ]
          },
          "metadata": {}
        },
        {
          "output_type": "display_data",
          "data": {
            "text/plain": [
              "<IPython.core.display.HTML object>"
            ],
            "text/html": [
              " View run <strong style=\"color:#cdcd00\">brisk-glitter-4</strong> at: <a href='https://wandb.ai/21dcs024-national-institute-of-technology-hamirpur/dropout_experiments/runs/bw37cf6p' target=\"_blank\">https://wandb.ai/21dcs024-national-institute-of-technology-hamirpur/dropout_experiments/runs/bw37cf6p</a><br> View project at: <a href='https://wandb.ai/21dcs024-national-institute-of-technology-hamirpur/dropout_experiments' target=\"_blank\">https://wandb.ai/21dcs024-national-institute-of-technology-hamirpur/dropout_experiments</a><br>Synced 5 W&B file(s), 0 media file(s), 0 artifact file(s) and 0 other file(s)"
            ]
          },
          "metadata": {}
        },
        {
          "output_type": "display_data",
          "data": {
            "text/plain": [
              "<IPython.core.display.HTML object>"
            ],
            "text/html": [
              "Find logs at: <code>./wandb/run-20250217_161043-bw37cf6p/logs</code>"
            ]
          },
          "metadata": {}
        },
        {
          "output_type": "stream",
          "name": "stdout",
          "text": [
            "Downloading https://www.cs.toronto.edu/~kriz/cifar-10-python.tar.gz to ./data/cifar-10-python.tar.gz\n"
          ]
        },
        {
          "output_type": "stream",
          "name": "stderr",
          "text": [
            "100%|██████████| 170M/170M [00:13<00:00, 13.1MB/s]\n"
          ]
        },
        {
          "output_type": "stream",
          "name": "stdout",
          "text": [
            "Extracting ./data/cifar-10-python.tar.gz to ./data\n",
            "Files already downloaded and verified\n"
          ]
        },
        {
          "output_type": "display_data",
          "data": {
            "text/plain": [
              "<IPython.core.display.HTML object>"
            ],
            "text/html": [
              "Tracking run with wandb version 0.19.6"
            ]
          },
          "metadata": {}
        },
        {
          "output_type": "display_data",
          "data": {
            "text/plain": [
              "<IPython.core.display.HTML object>"
            ],
            "text/html": [
              "Run data is saved locally in <code>/content/wandb/run-20250217_161309-bneqfcfg</code>"
            ]
          },
          "metadata": {}
        },
        {
          "output_type": "display_data",
          "data": {
            "text/plain": [
              "<IPython.core.display.HTML object>"
            ],
            "text/html": [
              "Syncing run <strong><a href='https://wandb.ai/21dcs024-national-institute-of-technology-hamirpur/dropout_experiments/runs/bneqfcfg' target=\"_blank\">celestial-waterfall-5</a></strong> to <a href='https://wandb.ai/21dcs024-national-institute-of-technology-hamirpur/dropout_experiments' target=\"_blank\">Weights & Biases</a> (<a href='https://wandb.me/developer-guide' target=\"_blank\">docs</a>)<br>"
            ]
          },
          "metadata": {}
        },
        {
          "output_type": "display_data",
          "data": {
            "text/plain": [
              "<IPython.core.display.HTML object>"
            ],
            "text/html": [
              " View project at <a href='https://wandb.ai/21dcs024-national-institute-of-technology-hamirpur/dropout_experiments' target=\"_blank\">https://wandb.ai/21dcs024-national-institute-of-technology-hamirpur/dropout_experiments</a>"
            ]
          },
          "metadata": {}
        },
        {
          "output_type": "display_data",
          "data": {
            "text/plain": [
              "<IPython.core.display.HTML object>"
            ],
            "text/html": [
              " View run at <a href='https://wandb.ai/21dcs024-national-institute-of-technology-hamirpur/dropout_experiments/runs/bneqfcfg' target=\"_blank\">https://wandb.ai/21dcs024-national-institute-of-technology-hamirpur/dropout_experiments/runs/bneqfcfg</a>"
            ]
          },
          "metadata": {}
        },
        {
          "output_type": "display_data",
          "data": {
            "text/plain": [
              "<IPython.core.display.HTML object>"
            ],
            "text/html": []
          },
          "metadata": {}
        },
        {
          "output_type": "display_data",
          "data": {
            "text/plain": [
              "<IPython.core.display.HTML object>"
            ],
            "text/html": [
              "<br>    <style><br>        .wandb-row {<br>            display: flex;<br>            flex-direction: row;<br>            flex-wrap: wrap;<br>            justify-content: flex-start;<br>            width: 100%;<br>        }<br>        .wandb-col {<br>            display: flex;<br>            flex-direction: column;<br>            flex-basis: 100%;<br>            flex: 1;<br>            padding: 10px;<br>        }<br>    </style><br><div class=\"wandb-row\"><div class=\"wandb-col\"><h3>Run history:</h3><br/><table class=\"wandb\"><tr><td>accuracy</td><td>▁▄▅▆▆▇▇▇██</td></tr><tr><td>loss</td><td>▇▅▃▅▅▇█▃▄▁</td></tr></table><br/></div><div class=\"wandb-col\"><h3>Run summary:</h3><br/><table class=\"wandb\"><tr><td>accuracy</td><td>50.79</td></tr><tr><td>loss</td><td>1.12691</td></tr></table><br/></div></div>"
            ]
          },
          "metadata": {}
        },
        {
          "output_type": "display_data",
          "data": {
            "text/plain": [
              "<IPython.core.display.HTML object>"
            ],
            "text/html": [
              " View run <strong style=\"color:#cdcd00\">celestial-waterfall-5</strong> at: <a href='https://wandb.ai/21dcs024-national-institute-of-technology-hamirpur/dropout_experiments/runs/bneqfcfg' target=\"_blank\">https://wandb.ai/21dcs024-national-institute-of-technology-hamirpur/dropout_experiments/runs/bneqfcfg</a><br> View project at: <a href='https://wandb.ai/21dcs024-national-institute-of-technology-hamirpur/dropout_experiments' target=\"_blank\">https://wandb.ai/21dcs024-national-institute-of-technology-hamirpur/dropout_experiments</a><br>Synced 5 W&B file(s), 0 media file(s), 0 artifact file(s) and 0 other file(s)"
            ]
          },
          "metadata": {}
        },
        {
          "output_type": "display_data",
          "data": {
            "text/plain": [
              "<IPython.core.display.HTML object>"
            ],
            "text/html": [
              "Find logs at: <code>./wandb/run-20250217_161309-bneqfcfg/logs</code>"
            ]
          },
          "metadata": {}
        },
        {
          "output_type": "stream",
          "name": "stdout",
          "text": [
            "Files already downloaded and verified\n",
            "Files already downloaded and verified\n"
          ]
        },
        {
          "output_type": "display_data",
          "data": {
            "text/plain": [
              "<IPython.core.display.HTML object>"
            ],
            "text/html": [
              "Tracking run with wandb version 0.19.6"
            ]
          },
          "metadata": {}
        },
        {
          "output_type": "display_data",
          "data": {
            "text/plain": [
              "<IPython.core.display.HTML object>"
            ],
            "text/html": [
              "Run data is saved locally in <code>/content/wandb/run-20250217_161519-0ildrjul</code>"
            ]
          },
          "metadata": {}
        },
        {
          "output_type": "display_data",
          "data": {
            "text/plain": [
              "<IPython.core.display.HTML object>"
            ],
            "text/html": [
              "Syncing run <strong><a href='https://wandb.ai/21dcs024-national-institute-of-technology-hamirpur/dropout_experiments/runs/0ildrjul' target=\"_blank\">breezy-pine-6</a></strong> to <a href='https://wandb.ai/21dcs024-national-institute-of-technology-hamirpur/dropout_experiments' target=\"_blank\">Weights & Biases</a> (<a href='https://wandb.me/developer-guide' target=\"_blank\">docs</a>)<br>"
            ]
          },
          "metadata": {}
        },
        {
          "output_type": "display_data",
          "data": {
            "text/plain": [
              "<IPython.core.display.HTML object>"
            ],
            "text/html": [
              " View project at <a href='https://wandb.ai/21dcs024-national-institute-of-technology-hamirpur/dropout_experiments' target=\"_blank\">https://wandb.ai/21dcs024-national-institute-of-technology-hamirpur/dropout_experiments</a>"
            ]
          },
          "metadata": {}
        },
        {
          "output_type": "display_data",
          "data": {
            "text/plain": [
              "<IPython.core.display.HTML object>"
            ],
            "text/html": [
              " View run at <a href='https://wandb.ai/21dcs024-national-institute-of-technology-hamirpur/dropout_experiments/runs/0ildrjul' target=\"_blank\">https://wandb.ai/21dcs024-national-institute-of-technology-hamirpur/dropout_experiments/runs/0ildrjul</a>"
            ]
          },
          "metadata": {}
        },
        {
          "output_type": "display_data",
          "data": {
            "text/plain": [
              "<IPython.core.display.HTML object>"
            ],
            "text/html": []
          },
          "metadata": {}
        },
        {
          "output_type": "display_data",
          "data": {
            "text/plain": [
              "<IPython.core.display.HTML object>"
            ],
            "text/html": [
              "<br>    <style><br>        .wandb-row {<br>            display: flex;<br>            flex-direction: row;<br>            flex-wrap: wrap;<br>            justify-content: flex-start;<br>            width: 100%;<br>        }<br>        .wandb-col {<br>            display: flex;<br>            flex-direction: column;<br>            flex-basis: 100%;<br>            flex: 1;<br>            padding: 10px;<br>        }<br>    </style><br><div class=\"wandb-row\"><div class=\"wandb-col\"><h3>Run history:</h3><br/><table class=\"wandb\"><tr><td>accuracy</td><td>▁▃▄▅▆▆▇▇██</td></tr><tr><td>loss</td><td>▄▃▁▄▆▆█▂▅▁</td></tr></table><br/></div><div class=\"wandb-col\"><h3>Run summary:</h3><br/><table class=\"wandb\"><tr><td>accuracy</td><td>48.916</td></tr><tr><td>loss</td><td>1.25781</td></tr></table><br/></div></div>"
            ]
          },
          "metadata": {}
        },
        {
          "output_type": "display_data",
          "data": {
            "text/plain": [
              "<IPython.core.display.HTML object>"
            ],
            "text/html": [
              " View run <strong style=\"color:#cdcd00\">breezy-pine-6</strong> at: <a href='https://wandb.ai/21dcs024-national-institute-of-technology-hamirpur/dropout_experiments/runs/0ildrjul' target=\"_blank\">https://wandb.ai/21dcs024-national-institute-of-technology-hamirpur/dropout_experiments/runs/0ildrjul</a><br> View project at: <a href='https://wandb.ai/21dcs024-national-institute-of-technology-hamirpur/dropout_experiments' target=\"_blank\">https://wandb.ai/21dcs024-national-institute-of-technology-hamirpur/dropout_experiments</a><br>Synced 5 W&B file(s), 0 media file(s), 0 artifact file(s) and 0 other file(s)"
            ]
          },
          "metadata": {}
        },
        {
          "output_type": "display_data",
          "data": {
            "text/plain": [
              "<IPython.core.display.HTML object>"
            ],
            "text/html": [
              "Find logs at: <code>./wandb/run-20250217_161519-0ildrjul/logs</code>"
            ]
          },
          "metadata": {}
        },
        {
          "output_type": "stream",
          "name": "stdout",
          "text": [
            "Files already downloaded and verified\n",
            "Files already downloaded and verified\n"
          ]
        },
        {
          "output_type": "display_data",
          "data": {
            "text/plain": [
              "<IPython.core.display.HTML object>"
            ],
            "text/html": [
              "Tracking run with wandb version 0.19.6"
            ]
          },
          "metadata": {}
        },
        {
          "output_type": "display_data",
          "data": {
            "text/plain": [
              "<IPython.core.display.HTML object>"
            ],
            "text/html": [
              "Run data is saved locally in <code>/content/wandb/run-20250217_161727-myrhqemt</code>"
            ]
          },
          "metadata": {}
        },
        {
          "output_type": "display_data",
          "data": {
            "text/plain": [
              "<IPython.core.display.HTML object>"
            ],
            "text/html": [
              "Syncing run <strong><a href='https://wandb.ai/21dcs024-national-institute-of-technology-hamirpur/dropout_experiments/runs/myrhqemt' target=\"_blank\">robust-bird-7</a></strong> to <a href='https://wandb.ai/21dcs024-national-institute-of-technology-hamirpur/dropout_experiments' target=\"_blank\">Weights & Biases</a> (<a href='https://wandb.me/developer-guide' target=\"_blank\">docs</a>)<br>"
            ]
          },
          "metadata": {}
        },
        {
          "output_type": "display_data",
          "data": {
            "text/plain": [
              "<IPython.core.display.HTML object>"
            ],
            "text/html": [
              " View project at <a href='https://wandb.ai/21dcs024-national-institute-of-technology-hamirpur/dropout_experiments' target=\"_blank\">https://wandb.ai/21dcs024-national-institute-of-technology-hamirpur/dropout_experiments</a>"
            ]
          },
          "metadata": {}
        },
        {
          "output_type": "display_data",
          "data": {
            "text/plain": [
              "<IPython.core.display.HTML object>"
            ],
            "text/html": [
              " View run at <a href='https://wandb.ai/21dcs024-national-institute-of-technology-hamirpur/dropout_experiments/runs/myrhqemt' target=\"_blank\">https://wandb.ai/21dcs024-national-institute-of-technology-hamirpur/dropout_experiments/runs/myrhqemt</a>"
            ]
          },
          "metadata": {}
        },
        {
          "output_type": "display_data",
          "data": {
            "text/plain": [
              "<IPython.core.display.HTML object>"
            ],
            "text/html": []
          },
          "metadata": {}
        },
        {
          "output_type": "display_data",
          "data": {
            "text/plain": [
              "<IPython.core.display.HTML object>"
            ],
            "text/html": [
              "<br>    <style><br>        .wandb-row {<br>            display: flex;<br>            flex-direction: row;<br>            flex-wrap: wrap;<br>            justify-content: flex-start;<br>            width: 100%;<br>        }<br>        .wandb-col {<br>            display: flex;<br>            flex-direction: column;<br>            flex-basis: 100%;<br>            flex: 1;<br>            padding: 10px;<br>        }<br>    </style><br><div class=\"wandb-row\"><div class=\"wandb-col\"><h3>Run history:</h3><br/><table class=\"wandb\"><tr><td>accuracy</td><td>▁▄▅▆▆▇▇▇██</td></tr><tr><td>loss</td><td>█▂▄▄▂▅▇▁▅▁</td></tr></table><br/></div><div class=\"wandb-col\"><h3>Run summary:</h3><br/><table class=\"wandb\"><tr><td>accuracy</td><td>40.442</td></tr><tr><td>loss</td><td>1.5026</td></tr></table><br/></div></div>"
            ]
          },
          "metadata": {}
        },
        {
          "output_type": "display_data",
          "data": {
            "text/plain": [
              "<IPython.core.display.HTML object>"
            ],
            "text/html": [
              " View run <strong style=\"color:#cdcd00\">robust-bird-7</strong> at: <a href='https://wandb.ai/21dcs024-national-institute-of-technology-hamirpur/dropout_experiments/runs/myrhqemt' target=\"_blank\">https://wandb.ai/21dcs024-national-institute-of-technology-hamirpur/dropout_experiments/runs/myrhqemt</a><br> View project at: <a href='https://wandb.ai/21dcs024-national-institute-of-technology-hamirpur/dropout_experiments' target=\"_blank\">https://wandb.ai/21dcs024-national-institute-of-technology-hamirpur/dropout_experiments</a><br>Synced 5 W&B file(s), 0 media file(s), 0 artifact file(s) and 0 other file(s)"
            ]
          },
          "metadata": {}
        },
        {
          "output_type": "display_data",
          "data": {
            "text/plain": [
              "<IPython.core.display.HTML object>"
            ],
            "text/html": [
              "Find logs at: <code>./wandb/run-20250217_161727-myrhqemt/logs</code>"
            ]
          },
          "metadata": {}
        },
        {
          "output_type": "stream",
          "name": "stdout",
          "text": [
            "Files already downloaded and verified\n",
            "Files already downloaded and verified\n"
          ]
        },
        {
          "output_type": "display_data",
          "data": {
            "text/plain": [
              "<IPython.core.display.HTML object>"
            ],
            "text/html": [
              "Tracking run with wandb version 0.19.6"
            ]
          },
          "metadata": {}
        },
        {
          "output_type": "display_data",
          "data": {
            "text/plain": [
              "<IPython.core.display.HTML object>"
            ],
            "text/html": [
              "Run data is saved locally in <code>/content/wandb/run-20250217_161939-udu04o19</code>"
            ]
          },
          "metadata": {}
        },
        {
          "output_type": "display_data",
          "data": {
            "text/plain": [
              "<IPython.core.display.HTML object>"
            ],
            "text/html": [
              "Syncing run <strong><a href='https://wandb.ai/21dcs024-national-institute-of-technology-hamirpur/dropout_experiments/runs/udu04o19' target=\"_blank\">glamorous-resonance-8</a></strong> to <a href='https://wandb.ai/21dcs024-national-institute-of-technology-hamirpur/dropout_experiments' target=\"_blank\">Weights & Biases</a> (<a href='https://wandb.me/developer-guide' target=\"_blank\">docs</a>)<br>"
            ]
          },
          "metadata": {}
        },
        {
          "output_type": "display_data",
          "data": {
            "text/plain": [
              "<IPython.core.display.HTML object>"
            ],
            "text/html": [
              " View project at <a href='https://wandb.ai/21dcs024-national-institute-of-technology-hamirpur/dropout_experiments' target=\"_blank\">https://wandb.ai/21dcs024-national-institute-of-technology-hamirpur/dropout_experiments</a>"
            ]
          },
          "metadata": {}
        },
        {
          "output_type": "display_data",
          "data": {
            "text/plain": [
              "<IPython.core.display.HTML object>"
            ],
            "text/html": [
              " View run at <a href='https://wandb.ai/21dcs024-national-institute-of-technology-hamirpur/dropout_experiments/runs/udu04o19' target=\"_blank\">https://wandb.ai/21dcs024-national-institute-of-technology-hamirpur/dropout_experiments/runs/udu04o19</a>"
            ]
          },
          "metadata": {}
        },
        {
          "output_type": "display_data",
          "data": {
            "text/plain": [
              "<IPython.core.display.HTML object>"
            ],
            "text/html": []
          },
          "metadata": {}
        },
        {
          "output_type": "display_data",
          "data": {
            "text/plain": [
              "<IPython.core.display.HTML object>"
            ],
            "text/html": [
              "<br>    <style><br>        .wandb-row {<br>            display: flex;<br>            flex-direction: row;<br>            flex-wrap: wrap;<br>            justify-content: flex-start;<br>            width: 100%;<br>        }<br>        .wandb-col {<br>            display: flex;<br>            flex-direction: column;<br>            flex-basis: 100%;<br>            flex: 1;<br>            padding: 10px;<br>        }<br>    </style><br><div class=\"wandb-row\"><div class=\"wandb-col\"><h3>Run history:</h3><br/><table class=\"wandb\"><tr><td>accuracy</td><td>▁▄▅▅▆▆▇▇██</td></tr><tr><td>loss</td><td>▆▃█▆▆▆▆▁▄▂</td></tr></table><br/></div><div class=\"wandb-col\"><h3>Run summary:</h3><br/><table class=\"wandb\"><tr><td>accuracy</td><td>57.942</td></tr><tr><td>loss</td><td>1.18524</td></tr></table><br/></div></div>"
            ]
          },
          "metadata": {}
        },
        {
          "output_type": "display_data",
          "data": {
            "text/plain": [
              "<IPython.core.display.HTML object>"
            ],
            "text/html": [
              " View run <strong style=\"color:#cdcd00\">glamorous-resonance-8</strong> at: <a href='https://wandb.ai/21dcs024-national-institute-of-technology-hamirpur/dropout_experiments/runs/udu04o19' target=\"_blank\">https://wandb.ai/21dcs024-national-institute-of-technology-hamirpur/dropout_experiments/runs/udu04o19</a><br> View project at: <a href='https://wandb.ai/21dcs024-national-institute-of-technology-hamirpur/dropout_experiments' target=\"_blank\">https://wandb.ai/21dcs024-national-institute-of-technology-hamirpur/dropout_experiments</a><br>Synced 5 W&B file(s), 0 media file(s), 0 artifact file(s) and 0 other file(s)"
            ]
          },
          "metadata": {}
        },
        {
          "output_type": "display_data",
          "data": {
            "text/plain": [
              "<IPython.core.display.HTML object>"
            ],
            "text/html": [
              "Find logs at: <code>./wandb/run-20250217_161939-udu04o19/logs</code>"
            ]
          },
          "metadata": {}
        }
      ],
      "source": [
        "# Run experiments\n",
        "for dataset in [\"MNIST\", \"CIFAR10\"]:\n",
        "    for model_type, activation, layers, units in [(\"StandardNeuralNet\", \"Logistic\", 2, 100),\n",
        "                                                  (\"StandardNeuralNet\", \"Logistic\", 2, 800),\n",
        "                                                  (\"DropoutNN\", \"Logistic\", 3, 1024),\n",
        "                                                  (\"DropoutNN\", \"ReLU\", 3, 1024)]:\n",
        "        train_network(dataset, model_type, activation, units, dropout_rate=0.5, learning_rate=0.01, momentum=0.9)"
      ]
    },
    {
      "cell_type": "markdown",
      "source": [
        "**MNIST:**\n",
        "\n",
        "* **Best Run:** earnest-snow-5\n",
        "* **Accuracy:** 97.35%\n",
        "* **Activation:** ReLU\n",
        "* **Model Type:** DropoutNN\n",
        "* **Hidden Units:** 1024\n",
        "* **Dropout Rate:** 0.5\n",
        "* **Learning Rate:** 0.01\n",
        "* **Momentum:** 0.9\n",
        "\n",
        "**Analysis:** This run achieves the highest accuracy on the MNIST dataset.  The use of ReLU activation, a larger number of hidden units (1024), and the DropoutNN architecture likely contributed to its strong performance. Dropout helps prevent overfitting, which is crucial for good generalization performance.\n",
        "\n",
        "\n",
        "**CIFAR10:**\n",
        "\n",
        "* **Best Run:** distinctive-lion-9\n",
        "* **Accuracy:** 57.91%\n",
        "* **Activation:** ReLU\n",
        "* **Model Type:** DropoutNN\n",
        "* **Hidden Units:** 1024\n",
        "* **Dropout Rate:** 0.5\n",
        "* **Learning Rate:** 0.01\n",
        "* **Momentum:** 0.9\n",
        "\n",
        "**Analysis:**  While this run has the highest accuracy for CIFAR10 within the provided data, 57.91% is relatively low. CIFAR10 is a more complex dataset than MNIST, and these models may be underfitting or require further tuning.  The fact that the ReLU activation and DropoutNN model also performed best here suggests these are good starting points.\n"
      ],
      "metadata": {
        "id": "pdlcYM-tU0Go"
      },
      "id": "pdlcYM-tU0Go"
    },
    {
      "cell_type": "markdown",
      "source": [
        "#### 1. **What happens if you change the dropout probabilities for different layers?**\n",
        "   - Dropout at higher rates (e.g., 0.5) reduces overfitting and forces the network to generalize better, leading to lower training accuracy but possibly higher test accuracy.\n",
        "   - For example, **\"distinctive-lion-9\"** and **\"easy-frost-8\"** use a dropout rate of 0.5, and the accuracy is lower (57.91% and 40.51% respectively) compared to models without dropout.\n",
        "   - **Dropout Rate 0.5** seems effective in controlling overfitting on datasets like CIFAR10, with reduced variance across epochs.\n",
        "\n",
        "#### 2. **Increase the number of epochs and compare dropout with no dropout:**\n",
        "   - Training with dropout (e.g., **\"distinctive-lion-9\"**) prevents the model from overfitting, even over an increased number of epochs.\n",
        "   - Models with no dropout (e.g., **\"rich-fire-2\"**) might show higher accuracy but risk overfitting, as indicated by the performance of models without dropout on MNIST (e.g., **\"rich-fire-2\"** with 96.32% accuracy) compared to models with dropout.\n",
        "\n",
        "#### 3. **Variance of activations with and without dropout:**\n",
        "   - The variance of activations in hidden layers is generally reduced when dropout is applied because it forces the model to rely on multiple paths.\n",
        "   - Models with dropout (e.g., **\"distinctive-lion-9\"**) would show lower variance of activations, aiding in regularization. However, this variance would be higher in models without dropout (e.g., **\"rich-fire-2\"**) due to potential overfitting.\n",
        "   - The variance likely evolves less erratically when dropout is applied, indicating smoother convergence.\n",
        "\n",
        "#### 4. **Why is dropout not used at test time?**\n",
        "   - Dropout is a regularization technique, and its stochastic nature can cause fluctuating test results, leading to inaccurate predictions.\n",
        "   - At test time, the model uses all its parameters to provide deterministic outputs, thus eliminating the noise introduced by dropout during training.\n",
        "   - The given data does not show test-time dropout usage, aligning with this principle.\n",
        "\n",
        "#### 5. **Compare dropout with weight decay:**\n",
        "   - **Dropout**: Reduces overfitting by randomly \"turning off\" units, forcing the network to rely on different subsets of neurons.\n",
        "   - **Weight Decay**: Penalizes large weights, constraining the model to simpler solutions and avoiding overfitting.\n",
        "   - Combining both (e.g., in **\"distinctive-lion-9\"** with dropout and weight decay) could result in diminishing returns if both are applied too aggressively.\n",
        "   - However, in some cases, using both techniques simultaneously helps balance the need for reducing model complexity and avoiding overfitting.\n",
        "\n",
        "#### 6. **Dropout on individual weights instead of activations:**\n",
        "   - Dropout on activations is more effective in preventing overfitting by forcing the model to learn more robust features. Applying dropout to weights might disrupt the network's learning process, as weights define the strength of the connections between neurons.\n",
        "   - The results of the current experiments do not directly involve dropout on weights, but based on theory and practice, dropout on activations will yield better generalization.\n"
      ],
      "metadata": {
        "id": "j2WvmUsWWwME"
      },
      "id": "j2WvmUsWWwME"
    },
    {
      "cell_type": "code",
      "source": [],
      "metadata": {
        "id": "qmXJoIpvWvoZ"
      },
      "id": "qmXJoIpvWvoZ",
      "execution_count": null,
      "outputs": []
    }
  ],
  "metadata": {
    "kernelspec": {
      "display_name": "Python 3",
      "name": "python3"
    },
    "language_info": {
      "codemirror_mode": {
        "name": "ipython",
        "version": 3
      },
      "file_extension": ".py",
      "mimetype": "text/x-python",
      "name": "python",
      "nbconvert_exporter": "python",
      "pygments_lexer": "ipython3",
      "version": "3.10.14"
    },
    "colab": {
      "provenance": [],
      "gpuType": "T4",
      "include_colab_link": true
    },
    "accelerator": "GPU"
  },
  "nbformat": 4,
  "nbformat_minor": 5
}